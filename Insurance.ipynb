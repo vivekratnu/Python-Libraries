{
  "nbformat": 4,
  "nbformat_minor": 0,
  "metadata": {
    "colab": {
      "provenance": []
    },
    "kernelspec": {
      "name": "python3",
      "display_name": "Python 3"
    },
    "language_info": {
      "name": "python"
    }
  },
  "cells": [
    {
      "cell_type": "markdown",
      "source": [
        "# **Insurance Claim Analysis**"
      ],
      "metadata": {
        "id": "1FB3ifgjIgTF"
      }
    },
    {
      "cell_type": "markdown",
      "source": [
        "## **Importing libraries**"
      ],
      "metadata": {
        "id": "XepXLaKgJIeD"
      }
    },
    {
      "cell_type": "code",
      "execution_count": 1,
      "metadata": {
        "id": "tt1x04gZGZr5"
      },
      "outputs": [],
      "source": [
        "import pandas as pd\n",
        "import numpy as np\n",
        "import matplotlib.pyplot as plt\n",
        "import seaborn as sns\n",
        "import plotly.express as px"
      ]
    },
    {
      "cell_type": "code",
      "source": [
        "from google.colab import drive"
      ],
      "metadata": {
        "id": "RuFOX4snG22d"
      },
      "execution_count": 2,
      "outputs": []
    },
    {
      "cell_type": "markdown",
      "source": [
        "## **Loading Dataset**"
      ],
      "metadata": {
        "id": "WVrOTMq0Vpk5"
      }
    },
    {
      "cell_type": "code",
      "source": [
        "df = pd.read_csv(\"/content/drive/MyDrive/Insurance Data/insurance_data.csv\")"
      ],
      "metadata": {
        "id": "ObfKwjgsH1Me"
      },
      "execution_count": 3,
      "outputs": []
    },
    {
      "cell_type": "code",
      "source": [
        "df"
      ],
      "metadata": {
        "colab": {
          "base_uri": "https://localhost:8080/",
          "height": 424
        },
        "id": "6fbLGLWMZ3vW",
        "outputId": "7e45955f-593d-4dd4-ccbe-47cbadba3594"
      },
      "execution_count": 4,
      "outputs": [
        {
          "output_type": "execute_result",
          "data": {
            "text/plain": [
              "      index  PatientID   age  gender   bmi  bloodpressure diabetic  children  \\\n",
              "0         0          1  39.0    male  23.2             91      Yes         0   \n",
              "1         1          2  24.0    male  30.1             87       No         0   \n",
              "2         2          3   NaN    male  33.3             82      Yes         0   \n",
              "3         3          4   NaN    male  33.7             80       No         0   \n",
              "4         4          5   NaN    male  34.1            100       No         0   \n",
              "...     ...        ...   ...     ...   ...            ...      ...       ...   \n",
              "1335   1335       1336  44.0  female  35.5             88      Yes         0   \n",
              "1336   1336       1337  59.0  female  38.1            120       No         1   \n",
              "1337   1337       1338  30.0    male  34.5             91      Yes         3   \n",
              "1338   1338       1339  37.0    male  30.4            106       No         0   \n",
              "1339   1339       1340  30.0  female  47.4            101       No         0   \n",
              "\n",
              "     smoker     region     claim  \n",
              "0        No  southeast   1121.87  \n",
              "1        No  southeast   1131.51  \n",
              "2        No  southeast   1135.94  \n",
              "3        No  northwest   1136.40  \n",
              "4        No  northwest   1137.01  \n",
              "...     ...        ...       ...  \n",
              "1335    Yes  northwest  55135.40  \n",
              "1336    Yes  northeast  58571.07  \n",
              "1337    Yes  northwest  60021.40  \n",
              "1338    Yes  southeast  62592.87  \n",
              "1339    Yes  southeast  63770.43  \n",
              "\n",
              "[1340 rows x 11 columns]"
            ],
            "text/html": [
              "\n",
              "\n",
              "  <div id=\"df-f31b2821-2f28-49f6-9c10-2eed1655a15a\">\n",
              "    <div class=\"colab-df-container\">\n",
              "      <div>\n",
              "<style scoped>\n",
              "    .dataframe tbody tr th:only-of-type {\n",
              "        vertical-align: middle;\n",
              "    }\n",
              "\n",
              "    .dataframe tbody tr th {\n",
              "        vertical-align: top;\n",
              "    }\n",
              "\n",
              "    .dataframe thead th {\n",
              "        text-align: right;\n",
              "    }\n",
              "</style>\n",
              "<table border=\"1\" class=\"dataframe\">\n",
              "  <thead>\n",
              "    <tr style=\"text-align: right;\">\n",
              "      <th></th>\n",
              "      <th>index</th>\n",
              "      <th>PatientID</th>\n",
              "      <th>age</th>\n",
              "      <th>gender</th>\n",
              "      <th>bmi</th>\n",
              "      <th>bloodpressure</th>\n",
              "      <th>diabetic</th>\n",
              "      <th>children</th>\n",
              "      <th>smoker</th>\n",
              "      <th>region</th>\n",
              "      <th>claim</th>\n",
              "    </tr>\n",
              "  </thead>\n",
              "  <tbody>\n",
              "    <tr>\n",
              "      <th>0</th>\n",
              "      <td>0</td>\n",
              "      <td>1</td>\n",
              "      <td>39.0</td>\n",
              "      <td>male</td>\n",
              "      <td>23.2</td>\n",
              "      <td>91</td>\n",
              "      <td>Yes</td>\n",
              "      <td>0</td>\n",
              "      <td>No</td>\n",
              "      <td>southeast</td>\n",
              "      <td>1121.87</td>\n",
              "    </tr>\n",
              "    <tr>\n",
              "      <th>1</th>\n",
              "      <td>1</td>\n",
              "      <td>2</td>\n",
              "      <td>24.0</td>\n",
              "      <td>male</td>\n",
              "      <td>30.1</td>\n",
              "      <td>87</td>\n",
              "      <td>No</td>\n",
              "      <td>0</td>\n",
              "      <td>No</td>\n",
              "      <td>southeast</td>\n",
              "      <td>1131.51</td>\n",
              "    </tr>\n",
              "    <tr>\n",
              "      <th>2</th>\n",
              "      <td>2</td>\n",
              "      <td>3</td>\n",
              "      <td>NaN</td>\n",
              "      <td>male</td>\n",
              "      <td>33.3</td>\n",
              "      <td>82</td>\n",
              "      <td>Yes</td>\n",
              "      <td>0</td>\n",
              "      <td>No</td>\n",
              "      <td>southeast</td>\n",
              "      <td>1135.94</td>\n",
              "    </tr>\n",
              "    <tr>\n",
              "      <th>3</th>\n",
              "      <td>3</td>\n",
              "      <td>4</td>\n",
              "      <td>NaN</td>\n",
              "      <td>male</td>\n",
              "      <td>33.7</td>\n",
              "      <td>80</td>\n",
              "      <td>No</td>\n",
              "      <td>0</td>\n",
              "      <td>No</td>\n",
              "      <td>northwest</td>\n",
              "      <td>1136.40</td>\n",
              "    </tr>\n",
              "    <tr>\n",
              "      <th>4</th>\n",
              "      <td>4</td>\n",
              "      <td>5</td>\n",
              "      <td>NaN</td>\n",
              "      <td>male</td>\n",
              "      <td>34.1</td>\n",
              "      <td>100</td>\n",
              "      <td>No</td>\n",
              "      <td>0</td>\n",
              "      <td>No</td>\n",
              "      <td>northwest</td>\n",
              "      <td>1137.01</td>\n",
              "    </tr>\n",
              "    <tr>\n",
              "      <th>...</th>\n",
              "      <td>...</td>\n",
              "      <td>...</td>\n",
              "      <td>...</td>\n",
              "      <td>...</td>\n",
              "      <td>...</td>\n",
              "      <td>...</td>\n",
              "      <td>...</td>\n",
              "      <td>...</td>\n",
              "      <td>...</td>\n",
              "      <td>...</td>\n",
              "      <td>...</td>\n",
              "    </tr>\n",
              "    <tr>\n",
              "      <th>1335</th>\n",
              "      <td>1335</td>\n",
              "      <td>1336</td>\n",
              "      <td>44.0</td>\n",
              "      <td>female</td>\n",
              "      <td>35.5</td>\n",
              "      <td>88</td>\n",
              "      <td>Yes</td>\n",
              "      <td>0</td>\n",
              "      <td>Yes</td>\n",
              "      <td>northwest</td>\n",
              "      <td>55135.40</td>\n",
              "    </tr>\n",
              "    <tr>\n",
              "      <th>1336</th>\n",
              "      <td>1336</td>\n",
              "      <td>1337</td>\n",
              "      <td>59.0</td>\n",
              "      <td>female</td>\n",
              "      <td>38.1</td>\n",
              "      <td>120</td>\n",
              "      <td>No</td>\n",
              "      <td>1</td>\n",
              "      <td>Yes</td>\n",
              "      <td>northeast</td>\n",
              "      <td>58571.07</td>\n",
              "    </tr>\n",
              "    <tr>\n",
              "      <th>1337</th>\n",
              "      <td>1337</td>\n",
              "      <td>1338</td>\n",
              "      <td>30.0</td>\n",
              "      <td>male</td>\n",
              "      <td>34.5</td>\n",
              "      <td>91</td>\n",
              "      <td>Yes</td>\n",
              "      <td>3</td>\n",
              "      <td>Yes</td>\n",
              "      <td>northwest</td>\n",
              "      <td>60021.40</td>\n",
              "    </tr>\n",
              "    <tr>\n",
              "      <th>1338</th>\n",
              "      <td>1338</td>\n",
              "      <td>1339</td>\n",
              "      <td>37.0</td>\n",
              "      <td>male</td>\n",
              "      <td>30.4</td>\n",
              "      <td>106</td>\n",
              "      <td>No</td>\n",
              "      <td>0</td>\n",
              "      <td>Yes</td>\n",
              "      <td>southeast</td>\n",
              "      <td>62592.87</td>\n",
              "    </tr>\n",
              "    <tr>\n",
              "      <th>1339</th>\n",
              "      <td>1339</td>\n",
              "      <td>1340</td>\n",
              "      <td>30.0</td>\n",
              "      <td>female</td>\n",
              "      <td>47.4</td>\n",
              "      <td>101</td>\n",
              "      <td>No</td>\n",
              "      <td>0</td>\n",
              "      <td>Yes</td>\n",
              "      <td>southeast</td>\n",
              "      <td>63770.43</td>\n",
              "    </tr>\n",
              "  </tbody>\n",
              "</table>\n",
              "<p>1340 rows × 11 columns</p>\n",
              "</div>\n",
              "      <button class=\"colab-df-convert\" onclick=\"convertToInteractive('df-f31b2821-2f28-49f6-9c10-2eed1655a15a')\"\n",
              "              title=\"Convert this dataframe to an interactive table.\"\n",
              "              style=\"display:none;\">\n",
              "\n",
              "  <svg xmlns=\"http://www.w3.org/2000/svg\" height=\"24px\"viewBox=\"0 0 24 24\"\n",
              "       width=\"24px\">\n",
              "    <path d=\"M0 0h24v24H0V0z\" fill=\"none\"/>\n",
              "    <path d=\"M18.56 5.44l.94 2.06.94-2.06 2.06-.94-2.06-.94-.94-2.06-.94 2.06-2.06.94zm-11 1L8.5 8.5l.94-2.06 2.06-.94-2.06-.94L8.5 2.5l-.94 2.06-2.06.94zm10 10l.94 2.06.94-2.06 2.06-.94-2.06-.94-.94-2.06-.94 2.06-2.06.94z\"/><path d=\"M17.41 7.96l-1.37-1.37c-.4-.4-.92-.59-1.43-.59-.52 0-1.04.2-1.43.59L10.3 9.45l-7.72 7.72c-.78.78-.78 2.05 0 2.83L4 21.41c.39.39.9.59 1.41.59.51 0 1.02-.2 1.41-.59l7.78-7.78 2.81-2.81c.8-.78.8-2.07 0-2.86zM5.41 20L4 18.59l7.72-7.72 1.47 1.35L5.41 20z\"/>\n",
              "  </svg>\n",
              "      </button>\n",
              "\n",
              "\n",
              "\n",
              "    <div id=\"df-09bfa9b3-3a38-410f-b61e-c438499644dc\">\n",
              "      <button class=\"colab-df-quickchart\" onclick=\"quickchart('df-09bfa9b3-3a38-410f-b61e-c438499644dc')\"\n",
              "              title=\"Suggest charts.\"\n",
              "              style=\"display:none;\">\n",
              "\n",
              "<svg xmlns=\"http://www.w3.org/2000/svg\" height=\"24px\"viewBox=\"0 0 24 24\"\n",
              "     width=\"24px\">\n",
              "    <g>\n",
              "        <path d=\"M19 3H5c-1.1 0-2 .9-2 2v14c0 1.1.9 2 2 2h14c1.1 0 2-.9 2-2V5c0-1.1-.9-2-2-2zM9 17H7v-7h2v7zm4 0h-2V7h2v10zm4 0h-2v-4h2v4z\"/>\n",
              "    </g>\n",
              "</svg>\n",
              "      </button>\n",
              "    </div>\n",
              "\n",
              "<style>\n",
              "  .colab-df-quickchart {\n",
              "    background-color: #E8F0FE;\n",
              "    border: none;\n",
              "    border-radius: 50%;\n",
              "    cursor: pointer;\n",
              "    display: none;\n",
              "    fill: #1967D2;\n",
              "    height: 32px;\n",
              "    padding: 0 0 0 0;\n",
              "    width: 32px;\n",
              "  }\n",
              "\n",
              "  .colab-df-quickchart:hover {\n",
              "    background-color: #E2EBFA;\n",
              "    box-shadow: 0px 1px 2px rgba(60, 64, 67, 0.3), 0px 1px 3px 1px rgba(60, 64, 67, 0.15);\n",
              "    fill: #174EA6;\n",
              "  }\n",
              "\n",
              "  [theme=dark] .colab-df-quickchart {\n",
              "    background-color: #3B4455;\n",
              "    fill: #D2E3FC;\n",
              "  }\n",
              "\n",
              "  [theme=dark] .colab-df-quickchart:hover {\n",
              "    background-color: #434B5C;\n",
              "    box-shadow: 0px 1px 3px 1px rgba(0, 0, 0, 0.15);\n",
              "    filter: drop-shadow(0px 1px 2px rgba(0, 0, 0, 0.3));\n",
              "    fill: #FFFFFF;\n",
              "  }\n",
              "</style>\n",
              "\n",
              "    <script>\n",
              "      async function quickchart(key) {\n",
              "        const containerElement = document.querySelector('#' + key);\n",
              "        const charts = await google.colab.kernel.invokeFunction(\n",
              "            'suggestCharts', [key], {});\n",
              "      }\n",
              "    </script>\n",
              "\n",
              "      <script>\n",
              "\n",
              "function displayQuickchartButton(domScope) {\n",
              "  let quickchartButtonEl =\n",
              "    domScope.querySelector('#df-09bfa9b3-3a38-410f-b61e-c438499644dc button.colab-df-quickchart');\n",
              "  quickchartButtonEl.style.display =\n",
              "    google.colab.kernel.accessAllowed ? 'block' : 'none';\n",
              "}\n",
              "\n",
              "        displayQuickchartButton(document);\n",
              "      </script>\n",
              "      <style>\n",
              "    .colab-df-container {\n",
              "      display:flex;\n",
              "      flex-wrap:wrap;\n",
              "      gap: 12px;\n",
              "    }\n",
              "\n",
              "    .colab-df-convert {\n",
              "      background-color: #E8F0FE;\n",
              "      border: none;\n",
              "      border-radius: 50%;\n",
              "      cursor: pointer;\n",
              "      display: none;\n",
              "      fill: #1967D2;\n",
              "      height: 32px;\n",
              "      padding: 0 0 0 0;\n",
              "      width: 32px;\n",
              "    }\n",
              "\n",
              "    .colab-df-convert:hover {\n",
              "      background-color: #E2EBFA;\n",
              "      box-shadow: 0px 1px 2px rgba(60, 64, 67, 0.3), 0px 1px 3px 1px rgba(60, 64, 67, 0.15);\n",
              "      fill: #174EA6;\n",
              "    }\n",
              "\n",
              "    [theme=dark] .colab-df-convert {\n",
              "      background-color: #3B4455;\n",
              "      fill: #D2E3FC;\n",
              "    }\n",
              "\n",
              "    [theme=dark] .colab-df-convert:hover {\n",
              "      background-color: #434B5C;\n",
              "      box-shadow: 0px 1px 3px 1px rgba(0, 0, 0, 0.15);\n",
              "      filter: drop-shadow(0px 1px 2px rgba(0, 0, 0, 0.3));\n",
              "      fill: #FFFFFF;\n",
              "    }\n",
              "  </style>\n",
              "\n",
              "      <script>\n",
              "        const buttonEl =\n",
              "          document.querySelector('#df-f31b2821-2f28-49f6-9c10-2eed1655a15a button.colab-df-convert');\n",
              "        buttonEl.style.display =\n",
              "          google.colab.kernel.accessAllowed ? 'block' : 'none';\n",
              "\n",
              "        async function convertToInteractive(key) {\n",
              "          const element = document.querySelector('#df-f31b2821-2f28-49f6-9c10-2eed1655a15a');\n",
              "          const dataTable =\n",
              "            await google.colab.kernel.invokeFunction('convertToInteractive',\n",
              "                                                     [key], {});\n",
              "          if (!dataTable) return;\n",
              "\n",
              "          const docLinkHtml = 'Like what you see? Visit the ' +\n",
              "            '<a target=\"_blank\" href=https://colab.research.google.com/notebooks/data_table.ipynb>data table notebook</a>'\n",
              "            + ' to learn more about interactive tables.';\n",
              "          element.innerHTML = '';\n",
              "          dataTable['output_type'] = 'display_data';\n",
              "          await google.colab.output.renderOutput(dataTable, element);\n",
              "          const docLink = document.createElement('div');\n",
              "          docLink.innerHTML = docLinkHtml;\n",
              "          element.appendChild(docLink);\n",
              "        }\n",
              "      </script>\n",
              "    </div>\n",
              "  </div>\n"
            ]
          },
          "metadata": {},
          "execution_count": 4
        }
      ]
    },
    {
      "cell_type": "code",
      "source": [
        "df.head()"
      ],
      "metadata": {
        "colab": {
          "base_uri": "https://localhost:8080/",
          "height": 206
        },
        "id": "1VOm-RrgH9Pa",
        "outputId": "dc2e5fbc-19e1-4bfd-ab5c-294a400b1687"
      },
      "execution_count": 5,
      "outputs": [
        {
          "output_type": "execute_result",
          "data": {
            "text/plain": [
              "   index  PatientID   age gender   bmi  bloodpressure diabetic  children  \\\n",
              "0      0          1  39.0   male  23.2             91      Yes         0   \n",
              "1      1          2  24.0   male  30.1             87       No         0   \n",
              "2      2          3   NaN   male  33.3             82      Yes         0   \n",
              "3      3          4   NaN   male  33.7             80       No         0   \n",
              "4      4          5   NaN   male  34.1            100       No         0   \n",
              "\n",
              "  smoker     region    claim  \n",
              "0     No  southeast  1121.87  \n",
              "1     No  southeast  1131.51  \n",
              "2     No  southeast  1135.94  \n",
              "3     No  northwest  1136.40  \n",
              "4     No  northwest  1137.01  "
            ],
            "text/html": [
              "\n",
              "\n",
              "  <div id=\"df-dda29bf1-67bf-4df8-b367-f70d2030a6fa\">\n",
              "    <div class=\"colab-df-container\">\n",
              "      <div>\n",
              "<style scoped>\n",
              "    .dataframe tbody tr th:only-of-type {\n",
              "        vertical-align: middle;\n",
              "    }\n",
              "\n",
              "    .dataframe tbody tr th {\n",
              "        vertical-align: top;\n",
              "    }\n",
              "\n",
              "    .dataframe thead th {\n",
              "        text-align: right;\n",
              "    }\n",
              "</style>\n",
              "<table border=\"1\" class=\"dataframe\">\n",
              "  <thead>\n",
              "    <tr style=\"text-align: right;\">\n",
              "      <th></th>\n",
              "      <th>index</th>\n",
              "      <th>PatientID</th>\n",
              "      <th>age</th>\n",
              "      <th>gender</th>\n",
              "      <th>bmi</th>\n",
              "      <th>bloodpressure</th>\n",
              "      <th>diabetic</th>\n",
              "      <th>children</th>\n",
              "      <th>smoker</th>\n",
              "      <th>region</th>\n",
              "      <th>claim</th>\n",
              "    </tr>\n",
              "  </thead>\n",
              "  <tbody>\n",
              "    <tr>\n",
              "      <th>0</th>\n",
              "      <td>0</td>\n",
              "      <td>1</td>\n",
              "      <td>39.0</td>\n",
              "      <td>male</td>\n",
              "      <td>23.2</td>\n",
              "      <td>91</td>\n",
              "      <td>Yes</td>\n",
              "      <td>0</td>\n",
              "      <td>No</td>\n",
              "      <td>southeast</td>\n",
              "      <td>1121.87</td>\n",
              "    </tr>\n",
              "    <tr>\n",
              "      <th>1</th>\n",
              "      <td>1</td>\n",
              "      <td>2</td>\n",
              "      <td>24.0</td>\n",
              "      <td>male</td>\n",
              "      <td>30.1</td>\n",
              "      <td>87</td>\n",
              "      <td>No</td>\n",
              "      <td>0</td>\n",
              "      <td>No</td>\n",
              "      <td>southeast</td>\n",
              "      <td>1131.51</td>\n",
              "    </tr>\n",
              "    <tr>\n",
              "      <th>2</th>\n",
              "      <td>2</td>\n",
              "      <td>3</td>\n",
              "      <td>NaN</td>\n",
              "      <td>male</td>\n",
              "      <td>33.3</td>\n",
              "      <td>82</td>\n",
              "      <td>Yes</td>\n",
              "      <td>0</td>\n",
              "      <td>No</td>\n",
              "      <td>southeast</td>\n",
              "      <td>1135.94</td>\n",
              "    </tr>\n",
              "    <tr>\n",
              "      <th>3</th>\n",
              "      <td>3</td>\n",
              "      <td>4</td>\n",
              "      <td>NaN</td>\n",
              "      <td>male</td>\n",
              "      <td>33.7</td>\n",
              "      <td>80</td>\n",
              "      <td>No</td>\n",
              "      <td>0</td>\n",
              "      <td>No</td>\n",
              "      <td>northwest</td>\n",
              "      <td>1136.40</td>\n",
              "    </tr>\n",
              "    <tr>\n",
              "      <th>4</th>\n",
              "      <td>4</td>\n",
              "      <td>5</td>\n",
              "      <td>NaN</td>\n",
              "      <td>male</td>\n",
              "      <td>34.1</td>\n",
              "      <td>100</td>\n",
              "      <td>No</td>\n",
              "      <td>0</td>\n",
              "      <td>No</td>\n",
              "      <td>northwest</td>\n",
              "      <td>1137.01</td>\n",
              "    </tr>\n",
              "  </tbody>\n",
              "</table>\n",
              "</div>\n",
              "      <button class=\"colab-df-convert\" onclick=\"convertToInteractive('df-dda29bf1-67bf-4df8-b367-f70d2030a6fa')\"\n",
              "              title=\"Convert this dataframe to an interactive table.\"\n",
              "              style=\"display:none;\">\n",
              "\n",
              "  <svg xmlns=\"http://www.w3.org/2000/svg\" height=\"24px\"viewBox=\"0 0 24 24\"\n",
              "       width=\"24px\">\n",
              "    <path d=\"M0 0h24v24H0V0z\" fill=\"none\"/>\n",
              "    <path d=\"M18.56 5.44l.94 2.06.94-2.06 2.06-.94-2.06-.94-.94-2.06-.94 2.06-2.06.94zm-11 1L8.5 8.5l.94-2.06 2.06-.94-2.06-.94L8.5 2.5l-.94 2.06-2.06.94zm10 10l.94 2.06.94-2.06 2.06-.94-2.06-.94-.94-2.06-.94 2.06-2.06.94z\"/><path d=\"M17.41 7.96l-1.37-1.37c-.4-.4-.92-.59-1.43-.59-.52 0-1.04.2-1.43.59L10.3 9.45l-7.72 7.72c-.78.78-.78 2.05 0 2.83L4 21.41c.39.39.9.59 1.41.59.51 0 1.02-.2 1.41-.59l7.78-7.78 2.81-2.81c.8-.78.8-2.07 0-2.86zM5.41 20L4 18.59l7.72-7.72 1.47 1.35L5.41 20z\"/>\n",
              "  </svg>\n",
              "      </button>\n",
              "\n",
              "\n",
              "\n",
              "    <div id=\"df-b6caf1e9-daaa-4684-89c9-d4c0153ce300\">\n",
              "      <button class=\"colab-df-quickchart\" onclick=\"quickchart('df-b6caf1e9-daaa-4684-89c9-d4c0153ce300')\"\n",
              "              title=\"Suggest charts.\"\n",
              "              style=\"display:none;\">\n",
              "\n",
              "<svg xmlns=\"http://www.w3.org/2000/svg\" height=\"24px\"viewBox=\"0 0 24 24\"\n",
              "     width=\"24px\">\n",
              "    <g>\n",
              "        <path d=\"M19 3H5c-1.1 0-2 .9-2 2v14c0 1.1.9 2 2 2h14c1.1 0 2-.9 2-2V5c0-1.1-.9-2-2-2zM9 17H7v-7h2v7zm4 0h-2V7h2v10zm4 0h-2v-4h2v4z\"/>\n",
              "    </g>\n",
              "</svg>\n",
              "      </button>\n",
              "    </div>\n",
              "\n",
              "<style>\n",
              "  .colab-df-quickchart {\n",
              "    background-color: #E8F0FE;\n",
              "    border: none;\n",
              "    border-radius: 50%;\n",
              "    cursor: pointer;\n",
              "    display: none;\n",
              "    fill: #1967D2;\n",
              "    height: 32px;\n",
              "    padding: 0 0 0 0;\n",
              "    width: 32px;\n",
              "  }\n",
              "\n",
              "  .colab-df-quickchart:hover {\n",
              "    background-color: #E2EBFA;\n",
              "    box-shadow: 0px 1px 2px rgba(60, 64, 67, 0.3), 0px 1px 3px 1px rgba(60, 64, 67, 0.15);\n",
              "    fill: #174EA6;\n",
              "  }\n",
              "\n",
              "  [theme=dark] .colab-df-quickchart {\n",
              "    background-color: #3B4455;\n",
              "    fill: #D2E3FC;\n",
              "  }\n",
              "\n",
              "  [theme=dark] .colab-df-quickchart:hover {\n",
              "    background-color: #434B5C;\n",
              "    box-shadow: 0px 1px 3px 1px rgba(0, 0, 0, 0.15);\n",
              "    filter: drop-shadow(0px 1px 2px rgba(0, 0, 0, 0.3));\n",
              "    fill: #FFFFFF;\n",
              "  }\n",
              "</style>\n",
              "\n",
              "    <script>\n",
              "      async function quickchart(key) {\n",
              "        const containerElement = document.querySelector('#' + key);\n",
              "        const charts = await google.colab.kernel.invokeFunction(\n",
              "            'suggestCharts', [key], {});\n",
              "      }\n",
              "    </script>\n",
              "\n",
              "      <script>\n",
              "\n",
              "function displayQuickchartButton(domScope) {\n",
              "  let quickchartButtonEl =\n",
              "    domScope.querySelector('#df-b6caf1e9-daaa-4684-89c9-d4c0153ce300 button.colab-df-quickchart');\n",
              "  quickchartButtonEl.style.display =\n",
              "    google.colab.kernel.accessAllowed ? 'block' : 'none';\n",
              "}\n",
              "\n",
              "        displayQuickchartButton(document);\n",
              "      </script>\n",
              "      <style>\n",
              "    .colab-df-container {\n",
              "      display:flex;\n",
              "      flex-wrap:wrap;\n",
              "      gap: 12px;\n",
              "    }\n",
              "\n",
              "    .colab-df-convert {\n",
              "      background-color: #E8F0FE;\n",
              "      border: none;\n",
              "      border-radius: 50%;\n",
              "      cursor: pointer;\n",
              "      display: none;\n",
              "      fill: #1967D2;\n",
              "      height: 32px;\n",
              "      padding: 0 0 0 0;\n",
              "      width: 32px;\n",
              "    }\n",
              "\n",
              "    .colab-df-convert:hover {\n",
              "      background-color: #E2EBFA;\n",
              "      box-shadow: 0px 1px 2px rgba(60, 64, 67, 0.3), 0px 1px 3px 1px rgba(60, 64, 67, 0.15);\n",
              "      fill: #174EA6;\n",
              "    }\n",
              "\n",
              "    [theme=dark] .colab-df-convert {\n",
              "      background-color: #3B4455;\n",
              "      fill: #D2E3FC;\n",
              "    }\n",
              "\n",
              "    [theme=dark] .colab-df-convert:hover {\n",
              "      background-color: #434B5C;\n",
              "      box-shadow: 0px 1px 3px 1px rgba(0, 0, 0, 0.15);\n",
              "      filter: drop-shadow(0px 1px 2px rgba(0, 0, 0, 0.3));\n",
              "      fill: #FFFFFF;\n",
              "    }\n",
              "  </style>\n",
              "\n",
              "      <script>\n",
              "        const buttonEl =\n",
              "          document.querySelector('#df-dda29bf1-67bf-4df8-b367-f70d2030a6fa button.colab-df-convert');\n",
              "        buttonEl.style.display =\n",
              "          google.colab.kernel.accessAllowed ? 'block' : 'none';\n",
              "\n",
              "        async function convertToInteractive(key) {\n",
              "          const element = document.querySelector('#df-dda29bf1-67bf-4df8-b367-f70d2030a6fa');\n",
              "          const dataTable =\n",
              "            await google.colab.kernel.invokeFunction('convertToInteractive',\n",
              "                                                     [key], {});\n",
              "          if (!dataTable) return;\n",
              "\n",
              "          const docLinkHtml = 'Like what you see? Visit the ' +\n",
              "            '<a target=\"_blank\" href=https://colab.research.google.com/notebooks/data_table.ipynb>data table notebook</a>'\n",
              "            + ' to learn more about interactive tables.';\n",
              "          element.innerHTML = '';\n",
              "          dataTable['output_type'] = 'display_data';\n",
              "          await google.colab.output.renderOutput(dataTable, element);\n",
              "          const docLink = document.createElement('div');\n",
              "          docLink.innerHTML = docLinkHtml;\n",
              "          element.appendChild(docLink);\n",
              "        }\n",
              "      </script>\n",
              "    </div>\n",
              "  </div>\n"
            ]
          },
          "metadata": {},
          "execution_count": 5
        }
      ]
    },
    {
      "cell_type": "markdown",
      "source": [
        "### **Information About Dataset**\n",
        "1. Index :- Index numbers\n",
        "2. PatiendtID :- Unique Id for all patients\n",
        "3. Age :- Age of person\n",
        "4. Gender :- Male or Female\n",
        "5. BMI :- Body mass index\n",
        "6. Bloodpressire :- Bloodpressure for person\n",
        "7. Diabetic :- Yes for person is diabetic\n",
        "8. Children :- Number of the children of the person\n",
        "9. Smoker :- Yes for person is smoker\n",
        "10. Region :- Region of the person\n",
        "11. Claim :- Amount claim for insurance.\n"
      ],
      "metadata": {
        "id": "vIC_0nkdV10x"
      }
    },
    {
      "cell_type": "code",
      "source": [
        "df.shape"
      ],
      "metadata": {
        "colab": {
          "base_uri": "https://localhost:8080/"
        },
        "id": "88ZheACDH993",
        "outputId": "0336364d-e7a9-450e-8468-f59995fbda32"
      },
      "execution_count": 6,
      "outputs": [
        {
          "output_type": "execute_result",
          "data": {
            "text/plain": [
              "(1340, 11)"
            ]
          },
          "metadata": {},
          "execution_count": 6
        }
      ]
    },
    {
      "cell_type": "code",
      "source": [
        "df.columns"
      ],
      "metadata": {
        "colab": {
          "base_uri": "https://localhost:8080/"
        },
        "id": "-NPa1JepYaE2",
        "outputId": "a8f6a911-fa7c-473b-f80d-b323cff094c9"
      },
      "execution_count": 7,
      "outputs": [
        {
          "output_type": "execute_result",
          "data": {
            "text/plain": [
              "Index(['index', 'PatientID', 'age', 'gender', 'bmi', 'bloodpressure',\n",
              "       'diabetic', 'children', 'smoker', 'region', 'claim'],\n",
              "      dtype='object')"
            ]
          },
          "metadata": {},
          "execution_count": 7
        }
      ]
    },
    {
      "cell_type": "code",
      "source": [
        "df.info()"
      ],
      "metadata": {
        "colab": {
          "base_uri": "https://localhost:8080/"
        },
        "id": "e2tHdaB3YIxg",
        "outputId": "e5227f96-9107-452d-e8ca-b1816869e75b"
      },
      "execution_count": 8,
      "outputs": [
        {
          "output_type": "stream",
          "name": "stdout",
          "text": [
            "<class 'pandas.core.frame.DataFrame'>\n",
            "RangeIndex: 1340 entries, 0 to 1339\n",
            "Data columns (total 11 columns):\n",
            " #   Column         Non-Null Count  Dtype  \n",
            "---  ------         --------------  -----  \n",
            " 0   index          1340 non-null   int64  \n",
            " 1   PatientID      1340 non-null   int64  \n",
            " 2   age            1335 non-null   float64\n",
            " 3   gender         1340 non-null   object \n",
            " 4   bmi            1340 non-null   float64\n",
            " 5   bloodpressure  1340 non-null   int64  \n",
            " 6   diabetic       1340 non-null   object \n",
            " 7   children       1340 non-null   int64  \n",
            " 8   smoker         1340 non-null   object \n",
            " 9   region         1337 non-null   object \n",
            " 10  claim          1340 non-null   float64\n",
            "dtypes: float64(3), int64(4), object(4)\n",
            "memory usage: 115.3+ KB\n"
          ]
        }
      ]
    },
    {
      "cell_type": "code",
      "source": [
        "df.describe()"
      ],
      "metadata": {
        "colab": {
          "base_uri": "https://localhost:8080/",
          "height": 300
        },
        "id": "-QY0smeSYOtX",
        "outputId": "b84372c0-4b4d-40c6-fc4c-4136ddb552a9"
      },
      "execution_count": 9,
      "outputs": [
        {
          "output_type": "execute_result",
          "data": {
            "text/plain": [
              "             index    PatientID          age          bmi  bloodpressure  \\\n",
              "count  1340.000000  1340.000000  1335.000000  1340.000000    1340.000000   \n",
              "mean    669.500000   670.500000    38.078652    30.668955      94.157463   \n",
              "std     386.968991   386.968991    11.102924     6.106735      11.434712   \n",
              "min       0.000000     1.000000    18.000000    16.000000      80.000000   \n",
              "25%     334.750000   335.750000    29.000000    26.275000      86.000000   \n",
              "50%     669.500000   670.500000    38.000000    30.400000      92.000000   \n",
              "75%    1004.250000  1005.250000    47.000000    34.700000      99.000000   \n",
              "max    1339.000000  1340.000000    60.000000    53.100000     140.000000   \n",
              "\n",
              "          children         claim  \n",
              "count  1340.000000   1340.000000  \n",
              "mean      1.093284  13252.745642  \n",
              "std       1.205334  12109.609288  \n",
              "min       0.000000   1121.870000  \n",
              "25%       0.000000   4719.685000  \n",
              "50%       1.000000   9369.615000  \n",
              "75%       2.000000  16604.305000  \n",
              "max       5.000000  63770.430000  "
            ],
            "text/html": [
              "\n",
              "\n",
              "  <div id=\"df-424ad963-829e-49d4-841a-a1183a027dc8\">\n",
              "    <div class=\"colab-df-container\">\n",
              "      <div>\n",
              "<style scoped>\n",
              "    .dataframe tbody tr th:only-of-type {\n",
              "        vertical-align: middle;\n",
              "    }\n",
              "\n",
              "    .dataframe tbody tr th {\n",
              "        vertical-align: top;\n",
              "    }\n",
              "\n",
              "    .dataframe thead th {\n",
              "        text-align: right;\n",
              "    }\n",
              "</style>\n",
              "<table border=\"1\" class=\"dataframe\">\n",
              "  <thead>\n",
              "    <tr style=\"text-align: right;\">\n",
              "      <th></th>\n",
              "      <th>index</th>\n",
              "      <th>PatientID</th>\n",
              "      <th>age</th>\n",
              "      <th>bmi</th>\n",
              "      <th>bloodpressure</th>\n",
              "      <th>children</th>\n",
              "      <th>claim</th>\n",
              "    </tr>\n",
              "  </thead>\n",
              "  <tbody>\n",
              "    <tr>\n",
              "      <th>count</th>\n",
              "      <td>1340.000000</td>\n",
              "      <td>1340.000000</td>\n",
              "      <td>1335.000000</td>\n",
              "      <td>1340.000000</td>\n",
              "      <td>1340.000000</td>\n",
              "      <td>1340.000000</td>\n",
              "      <td>1340.000000</td>\n",
              "    </tr>\n",
              "    <tr>\n",
              "      <th>mean</th>\n",
              "      <td>669.500000</td>\n",
              "      <td>670.500000</td>\n",
              "      <td>38.078652</td>\n",
              "      <td>30.668955</td>\n",
              "      <td>94.157463</td>\n",
              "      <td>1.093284</td>\n",
              "      <td>13252.745642</td>\n",
              "    </tr>\n",
              "    <tr>\n",
              "      <th>std</th>\n",
              "      <td>386.968991</td>\n",
              "      <td>386.968991</td>\n",
              "      <td>11.102924</td>\n",
              "      <td>6.106735</td>\n",
              "      <td>11.434712</td>\n",
              "      <td>1.205334</td>\n",
              "      <td>12109.609288</td>\n",
              "    </tr>\n",
              "    <tr>\n",
              "      <th>min</th>\n",
              "      <td>0.000000</td>\n",
              "      <td>1.000000</td>\n",
              "      <td>18.000000</td>\n",
              "      <td>16.000000</td>\n",
              "      <td>80.000000</td>\n",
              "      <td>0.000000</td>\n",
              "      <td>1121.870000</td>\n",
              "    </tr>\n",
              "    <tr>\n",
              "      <th>25%</th>\n",
              "      <td>334.750000</td>\n",
              "      <td>335.750000</td>\n",
              "      <td>29.000000</td>\n",
              "      <td>26.275000</td>\n",
              "      <td>86.000000</td>\n",
              "      <td>0.000000</td>\n",
              "      <td>4719.685000</td>\n",
              "    </tr>\n",
              "    <tr>\n",
              "      <th>50%</th>\n",
              "      <td>669.500000</td>\n",
              "      <td>670.500000</td>\n",
              "      <td>38.000000</td>\n",
              "      <td>30.400000</td>\n",
              "      <td>92.000000</td>\n",
              "      <td>1.000000</td>\n",
              "      <td>9369.615000</td>\n",
              "    </tr>\n",
              "    <tr>\n",
              "      <th>75%</th>\n",
              "      <td>1004.250000</td>\n",
              "      <td>1005.250000</td>\n",
              "      <td>47.000000</td>\n",
              "      <td>34.700000</td>\n",
              "      <td>99.000000</td>\n",
              "      <td>2.000000</td>\n",
              "      <td>16604.305000</td>\n",
              "    </tr>\n",
              "    <tr>\n",
              "      <th>max</th>\n",
              "      <td>1339.000000</td>\n",
              "      <td>1340.000000</td>\n",
              "      <td>60.000000</td>\n",
              "      <td>53.100000</td>\n",
              "      <td>140.000000</td>\n",
              "      <td>5.000000</td>\n",
              "      <td>63770.430000</td>\n",
              "    </tr>\n",
              "  </tbody>\n",
              "</table>\n",
              "</div>\n",
              "      <button class=\"colab-df-convert\" onclick=\"convertToInteractive('df-424ad963-829e-49d4-841a-a1183a027dc8')\"\n",
              "              title=\"Convert this dataframe to an interactive table.\"\n",
              "              style=\"display:none;\">\n",
              "\n",
              "  <svg xmlns=\"http://www.w3.org/2000/svg\" height=\"24px\"viewBox=\"0 0 24 24\"\n",
              "       width=\"24px\">\n",
              "    <path d=\"M0 0h24v24H0V0z\" fill=\"none\"/>\n",
              "    <path d=\"M18.56 5.44l.94 2.06.94-2.06 2.06-.94-2.06-.94-.94-2.06-.94 2.06-2.06.94zm-11 1L8.5 8.5l.94-2.06 2.06-.94-2.06-.94L8.5 2.5l-.94 2.06-2.06.94zm10 10l.94 2.06.94-2.06 2.06-.94-2.06-.94-.94-2.06-.94 2.06-2.06.94z\"/><path d=\"M17.41 7.96l-1.37-1.37c-.4-.4-.92-.59-1.43-.59-.52 0-1.04.2-1.43.59L10.3 9.45l-7.72 7.72c-.78.78-.78 2.05 0 2.83L4 21.41c.39.39.9.59 1.41.59.51 0 1.02-.2 1.41-.59l7.78-7.78 2.81-2.81c.8-.78.8-2.07 0-2.86zM5.41 20L4 18.59l7.72-7.72 1.47 1.35L5.41 20z\"/>\n",
              "  </svg>\n",
              "      </button>\n",
              "\n",
              "\n",
              "\n",
              "    <div id=\"df-b3cb8f9e-4196-40a2-8cd3-15e5779a6842\">\n",
              "      <button class=\"colab-df-quickchart\" onclick=\"quickchart('df-b3cb8f9e-4196-40a2-8cd3-15e5779a6842')\"\n",
              "              title=\"Suggest charts.\"\n",
              "              style=\"display:none;\">\n",
              "\n",
              "<svg xmlns=\"http://www.w3.org/2000/svg\" height=\"24px\"viewBox=\"0 0 24 24\"\n",
              "     width=\"24px\">\n",
              "    <g>\n",
              "        <path d=\"M19 3H5c-1.1 0-2 .9-2 2v14c0 1.1.9 2 2 2h14c1.1 0 2-.9 2-2V5c0-1.1-.9-2-2-2zM9 17H7v-7h2v7zm4 0h-2V7h2v10zm4 0h-2v-4h2v4z\"/>\n",
              "    </g>\n",
              "</svg>\n",
              "      </button>\n",
              "    </div>\n",
              "\n",
              "<style>\n",
              "  .colab-df-quickchart {\n",
              "    background-color: #E8F0FE;\n",
              "    border: none;\n",
              "    border-radius: 50%;\n",
              "    cursor: pointer;\n",
              "    display: none;\n",
              "    fill: #1967D2;\n",
              "    height: 32px;\n",
              "    padding: 0 0 0 0;\n",
              "    width: 32px;\n",
              "  }\n",
              "\n",
              "  .colab-df-quickchart:hover {\n",
              "    background-color: #E2EBFA;\n",
              "    box-shadow: 0px 1px 2px rgba(60, 64, 67, 0.3), 0px 1px 3px 1px rgba(60, 64, 67, 0.15);\n",
              "    fill: #174EA6;\n",
              "  }\n",
              "\n",
              "  [theme=dark] .colab-df-quickchart {\n",
              "    background-color: #3B4455;\n",
              "    fill: #D2E3FC;\n",
              "  }\n",
              "\n",
              "  [theme=dark] .colab-df-quickchart:hover {\n",
              "    background-color: #434B5C;\n",
              "    box-shadow: 0px 1px 3px 1px rgba(0, 0, 0, 0.15);\n",
              "    filter: drop-shadow(0px 1px 2px rgba(0, 0, 0, 0.3));\n",
              "    fill: #FFFFFF;\n",
              "  }\n",
              "</style>\n",
              "\n",
              "    <script>\n",
              "      async function quickchart(key) {\n",
              "        const containerElement = document.querySelector('#' + key);\n",
              "        const charts = await google.colab.kernel.invokeFunction(\n",
              "            'suggestCharts', [key], {});\n",
              "      }\n",
              "    </script>\n",
              "\n",
              "      <script>\n",
              "\n",
              "function displayQuickchartButton(domScope) {\n",
              "  let quickchartButtonEl =\n",
              "    domScope.querySelector('#df-b3cb8f9e-4196-40a2-8cd3-15e5779a6842 button.colab-df-quickchart');\n",
              "  quickchartButtonEl.style.display =\n",
              "    google.colab.kernel.accessAllowed ? 'block' : 'none';\n",
              "}\n",
              "\n",
              "        displayQuickchartButton(document);\n",
              "      </script>\n",
              "      <style>\n",
              "    .colab-df-container {\n",
              "      display:flex;\n",
              "      flex-wrap:wrap;\n",
              "      gap: 12px;\n",
              "    }\n",
              "\n",
              "    .colab-df-convert {\n",
              "      background-color: #E8F0FE;\n",
              "      border: none;\n",
              "      border-radius: 50%;\n",
              "      cursor: pointer;\n",
              "      display: none;\n",
              "      fill: #1967D2;\n",
              "      height: 32px;\n",
              "      padding: 0 0 0 0;\n",
              "      width: 32px;\n",
              "    }\n",
              "\n",
              "    .colab-df-convert:hover {\n",
              "      background-color: #E2EBFA;\n",
              "      box-shadow: 0px 1px 2px rgba(60, 64, 67, 0.3), 0px 1px 3px 1px rgba(60, 64, 67, 0.15);\n",
              "      fill: #174EA6;\n",
              "    }\n",
              "\n",
              "    [theme=dark] .colab-df-convert {\n",
              "      background-color: #3B4455;\n",
              "      fill: #D2E3FC;\n",
              "    }\n",
              "\n",
              "    [theme=dark] .colab-df-convert:hover {\n",
              "      background-color: #434B5C;\n",
              "      box-shadow: 0px 1px 3px 1px rgba(0, 0, 0, 0.15);\n",
              "      filter: drop-shadow(0px 1px 2px rgba(0, 0, 0, 0.3));\n",
              "      fill: #FFFFFF;\n",
              "    }\n",
              "  </style>\n",
              "\n",
              "      <script>\n",
              "        const buttonEl =\n",
              "          document.querySelector('#df-424ad963-829e-49d4-841a-a1183a027dc8 button.colab-df-convert');\n",
              "        buttonEl.style.display =\n",
              "          google.colab.kernel.accessAllowed ? 'block' : 'none';\n",
              "\n",
              "        async function convertToInteractive(key) {\n",
              "          const element = document.querySelector('#df-424ad963-829e-49d4-841a-a1183a027dc8');\n",
              "          const dataTable =\n",
              "            await google.colab.kernel.invokeFunction('convertToInteractive',\n",
              "                                                     [key], {});\n",
              "          if (!dataTable) return;\n",
              "\n",
              "          const docLinkHtml = 'Like what you see? Visit the ' +\n",
              "            '<a target=\"_blank\" href=https://colab.research.google.com/notebooks/data_table.ipynb>data table notebook</a>'\n",
              "            + ' to learn more about interactive tables.';\n",
              "          element.innerHTML = '';\n",
              "          dataTable['output_type'] = 'display_data';\n",
              "          await google.colab.output.renderOutput(dataTable, element);\n",
              "          const docLink = document.createElement('div');\n",
              "          docLink.innerHTML = docLinkHtml;\n",
              "          element.appendChild(docLink);\n",
              "        }\n",
              "      </script>\n",
              "    </div>\n",
              "  </div>\n"
            ]
          },
          "metadata": {},
          "execution_count": 9
        }
      ]
    },
    {
      "cell_type": "code",
      "source": [
        "df.describe(include = \"object\")"
      ],
      "metadata": {
        "colab": {
          "base_uri": "https://localhost:8080/",
          "height": 175
        },
        "id": "WRz2igq2YjOg",
        "outputId": "9cf72a69-f632-4f16-dd24-edb7bb5024b6"
      },
      "execution_count": 10,
      "outputs": [
        {
          "output_type": "execute_result",
          "data": {
            "text/plain": [
              "       gender diabetic smoker     region\n",
              "count    1340     1340   1340       1337\n",
              "unique      2        2      2          4\n",
              "top      male       No     No  southeast\n",
              "freq      678      698   1066        443"
            ],
            "text/html": [
              "\n",
              "\n",
              "  <div id=\"df-06e6ef58-766f-42d8-86d6-83a8748544f7\">\n",
              "    <div class=\"colab-df-container\">\n",
              "      <div>\n",
              "<style scoped>\n",
              "    .dataframe tbody tr th:only-of-type {\n",
              "        vertical-align: middle;\n",
              "    }\n",
              "\n",
              "    .dataframe tbody tr th {\n",
              "        vertical-align: top;\n",
              "    }\n",
              "\n",
              "    .dataframe thead th {\n",
              "        text-align: right;\n",
              "    }\n",
              "</style>\n",
              "<table border=\"1\" class=\"dataframe\">\n",
              "  <thead>\n",
              "    <tr style=\"text-align: right;\">\n",
              "      <th></th>\n",
              "      <th>gender</th>\n",
              "      <th>diabetic</th>\n",
              "      <th>smoker</th>\n",
              "      <th>region</th>\n",
              "    </tr>\n",
              "  </thead>\n",
              "  <tbody>\n",
              "    <tr>\n",
              "      <th>count</th>\n",
              "      <td>1340</td>\n",
              "      <td>1340</td>\n",
              "      <td>1340</td>\n",
              "      <td>1337</td>\n",
              "    </tr>\n",
              "    <tr>\n",
              "      <th>unique</th>\n",
              "      <td>2</td>\n",
              "      <td>2</td>\n",
              "      <td>2</td>\n",
              "      <td>4</td>\n",
              "    </tr>\n",
              "    <tr>\n",
              "      <th>top</th>\n",
              "      <td>male</td>\n",
              "      <td>No</td>\n",
              "      <td>No</td>\n",
              "      <td>southeast</td>\n",
              "    </tr>\n",
              "    <tr>\n",
              "      <th>freq</th>\n",
              "      <td>678</td>\n",
              "      <td>698</td>\n",
              "      <td>1066</td>\n",
              "      <td>443</td>\n",
              "    </tr>\n",
              "  </tbody>\n",
              "</table>\n",
              "</div>\n",
              "      <button class=\"colab-df-convert\" onclick=\"convertToInteractive('df-06e6ef58-766f-42d8-86d6-83a8748544f7')\"\n",
              "              title=\"Convert this dataframe to an interactive table.\"\n",
              "              style=\"display:none;\">\n",
              "\n",
              "  <svg xmlns=\"http://www.w3.org/2000/svg\" height=\"24px\"viewBox=\"0 0 24 24\"\n",
              "       width=\"24px\">\n",
              "    <path d=\"M0 0h24v24H0V0z\" fill=\"none\"/>\n",
              "    <path d=\"M18.56 5.44l.94 2.06.94-2.06 2.06-.94-2.06-.94-.94-2.06-.94 2.06-2.06.94zm-11 1L8.5 8.5l.94-2.06 2.06-.94-2.06-.94L8.5 2.5l-.94 2.06-2.06.94zm10 10l.94 2.06.94-2.06 2.06-.94-2.06-.94-.94-2.06-.94 2.06-2.06.94z\"/><path d=\"M17.41 7.96l-1.37-1.37c-.4-.4-.92-.59-1.43-.59-.52 0-1.04.2-1.43.59L10.3 9.45l-7.72 7.72c-.78.78-.78 2.05 0 2.83L4 21.41c.39.39.9.59 1.41.59.51 0 1.02-.2 1.41-.59l7.78-7.78 2.81-2.81c.8-.78.8-2.07 0-2.86zM5.41 20L4 18.59l7.72-7.72 1.47 1.35L5.41 20z\"/>\n",
              "  </svg>\n",
              "      </button>\n",
              "\n",
              "\n",
              "\n",
              "    <div id=\"df-881995e4-c867-4278-9ad8-09ebc00a4ea6\">\n",
              "      <button class=\"colab-df-quickchart\" onclick=\"quickchart('df-881995e4-c867-4278-9ad8-09ebc00a4ea6')\"\n",
              "              title=\"Suggest charts.\"\n",
              "              style=\"display:none;\">\n",
              "\n",
              "<svg xmlns=\"http://www.w3.org/2000/svg\" height=\"24px\"viewBox=\"0 0 24 24\"\n",
              "     width=\"24px\">\n",
              "    <g>\n",
              "        <path d=\"M19 3H5c-1.1 0-2 .9-2 2v14c0 1.1.9 2 2 2h14c1.1 0 2-.9 2-2V5c0-1.1-.9-2-2-2zM9 17H7v-7h2v7zm4 0h-2V7h2v10zm4 0h-2v-4h2v4z\"/>\n",
              "    </g>\n",
              "</svg>\n",
              "      </button>\n",
              "    </div>\n",
              "\n",
              "<style>\n",
              "  .colab-df-quickchart {\n",
              "    background-color: #E8F0FE;\n",
              "    border: none;\n",
              "    border-radius: 50%;\n",
              "    cursor: pointer;\n",
              "    display: none;\n",
              "    fill: #1967D2;\n",
              "    height: 32px;\n",
              "    padding: 0 0 0 0;\n",
              "    width: 32px;\n",
              "  }\n",
              "\n",
              "  .colab-df-quickchart:hover {\n",
              "    background-color: #E2EBFA;\n",
              "    box-shadow: 0px 1px 2px rgba(60, 64, 67, 0.3), 0px 1px 3px 1px rgba(60, 64, 67, 0.15);\n",
              "    fill: #174EA6;\n",
              "  }\n",
              "\n",
              "  [theme=dark] .colab-df-quickchart {\n",
              "    background-color: #3B4455;\n",
              "    fill: #D2E3FC;\n",
              "  }\n",
              "\n",
              "  [theme=dark] .colab-df-quickchart:hover {\n",
              "    background-color: #434B5C;\n",
              "    box-shadow: 0px 1px 3px 1px rgba(0, 0, 0, 0.15);\n",
              "    filter: drop-shadow(0px 1px 2px rgba(0, 0, 0, 0.3));\n",
              "    fill: #FFFFFF;\n",
              "  }\n",
              "</style>\n",
              "\n",
              "    <script>\n",
              "      async function quickchart(key) {\n",
              "        const containerElement = document.querySelector('#' + key);\n",
              "        const charts = await google.colab.kernel.invokeFunction(\n",
              "            'suggestCharts', [key], {});\n",
              "      }\n",
              "    </script>\n",
              "\n",
              "      <script>\n",
              "\n",
              "function displayQuickchartButton(domScope) {\n",
              "  let quickchartButtonEl =\n",
              "    domScope.querySelector('#df-881995e4-c867-4278-9ad8-09ebc00a4ea6 button.colab-df-quickchart');\n",
              "  quickchartButtonEl.style.display =\n",
              "    google.colab.kernel.accessAllowed ? 'block' : 'none';\n",
              "}\n",
              "\n",
              "        displayQuickchartButton(document);\n",
              "      </script>\n",
              "      <style>\n",
              "    .colab-df-container {\n",
              "      display:flex;\n",
              "      flex-wrap:wrap;\n",
              "      gap: 12px;\n",
              "    }\n",
              "\n",
              "    .colab-df-convert {\n",
              "      background-color: #E8F0FE;\n",
              "      border: none;\n",
              "      border-radius: 50%;\n",
              "      cursor: pointer;\n",
              "      display: none;\n",
              "      fill: #1967D2;\n",
              "      height: 32px;\n",
              "      padding: 0 0 0 0;\n",
              "      width: 32px;\n",
              "    }\n",
              "\n",
              "    .colab-df-convert:hover {\n",
              "      background-color: #E2EBFA;\n",
              "      box-shadow: 0px 1px 2px rgba(60, 64, 67, 0.3), 0px 1px 3px 1px rgba(60, 64, 67, 0.15);\n",
              "      fill: #174EA6;\n",
              "    }\n",
              "\n",
              "    [theme=dark] .colab-df-convert {\n",
              "      background-color: #3B4455;\n",
              "      fill: #D2E3FC;\n",
              "    }\n",
              "\n",
              "    [theme=dark] .colab-df-convert:hover {\n",
              "      background-color: #434B5C;\n",
              "      box-shadow: 0px 1px 3px 1px rgba(0, 0, 0, 0.15);\n",
              "      filter: drop-shadow(0px 1px 2px rgba(0, 0, 0, 0.3));\n",
              "      fill: #FFFFFF;\n",
              "    }\n",
              "  </style>\n",
              "\n",
              "      <script>\n",
              "        const buttonEl =\n",
              "          document.querySelector('#df-06e6ef58-766f-42d8-86d6-83a8748544f7 button.colab-df-convert');\n",
              "        buttonEl.style.display =\n",
              "          google.colab.kernel.accessAllowed ? 'block' : 'none';\n",
              "\n",
              "        async function convertToInteractive(key) {\n",
              "          const element = document.querySelector('#df-06e6ef58-766f-42d8-86d6-83a8748544f7');\n",
              "          const dataTable =\n",
              "            await google.colab.kernel.invokeFunction('convertToInteractive',\n",
              "                                                     [key], {});\n",
              "          if (!dataTable) return;\n",
              "\n",
              "          const docLinkHtml = 'Like what you see? Visit the ' +\n",
              "            '<a target=\"_blank\" href=https://colab.research.google.com/notebooks/data_table.ipynb>data table notebook</a>'\n",
              "            + ' to learn more about interactive tables.';\n",
              "          element.innerHTML = '';\n",
              "          dataTable['output_type'] = 'display_data';\n",
              "          await google.colab.output.renderOutput(dataTable, element);\n",
              "          const docLink = document.createElement('div');\n",
              "          docLink.innerHTML = docLinkHtml;\n",
              "          element.appendChild(docLink);\n",
              "        }\n",
              "      </script>\n",
              "    </div>\n",
              "  </div>\n"
            ]
          },
          "metadata": {},
          "execution_count": 10
        }
      ]
    },
    {
      "cell_type": "markdown",
      "source": [
        "**Using first column Index as index**"
      ],
      "metadata": {
        "id": "j0EVurSDxcNj"
      }
    },
    {
      "cell_type": "code",
      "source": [
        "df = df.set_index('index')"
      ],
      "metadata": {
        "id": "hr_P5vN4w-Bl"
      },
      "execution_count": 11,
      "outputs": []
    },
    {
      "cell_type": "markdown",
      "source": [
        "**Cheking for Duplicat values**"
      ],
      "metadata": {
        "id": "paDk0INKiG5S"
      }
    },
    {
      "cell_type": "code",
      "source": [
        "df.duplicated().sum()"
      ],
      "metadata": {
        "colab": {
          "base_uri": "https://localhost:8080/"
        },
        "id": "16OVnacjZcG1",
        "outputId": "bbbbf27a-1c6b-4aa5-9d58-8150c4adb177"
      },
      "execution_count": 12,
      "outputs": [
        {
          "output_type": "execute_result",
          "data": {
            "text/plain": [
              "0"
            ]
          },
          "metadata": {},
          "execution_count": 12
        }
      ]
    },
    {
      "cell_type": "markdown",
      "source": [
        "**Detecting Null values**"
      ],
      "metadata": {
        "id": "U9C5QXzwiRzR"
      }
    },
    {
      "cell_type": "code",
      "source": [
        "df.isnull().sum()"
      ],
      "metadata": {
        "colab": {
          "base_uri": "https://localhost:8080/"
        },
        "id": "mdqHaoRZh5I_",
        "outputId": "253b39a8-cdab-43f1-f776-2cb3aeda01c7"
      },
      "execution_count": 13,
      "outputs": [
        {
          "output_type": "execute_result",
          "data": {
            "text/plain": [
              "PatientID        0\n",
              "age              5\n",
              "gender           0\n",
              "bmi              0\n",
              "bloodpressure    0\n",
              "diabetic         0\n",
              "children         0\n",
              "smoker           0\n",
              "region           3\n",
              "claim            0\n",
              "dtype: int64"
            ]
          },
          "metadata": {},
          "execution_count": 13
        }
      ]
    },
    {
      "cell_type": "code",
      "source": [
        "df[df['gender'] == 'male'].isnull().sum()"
      ],
      "metadata": {
        "colab": {
          "base_uri": "https://localhost:8080/"
        },
        "id": "vo3OQ_5wieDc",
        "outputId": "ac1356b6-067f-472d-bca0-61c91cd49f22"
      },
      "execution_count": 14,
      "outputs": [
        {
          "output_type": "execute_result",
          "data": {
            "text/plain": [
              "PatientID        0\n",
              "age              5\n",
              "gender           0\n",
              "bmi              0\n",
              "bloodpressure    0\n",
              "diabetic         0\n",
              "children         0\n",
              "smoker           0\n",
              "region           3\n",
              "claim            0\n",
              "dtype: int64"
            ]
          },
          "metadata": {},
          "execution_count": 14
        }
      ]
    },
    {
      "cell_type": "markdown",
      "source": [
        "**All null values from Age are male so filling the null values of Age column and Droping the null values of Region column**"
      ],
      "metadata": {
        "id": "hryX6hjdjwWa"
      }
    },
    {
      "cell_type": "code",
      "source": [
        "df.age = df.age.fillna(round(df[df.gender == 'male'].age.mean()))"
      ],
      "metadata": {
        "id": "fIEaxnTOjcKy"
      },
      "execution_count": 15,
      "outputs": []
    },
    {
      "cell_type": "code",
      "source": [
        "df.dropna(subset= 'region', inplace= True)"
      ],
      "metadata": {
        "id": "-aCiDaWAmSBN"
      },
      "execution_count": 16,
      "outputs": []
    },
    {
      "cell_type": "code",
      "source": [
        "df.dtypes"
      ],
      "metadata": {
        "colab": {
          "base_uri": "https://localhost:8080/"
        },
        "id": "s4L5qHJUnBwt",
        "outputId": "055ee27a-8111-47e7-972c-ee33a79bdc60"
      },
      "execution_count": 17,
      "outputs": [
        {
          "output_type": "execute_result",
          "data": {
            "text/plain": [
              "PatientID          int64\n",
              "age              float64\n",
              "gender            object\n",
              "bmi              float64\n",
              "bloodpressure      int64\n",
              "diabetic          object\n",
              "children           int64\n",
              "smoker            object\n",
              "region            object\n",
              "claim            float64\n",
              "dtype: object"
            ]
          },
          "metadata": {},
          "execution_count": 17
        }
      ]
    },
    {
      "cell_type": "markdown",
      "source": [
        "**Age and Claim column have float data type so changing datatype from float to Int**"
      ],
      "metadata": {
        "id": "_ggw5CienZEY"
      }
    },
    {
      "cell_type": "code",
      "source": [
        "df.age = df.age.astype(int)\n",
        "df.claim = df.claim.astype(int)"
      ],
      "metadata": {
        "id": "yrYAJPNrn4v6"
      },
      "execution_count": 18,
      "outputs": []
    },
    {
      "cell_type": "markdown",
      "source": [
        "# **Data Analysis**"
      ],
      "metadata": {
        "id": "S_8YYHeUgkeg"
      }
    },
    {
      "cell_type": "code",
      "source": [
        "px.histogram(df,'gender', color = 'gender', text_auto= True, title='Count by Gender', template='presentation', width=500)"
      ],
      "metadata": {
        "colab": {
          "base_uri": "https://localhost:8080/",
          "height": 542
        },
        "id": "cURSS7fQveUg",
        "outputId": "a6061e95-45b1-4186-df47-95a8af0c8c0d"
      },
      "execution_count": 19,
      "outputs": [
        {
          "output_type": "display_data",
          "data": {
            "text/html": [
              "<html>\n",
              "<head><meta charset=\"utf-8\" /></head>\n",
              "<body>\n",
              "    <div>            <script src=\"https://cdnjs.cloudflare.com/ajax/libs/mathjax/2.7.5/MathJax.js?config=TeX-AMS-MML_SVG\"></script><script type=\"text/javascript\">if (window.MathJax && window.MathJax.Hub && window.MathJax.Hub.Config) {window.MathJax.Hub.Config({SVG: {font: \"STIX-Web\"}});}</script>                <script type=\"text/javascript\">window.PlotlyConfig = {MathJaxConfig: 'local'};</script>\n",
              "        <script src=\"https://cdn.plot.ly/plotly-2.18.2.min.js\"></script>                <div id=\"98eb62e9-cb4e-4e1b-a3c7-307d876fb34b\" class=\"plotly-graph-div\" style=\"height:525px; width:500px;\"></div>            <script type=\"text/javascript\">                                    window.PLOTLYENV=window.PLOTLYENV || {};                                    if (document.getElementById(\"98eb62e9-cb4e-4e1b-a3c7-307d876fb34b\")) {                    Plotly.newPlot(                        \"98eb62e9-cb4e-4e1b-a3c7-307d876fb34b\",                        [{\"alignmentgroup\":\"True\",\"bingroup\":\"x\",\"hovertemplate\":\"gender=%{x}<br>count=%{y}<extra></extra>\",\"legendgroup\":\"male\",\"marker\":{\"color\":\"#1F77B4\",\"pattern\":{\"shape\":\"\"}},\"name\":\"male\",\"offsetgroup\":\"male\",\"orientation\":\"v\",\"showlegend\":true,\"texttemplate\":\"%{value}\",\"x\":[\"male\",\"male\",\"male\",\"male\",\"male\",\"male\",\"male\",\"male\",\"male\",\"male\",\"male\",\"male\",\"male\",\"male\",\"male\",\"male\",\"male\",\"male\",\"male\",\"male\",\"male\",\"male\",\"male\",\"male\",\"male\",\"male\",\"male\",\"male\",\"male\",\"male\",\"male\",\"male\",\"male\",\"male\",\"male\",\"male\",\"male\",\"male\",\"male\",\"male\",\"male\",\"male\",\"male\",\"male\",\"male\",\"male\",\"male\",\"male\",\"male\",\"male\",\"male\",\"male\",\"male\",\"male\",\"male\",\"male\",\"male\",\"male\",\"male\",\"male\",\"male\",\"male\",\"male\",\"male\",\"male\",\"male\",\"male\",\"male\",\"male\",\"male\",\"male\",\"male\",\"male\",\"male\",\"male\",\"male\",\"male\",\"male\",\"male\",\"male\",\"male\",\"male\",\"male\",\"male\",\"male\",\"male\",\"male\",\"male\",\"male\",\"male\",\"male\",\"male\",\"male\",\"male\",\"male\",\"male\",\"male\",\"male\",\"male\",\"male\",\"male\",\"male\",\"male\",\"male\",\"male\",\"male\",\"male\",\"male\",\"male\",\"male\",\"male\",\"male\",\"male\",\"male\",\"male\",\"male\",\"male\",\"male\",\"male\",\"male\",\"male\",\"male\",\"male\",\"male\",\"male\",\"male\",\"male\",\"male\",\"male\",\"male\",\"male\",\"male\",\"male\",\"male\",\"male\",\"male\",\"male\",\"male\",\"male\",\"male\",\"male\",\"male\",\"male\",\"male\",\"male\",\"male\",\"male\",\"male\",\"male\",\"male\",\"male\",\"male\",\"male\",\"male\",\"male\",\"male\",\"male\",\"male\",\"male\",\"male\",\"male\",\"male\",\"male\",\"male\",\"male\",\"male\",\"male\",\"male\",\"male\",\"male\",\"male\",\"male\",\"male\",\"male\",\"male\",\"male\",\"male\",\"male\",\"male\",\"male\",\"male\",\"male\",\"male\",\"male\",\"male\",\"male\",\"male\",\"male\",\"male\",\"male\",\"male\",\"male\",\"male\",\"male\",\"male\",\"male\",\"male\",\"male\",\"male\",\"male\",\"male\",\"male\",\"male\",\"male\",\"male\",\"male\",\"male\",\"male\",\"male\",\"male\",\"male\",\"male\",\"male\",\"male\",\"male\",\"male\",\"male\",\"male\",\"male\",\"male\",\"male\",\"male\",\"male\",\"male\",\"male\",\"male\",\"male\",\"male\",\"male\",\"male\",\"male\",\"male\",\"male\",\"male\",\"male\",\"male\",\"male\",\"male\",\"male\",\"male\",\"male\",\"male\",\"male\",\"male\",\"male\",\"male\",\"male\",\"male\",\"male\",\"male\",\"male\",\"male\",\"male\",\"male\",\"male\",\"male\",\"male\",\"male\",\"male\",\"male\",\"male\",\"male\",\"male\",\"male\",\"male\",\"male\",\"male\",\"male\",\"male\",\"male\",\"male\",\"male\",\"male\",\"male\",\"male\",\"male\",\"male\",\"male\",\"male\",\"male\",\"male\",\"male\",\"male\",\"male\",\"male\",\"male\",\"male\",\"male\",\"male\",\"male\",\"male\",\"male\",\"male\",\"male\",\"male\",\"male\",\"male\",\"male\",\"male\",\"male\",\"male\",\"male\",\"male\",\"male\",\"male\",\"male\",\"male\",\"male\",\"male\",\"male\",\"male\",\"male\",\"male\",\"male\",\"male\",\"male\",\"male\",\"male\",\"male\",\"male\",\"male\",\"male\",\"male\",\"male\",\"male\",\"male\",\"male\",\"male\",\"male\",\"male\",\"male\",\"male\",\"male\",\"male\",\"male\",\"male\",\"male\",\"male\",\"male\",\"male\",\"male\",\"male\",\"male\",\"male\",\"male\",\"male\",\"male\",\"male\",\"male\",\"male\",\"male\",\"male\",\"male\",\"male\",\"male\",\"male\",\"male\",\"male\",\"male\",\"male\",\"male\",\"male\",\"male\",\"male\",\"male\",\"male\",\"male\",\"male\",\"male\",\"male\",\"male\",\"male\",\"male\",\"male\",\"male\",\"male\",\"male\",\"male\",\"male\",\"male\",\"male\",\"male\",\"male\",\"male\",\"male\",\"male\",\"male\",\"male\",\"male\",\"male\",\"male\",\"male\",\"male\",\"male\",\"male\",\"male\",\"male\",\"male\",\"male\",\"male\",\"male\",\"male\",\"male\",\"male\",\"male\",\"male\",\"male\",\"male\",\"male\",\"male\",\"male\",\"male\",\"male\",\"male\",\"male\",\"male\",\"male\",\"male\",\"male\",\"male\",\"male\",\"male\",\"male\",\"male\",\"male\",\"male\",\"male\",\"male\",\"male\",\"male\",\"male\",\"male\",\"male\",\"male\",\"male\",\"male\",\"male\",\"male\",\"male\",\"male\",\"male\",\"male\",\"male\",\"male\",\"male\",\"male\",\"male\",\"male\",\"male\",\"male\",\"male\",\"male\",\"male\",\"male\",\"male\",\"male\",\"male\",\"male\",\"male\",\"male\",\"male\",\"male\",\"male\",\"male\",\"male\",\"male\",\"male\",\"male\",\"male\",\"male\",\"male\",\"male\",\"male\",\"male\",\"male\",\"male\",\"male\",\"male\",\"male\",\"male\",\"male\",\"male\",\"male\",\"male\",\"male\",\"male\",\"male\",\"male\",\"male\",\"male\",\"male\",\"male\",\"male\",\"male\",\"male\",\"male\",\"male\",\"male\",\"male\",\"male\",\"male\",\"male\",\"male\",\"male\",\"male\",\"male\",\"male\",\"male\",\"male\",\"male\",\"male\",\"male\",\"male\",\"male\",\"male\",\"male\",\"male\",\"male\",\"male\",\"male\",\"male\",\"male\",\"male\",\"male\",\"male\",\"male\",\"male\",\"male\",\"male\",\"male\",\"male\",\"male\",\"male\",\"male\",\"male\",\"male\",\"male\",\"male\",\"male\",\"male\",\"male\",\"male\",\"male\",\"male\",\"male\",\"male\",\"male\",\"male\",\"male\",\"male\",\"male\",\"male\",\"male\",\"male\",\"male\",\"male\",\"male\",\"male\",\"male\",\"male\",\"male\",\"male\",\"male\",\"male\",\"male\",\"male\",\"male\",\"male\",\"male\",\"male\",\"male\",\"male\",\"male\",\"male\",\"male\",\"male\",\"male\",\"male\",\"male\",\"male\",\"male\",\"male\",\"male\",\"male\",\"male\",\"male\",\"male\",\"male\",\"male\",\"male\",\"male\",\"male\",\"male\",\"male\",\"male\",\"male\",\"male\",\"male\",\"male\",\"male\",\"male\",\"male\",\"male\",\"male\",\"male\",\"male\",\"male\",\"male\",\"male\",\"male\",\"male\",\"male\",\"male\",\"male\",\"male\",\"male\",\"male\",\"male\",\"male\",\"male\",\"male\",\"male\",\"male\",\"male\",\"male\",\"male\",\"male\",\"male\",\"male\",\"male\",\"male\",\"male\",\"male\",\"male\",\"male\",\"male\",\"male\",\"male\",\"male\",\"male\",\"male\",\"male\",\"male\",\"male\",\"male\",\"male\",\"male\",\"male\",\"male\",\"male\",\"male\",\"male\",\"male\",\"male\",\"male\",\"male\",\"male\",\"male\",\"male\",\"male\",\"male\",\"male\",\"male\",\"male\",\"male\",\"male\",\"male\",\"male\",\"male\",\"male\",\"male\",\"male\",\"male\",\"male\",\"male\"],\"xaxis\":\"x\",\"yaxis\":\"y\",\"type\":\"histogram\"},{\"alignmentgroup\":\"True\",\"bingroup\":\"x\",\"hovertemplate\":\"gender=%{x}<br>count=%{y}<extra></extra>\",\"legendgroup\":\"female\",\"marker\":{\"color\":\"#FF7F0E\",\"pattern\":{\"shape\":\"\"}},\"name\":\"female\",\"offsetgroup\":\"female\",\"orientation\":\"v\",\"showlegend\":true,\"texttemplate\":\"%{value}\",\"x\":[\"female\",\"female\",\"female\",\"female\",\"female\",\"female\",\"female\",\"female\",\"female\",\"female\",\"female\",\"female\",\"female\",\"female\",\"female\",\"female\",\"female\",\"female\",\"female\",\"female\",\"female\",\"female\",\"female\",\"female\",\"female\",\"female\",\"female\",\"female\",\"female\",\"female\",\"female\",\"female\",\"female\",\"female\",\"female\",\"female\",\"female\",\"female\",\"female\",\"female\",\"female\",\"female\",\"female\",\"female\",\"female\",\"female\",\"female\",\"female\",\"female\",\"female\",\"female\",\"female\",\"female\",\"female\",\"female\",\"female\",\"female\",\"female\",\"female\",\"female\",\"female\",\"female\",\"female\",\"female\",\"female\",\"female\",\"female\",\"female\",\"female\",\"female\",\"female\",\"female\",\"female\",\"female\",\"female\",\"female\",\"female\",\"female\",\"female\",\"female\",\"female\",\"female\",\"female\",\"female\",\"female\",\"female\",\"female\",\"female\",\"female\",\"female\",\"female\",\"female\",\"female\",\"female\",\"female\",\"female\",\"female\",\"female\",\"female\",\"female\",\"female\",\"female\",\"female\",\"female\",\"female\",\"female\",\"female\",\"female\",\"female\",\"female\",\"female\",\"female\",\"female\",\"female\",\"female\",\"female\",\"female\",\"female\",\"female\",\"female\",\"female\",\"female\",\"female\",\"female\",\"female\",\"female\",\"female\",\"female\",\"female\",\"female\",\"female\",\"female\",\"female\",\"female\",\"female\",\"female\",\"female\",\"female\",\"female\",\"female\",\"female\",\"female\",\"female\",\"female\",\"female\",\"female\",\"female\",\"female\",\"female\",\"female\",\"female\",\"female\",\"female\",\"female\",\"female\",\"female\",\"female\",\"female\",\"female\",\"female\",\"female\",\"female\",\"female\",\"female\",\"female\",\"female\",\"female\",\"female\",\"female\",\"female\",\"female\",\"female\",\"female\",\"female\",\"female\",\"female\",\"female\",\"female\",\"female\",\"female\",\"female\",\"female\",\"female\",\"female\",\"female\",\"female\",\"female\",\"female\",\"female\",\"female\",\"female\",\"female\",\"female\",\"female\",\"female\",\"female\",\"female\",\"female\",\"female\",\"female\",\"female\",\"female\",\"female\",\"female\",\"female\",\"female\",\"female\",\"female\",\"female\",\"female\",\"female\",\"female\",\"female\",\"female\",\"female\",\"female\",\"female\",\"female\",\"female\",\"female\",\"female\",\"female\",\"female\",\"female\",\"female\",\"female\",\"female\",\"female\",\"female\",\"female\",\"female\",\"female\",\"female\",\"female\",\"female\",\"female\",\"female\",\"female\",\"female\",\"female\",\"female\",\"female\",\"female\",\"female\",\"female\",\"female\",\"female\",\"female\",\"female\",\"female\",\"female\",\"female\",\"female\",\"female\",\"female\",\"female\",\"female\",\"female\",\"female\",\"female\",\"female\",\"female\",\"female\",\"female\",\"female\",\"female\",\"female\",\"female\",\"female\",\"female\",\"female\",\"female\",\"female\",\"female\",\"female\",\"female\",\"female\",\"female\",\"female\",\"female\",\"female\",\"female\",\"female\",\"female\",\"female\",\"female\",\"female\",\"female\",\"female\",\"female\",\"female\",\"female\",\"female\",\"female\",\"female\",\"female\",\"female\",\"female\",\"female\",\"female\",\"female\",\"female\",\"female\",\"female\",\"female\",\"female\",\"female\",\"female\",\"female\",\"female\",\"female\",\"female\",\"female\",\"female\",\"female\",\"female\",\"female\",\"female\",\"female\",\"female\",\"female\",\"female\",\"female\",\"female\",\"female\",\"female\",\"female\",\"female\",\"female\",\"female\",\"female\",\"female\",\"female\",\"female\",\"female\",\"female\",\"female\",\"female\",\"female\",\"female\",\"female\",\"female\",\"female\",\"female\",\"female\",\"female\",\"female\",\"female\",\"female\",\"female\",\"female\",\"female\",\"female\",\"female\",\"female\",\"female\",\"female\",\"female\",\"female\",\"female\",\"female\",\"female\",\"female\",\"female\",\"female\",\"female\",\"female\",\"female\",\"female\",\"female\",\"female\",\"female\",\"female\",\"female\",\"female\",\"female\",\"female\",\"female\",\"female\",\"female\",\"female\",\"female\",\"female\",\"female\",\"female\",\"female\",\"female\",\"female\",\"female\",\"female\",\"female\",\"female\",\"female\",\"female\",\"female\",\"female\",\"female\",\"female\",\"female\",\"female\",\"female\",\"female\",\"female\",\"female\",\"female\",\"female\",\"female\",\"female\",\"female\",\"female\",\"female\",\"female\",\"female\",\"female\",\"female\",\"female\",\"female\",\"female\",\"female\",\"female\",\"female\",\"female\",\"female\",\"female\",\"female\",\"female\",\"female\",\"female\",\"female\",\"female\",\"female\",\"female\",\"female\",\"female\",\"female\",\"female\",\"female\",\"female\",\"female\",\"female\",\"female\",\"female\",\"female\",\"female\",\"female\",\"female\",\"female\",\"female\",\"female\",\"female\",\"female\",\"female\",\"female\",\"female\",\"female\",\"female\",\"female\",\"female\",\"female\",\"female\",\"female\",\"female\",\"female\",\"female\",\"female\",\"female\",\"female\",\"female\",\"female\",\"female\",\"female\",\"female\",\"female\",\"female\",\"female\",\"female\",\"female\",\"female\",\"female\",\"female\",\"female\",\"female\",\"female\",\"female\",\"female\",\"female\",\"female\",\"female\",\"female\",\"female\",\"female\",\"female\",\"female\",\"female\",\"female\",\"female\",\"female\",\"female\",\"female\",\"female\",\"female\",\"female\",\"female\",\"female\",\"female\",\"female\",\"female\",\"female\",\"female\",\"female\",\"female\",\"female\",\"female\",\"female\",\"female\",\"female\",\"female\",\"female\",\"female\",\"female\",\"female\",\"female\",\"female\",\"female\",\"female\",\"female\",\"female\",\"female\",\"female\",\"female\",\"female\",\"female\",\"female\",\"female\",\"female\",\"female\",\"female\",\"female\",\"female\",\"female\",\"female\",\"female\",\"female\",\"female\",\"female\",\"female\",\"female\",\"female\",\"female\",\"female\",\"female\",\"female\",\"female\",\"female\",\"female\",\"female\",\"female\",\"female\",\"female\",\"female\",\"female\",\"female\",\"female\",\"female\",\"female\",\"female\",\"female\",\"female\",\"female\",\"female\",\"female\",\"female\",\"female\",\"female\",\"female\",\"female\",\"female\",\"female\",\"female\",\"female\",\"female\",\"female\",\"female\",\"female\",\"female\",\"female\",\"female\",\"female\",\"female\",\"female\",\"female\",\"female\",\"female\",\"female\",\"female\",\"female\",\"female\",\"female\",\"female\",\"female\",\"female\",\"female\",\"female\",\"female\",\"female\",\"female\",\"female\",\"female\",\"female\",\"female\",\"female\",\"female\",\"female\",\"female\",\"female\",\"female\",\"female\",\"female\",\"female\",\"female\",\"female\",\"female\",\"female\",\"female\",\"female\",\"female\",\"female\",\"female\",\"female\",\"female\",\"female\",\"female\",\"female\",\"female\",\"female\",\"female\",\"female\",\"female\",\"female\",\"female\",\"female\",\"female\",\"female\",\"female\",\"female\",\"female\",\"female\",\"female\",\"female\",\"female\",\"female\",\"female\",\"female\",\"female\",\"female\",\"female\",\"female\",\"female\",\"female\",\"female\",\"female\",\"female\"],\"xaxis\":\"x\",\"yaxis\":\"y\",\"type\":\"histogram\"}],                        {\"template\":{\"data\":{\"pie\":[{\"automargin\":true,\"type\":\"pie\"}],\"scatter3d\":[{\"line\":{\"width\":3},\"marker\":{\"size\":9},\"type\":\"scatter3d\"}],\"scattergeo\":[{\"line\":{\"width\":3},\"marker\":{\"size\":9},\"type\":\"scattergeo\"}],\"scattergl\":[{\"line\":{\"width\":3},\"marker\":{\"size\":9},\"type\":\"scattergl\"}],\"scatterpolargl\":[{\"line\":{\"width\":3},\"marker\":{\"size\":9},\"type\":\"scatterpolargl\"}],\"scatterpolar\":[{\"line\":{\"width\":3},\"marker\":{\"size\":9},\"type\":\"scatterpolar\"}],\"scatter\":[{\"line\":{\"width\":3},\"marker\":{\"size\":9},\"type\":\"scatter\"}],\"scatterternary\":[{\"line\":{\"width\":3},\"marker\":{\"size\":9},\"type\":\"scatterternary\"}],\"table\":[{\"cells\":{\"height\":30},\"header\":{\"height\":36},\"type\":\"table\"}]},\"layout\":{\"font\":{\"size\":18},\"xaxis\":{\"title\":{\"standoff\":15}},\"yaxis\":{\"title\":{\"standoff\":15}}}},\"xaxis\":{\"anchor\":\"y\",\"domain\":[0.0,1.0],\"title\":{\"text\":\"gender\"},\"categoryorder\":\"array\",\"categoryarray\":[\"male\",\"female\"]},\"yaxis\":{\"anchor\":\"x\",\"domain\":[0.0,1.0],\"title\":{\"text\":\"count\"}},\"legend\":{\"title\":{\"text\":\"gender\"},\"tracegroupgap\":0},\"title\":{\"text\":\"Count by Gender\"},\"barmode\":\"relative\",\"width\":500},                        {\"responsive\": true}                    ).then(function(){\n",
              "                            \n",
              "var gd = document.getElementById('98eb62e9-cb4e-4e1b-a3c7-307d876fb34b');\n",
              "var x = new MutationObserver(function (mutations, observer) {{\n",
              "        var display = window.getComputedStyle(gd).display;\n",
              "        if (!display || display === 'none') {{\n",
              "            console.log([gd, 'removed!']);\n",
              "            Plotly.purge(gd);\n",
              "            observer.disconnect();\n",
              "        }}\n",
              "}});\n",
              "\n",
              "// Listen for the removal of the full notebook cells\n",
              "var notebookContainer = gd.closest('#notebook-container');\n",
              "if (notebookContainer) {{\n",
              "    x.observe(notebookContainer, {childList: true});\n",
              "}}\n",
              "\n",
              "// Listen for the clearing of the current output cell\n",
              "var outputEl = gd.closest('.output');\n",
              "if (outputEl) {{\n",
              "    x.observe(outputEl, {childList: true});\n",
              "}}\n",
              "\n",
              "                        })                };                            </script>        </div>\n",
              "</body>\n",
              "</html>"
            ]
          },
          "metadata": {}
        }
      ]
    },
    {
      "cell_type": "markdown",
      "source": [
        "* **Almost Equel counts of Male and Female**"
      ],
      "metadata": {
        "id": "p1z_hXQY81Aj"
      }
    },
    {
      "cell_type": "code",
      "source": [
        "px.histogram(df,'diabetic', color = 'diabetic', text_auto= True, title='Count by diabetic', template='presentation', width=500)"
      ],
      "metadata": {
        "colab": {
          "base_uri": "https://localhost:8080/",
          "height": 542
        },
        "id": "O7eIrw9CNRKU",
        "outputId": "d011f1d7-24ff-40dc-ebc8-f212b621b842"
      },
      "execution_count": 20,
      "outputs": [
        {
          "output_type": "display_data",
          "data": {
            "text/html": [
              "<html>\n",
              "<head><meta charset=\"utf-8\" /></head>\n",
              "<body>\n",
              "    <div>            <script src=\"https://cdnjs.cloudflare.com/ajax/libs/mathjax/2.7.5/MathJax.js?config=TeX-AMS-MML_SVG\"></script><script type=\"text/javascript\">if (window.MathJax && window.MathJax.Hub && window.MathJax.Hub.Config) {window.MathJax.Hub.Config({SVG: {font: \"STIX-Web\"}});}</script>                <script type=\"text/javascript\">window.PlotlyConfig = {MathJaxConfig: 'local'};</script>\n",
              "        <script src=\"https://cdn.plot.ly/plotly-2.18.2.min.js\"></script>                <div id=\"895b6b50-7d15-4c17-9e00-e051058563e6\" class=\"plotly-graph-div\" style=\"height:525px; width:500px;\"></div>            <script type=\"text/javascript\">                                    window.PLOTLYENV=window.PLOTLYENV || {};                                    if (document.getElementById(\"895b6b50-7d15-4c17-9e00-e051058563e6\")) {                    Plotly.newPlot(                        \"895b6b50-7d15-4c17-9e00-e051058563e6\",                        [{\"alignmentgroup\":\"True\",\"bingroup\":\"x\",\"hovertemplate\":\"diabetic=%{x}<br>count=%{y}<extra></extra>\",\"legendgroup\":\"Yes\",\"marker\":{\"color\":\"#1F77B4\",\"pattern\":{\"shape\":\"\"}},\"name\":\"Yes\",\"offsetgroup\":\"Yes\",\"orientation\":\"v\",\"showlegend\":true,\"texttemplate\":\"%{value}\",\"x\":[\"Yes\",\"Yes\",\"Yes\",\"Yes\",\"Yes\",\"Yes\",\"Yes\",\"Yes\",\"Yes\",\"Yes\",\"Yes\",\"Yes\",\"Yes\",\"Yes\",\"Yes\",\"Yes\",\"Yes\",\"Yes\",\"Yes\",\"Yes\",\"Yes\",\"Yes\",\"Yes\",\"Yes\",\"Yes\",\"Yes\",\"Yes\",\"Yes\",\"Yes\",\"Yes\",\"Yes\",\"Yes\",\"Yes\",\"Yes\",\"Yes\",\"Yes\",\"Yes\",\"Yes\",\"Yes\",\"Yes\",\"Yes\",\"Yes\",\"Yes\",\"Yes\",\"Yes\",\"Yes\",\"Yes\",\"Yes\",\"Yes\",\"Yes\",\"Yes\",\"Yes\",\"Yes\",\"Yes\",\"Yes\",\"Yes\",\"Yes\",\"Yes\",\"Yes\",\"Yes\",\"Yes\",\"Yes\",\"Yes\",\"Yes\",\"Yes\",\"Yes\",\"Yes\",\"Yes\",\"Yes\",\"Yes\",\"Yes\",\"Yes\",\"Yes\",\"Yes\",\"Yes\",\"Yes\",\"Yes\",\"Yes\",\"Yes\",\"Yes\",\"Yes\",\"Yes\",\"Yes\",\"Yes\",\"Yes\",\"Yes\",\"Yes\",\"Yes\",\"Yes\",\"Yes\",\"Yes\",\"Yes\",\"Yes\",\"Yes\",\"Yes\",\"Yes\",\"Yes\",\"Yes\",\"Yes\",\"Yes\",\"Yes\",\"Yes\",\"Yes\",\"Yes\",\"Yes\",\"Yes\",\"Yes\",\"Yes\",\"Yes\",\"Yes\",\"Yes\",\"Yes\",\"Yes\",\"Yes\",\"Yes\",\"Yes\",\"Yes\",\"Yes\",\"Yes\",\"Yes\",\"Yes\",\"Yes\",\"Yes\",\"Yes\",\"Yes\",\"Yes\",\"Yes\",\"Yes\",\"Yes\",\"Yes\",\"Yes\",\"Yes\",\"Yes\",\"Yes\",\"Yes\",\"Yes\",\"Yes\",\"Yes\",\"Yes\",\"Yes\",\"Yes\",\"Yes\",\"Yes\",\"Yes\",\"Yes\",\"Yes\",\"Yes\",\"Yes\",\"Yes\",\"Yes\",\"Yes\",\"Yes\",\"Yes\",\"Yes\",\"Yes\",\"Yes\",\"Yes\",\"Yes\",\"Yes\",\"Yes\",\"Yes\",\"Yes\",\"Yes\",\"Yes\",\"Yes\",\"Yes\",\"Yes\",\"Yes\",\"Yes\",\"Yes\",\"Yes\",\"Yes\",\"Yes\",\"Yes\",\"Yes\",\"Yes\",\"Yes\",\"Yes\",\"Yes\",\"Yes\",\"Yes\",\"Yes\",\"Yes\",\"Yes\",\"Yes\",\"Yes\",\"Yes\",\"Yes\",\"Yes\",\"Yes\",\"Yes\",\"Yes\",\"Yes\",\"Yes\",\"Yes\",\"Yes\",\"Yes\",\"Yes\",\"Yes\",\"Yes\",\"Yes\",\"Yes\",\"Yes\",\"Yes\",\"Yes\",\"Yes\",\"Yes\",\"Yes\",\"Yes\",\"Yes\",\"Yes\",\"Yes\",\"Yes\",\"Yes\",\"Yes\",\"Yes\",\"Yes\",\"Yes\",\"Yes\",\"Yes\",\"Yes\",\"Yes\",\"Yes\",\"Yes\",\"Yes\",\"Yes\",\"Yes\",\"Yes\",\"Yes\",\"Yes\",\"Yes\",\"Yes\",\"Yes\",\"Yes\",\"Yes\",\"Yes\",\"Yes\",\"Yes\",\"Yes\",\"Yes\",\"Yes\",\"Yes\",\"Yes\",\"Yes\",\"Yes\",\"Yes\",\"Yes\",\"Yes\",\"Yes\",\"Yes\",\"Yes\",\"Yes\",\"Yes\",\"Yes\",\"Yes\",\"Yes\",\"Yes\",\"Yes\",\"Yes\",\"Yes\",\"Yes\",\"Yes\",\"Yes\",\"Yes\",\"Yes\",\"Yes\",\"Yes\",\"Yes\",\"Yes\",\"Yes\",\"Yes\",\"Yes\",\"Yes\",\"Yes\",\"Yes\",\"Yes\",\"Yes\",\"Yes\",\"Yes\",\"Yes\",\"Yes\",\"Yes\",\"Yes\",\"Yes\",\"Yes\",\"Yes\",\"Yes\",\"Yes\",\"Yes\",\"Yes\",\"Yes\",\"Yes\",\"Yes\",\"Yes\",\"Yes\",\"Yes\",\"Yes\",\"Yes\",\"Yes\",\"Yes\",\"Yes\",\"Yes\",\"Yes\",\"Yes\",\"Yes\",\"Yes\",\"Yes\",\"Yes\",\"Yes\",\"Yes\",\"Yes\",\"Yes\",\"Yes\",\"Yes\",\"Yes\",\"Yes\",\"Yes\",\"Yes\",\"Yes\",\"Yes\",\"Yes\",\"Yes\",\"Yes\",\"Yes\",\"Yes\",\"Yes\",\"Yes\",\"Yes\",\"Yes\",\"Yes\",\"Yes\",\"Yes\",\"Yes\",\"Yes\",\"Yes\",\"Yes\",\"Yes\",\"Yes\",\"Yes\",\"Yes\",\"Yes\",\"Yes\",\"Yes\",\"Yes\",\"Yes\",\"Yes\",\"Yes\",\"Yes\",\"Yes\",\"Yes\",\"Yes\",\"Yes\",\"Yes\",\"Yes\",\"Yes\",\"Yes\",\"Yes\",\"Yes\",\"Yes\",\"Yes\",\"Yes\",\"Yes\",\"Yes\",\"Yes\",\"Yes\",\"Yes\",\"Yes\",\"Yes\",\"Yes\",\"Yes\",\"Yes\",\"Yes\",\"Yes\",\"Yes\",\"Yes\",\"Yes\",\"Yes\",\"Yes\",\"Yes\",\"Yes\",\"Yes\",\"Yes\",\"Yes\",\"Yes\",\"Yes\",\"Yes\",\"Yes\",\"Yes\",\"Yes\",\"Yes\",\"Yes\",\"Yes\",\"Yes\",\"Yes\",\"Yes\",\"Yes\",\"Yes\",\"Yes\",\"Yes\",\"Yes\",\"Yes\",\"Yes\",\"Yes\",\"Yes\",\"Yes\",\"Yes\",\"Yes\",\"Yes\",\"Yes\",\"Yes\",\"Yes\",\"Yes\",\"Yes\",\"Yes\",\"Yes\",\"Yes\",\"Yes\",\"Yes\",\"Yes\",\"Yes\",\"Yes\",\"Yes\",\"Yes\",\"Yes\",\"Yes\",\"Yes\",\"Yes\",\"Yes\",\"Yes\",\"Yes\",\"Yes\",\"Yes\",\"Yes\",\"Yes\",\"Yes\",\"Yes\",\"Yes\",\"Yes\",\"Yes\",\"Yes\",\"Yes\",\"Yes\",\"Yes\",\"Yes\",\"Yes\",\"Yes\",\"Yes\",\"Yes\",\"Yes\",\"Yes\",\"Yes\",\"Yes\",\"Yes\",\"Yes\",\"Yes\",\"Yes\",\"Yes\",\"Yes\",\"Yes\",\"Yes\",\"Yes\",\"Yes\",\"Yes\",\"Yes\",\"Yes\",\"Yes\",\"Yes\",\"Yes\",\"Yes\",\"Yes\",\"Yes\",\"Yes\",\"Yes\",\"Yes\",\"Yes\",\"Yes\",\"Yes\",\"Yes\",\"Yes\",\"Yes\",\"Yes\",\"Yes\",\"Yes\",\"Yes\",\"Yes\",\"Yes\",\"Yes\",\"Yes\",\"Yes\",\"Yes\",\"Yes\",\"Yes\",\"Yes\",\"Yes\",\"Yes\",\"Yes\",\"Yes\",\"Yes\",\"Yes\",\"Yes\",\"Yes\",\"Yes\",\"Yes\",\"Yes\",\"Yes\",\"Yes\",\"Yes\",\"Yes\",\"Yes\",\"Yes\",\"Yes\",\"Yes\",\"Yes\",\"Yes\",\"Yes\",\"Yes\",\"Yes\",\"Yes\",\"Yes\",\"Yes\",\"Yes\",\"Yes\",\"Yes\",\"Yes\",\"Yes\",\"Yes\",\"Yes\",\"Yes\",\"Yes\",\"Yes\",\"Yes\",\"Yes\",\"Yes\",\"Yes\",\"Yes\",\"Yes\",\"Yes\",\"Yes\",\"Yes\",\"Yes\",\"Yes\",\"Yes\",\"Yes\",\"Yes\",\"Yes\",\"Yes\",\"Yes\",\"Yes\",\"Yes\",\"Yes\",\"Yes\",\"Yes\",\"Yes\",\"Yes\",\"Yes\",\"Yes\",\"Yes\",\"Yes\",\"Yes\",\"Yes\",\"Yes\",\"Yes\",\"Yes\",\"Yes\",\"Yes\",\"Yes\",\"Yes\",\"Yes\",\"Yes\",\"Yes\",\"Yes\",\"Yes\",\"Yes\",\"Yes\",\"Yes\",\"Yes\",\"Yes\",\"Yes\",\"Yes\",\"Yes\",\"Yes\",\"Yes\",\"Yes\",\"Yes\",\"Yes\",\"Yes\",\"Yes\",\"Yes\",\"Yes\",\"Yes\",\"Yes\",\"Yes\",\"Yes\",\"Yes\",\"Yes\",\"Yes\",\"Yes\",\"Yes\",\"Yes\",\"Yes\",\"Yes\",\"Yes\",\"Yes\",\"Yes\",\"Yes\",\"Yes\",\"Yes\",\"Yes\",\"Yes\",\"Yes\",\"Yes\",\"Yes\",\"Yes\",\"Yes\",\"Yes\",\"Yes\",\"Yes\",\"Yes\",\"Yes\",\"Yes\",\"Yes\",\"Yes\",\"Yes\",\"Yes\",\"Yes\",\"Yes\",\"Yes\",\"Yes\",\"Yes\",\"Yes\",\"Yes\",\"Yes\",\"Yes\",\"Yes\",\"Yes\",\"Yes\",\"Yes\",\"Yes\",\"Yes\",\"Yes\"],\"xaxis\":\"x\",\"yaxis\":\"y\",\"type\":\"histogram\"},{\"alignmentgroup\":\"True\",\"bingroup\":\"x\",\"hovertemplate\":\"diabetic=%{x}<br>count=%{y}<extra></extra>\",\"legendgroup\":\"No\",\"marker\":{\"color\":\"#FF7F0E\",\"pattern\":{\"shape\":\"\"}},\"name\":\"No\",\"offsetgroup\":\"No\",\"orientation\":\"v\",\"showlegend\":true,\"texttemplate\":\"%{value}\",\"x\":[\"No\",\"No\",\"No\",\"No\",\"No\",\"No\",\"No\",\"No\",\"No\",\"No\",\"No\",\"No\",\"No\",\"No\",\"No\",\"No\",\"No\",\"No\",\"No\",\"No\",\"No\",\"No\",\"No\",\"No\",\"No\",\"No\",\"No\",\"No\",\"No\",\"No\",\"No\",\"No\",\"No\",\"No\",\"No\",\"No\",\"No\",\"No\",\"No\",\"No\",\"No\",\"No\",\"No\",\"No\",\"No\",\"No\",\"No\",\"No\",\"No\",\"No\",\"No\",\"No\",\"No\",\"No\",\"No\",\"No\",\"No\",\"No\",\"No\",\"No\",\"No\",\"No\",\"No\",\"No\",\"No\",\"No\",\"No\",\"No\",\"No\",\"No\",\"No\",\"No\",\"No\",\"No\",\"No\",\"No\",\"No\",\"No\",\"No\",\"No\",\"No\",\"No\",\"No\",\"No\",\"No\",\"No\",\"No\",\"No\",\"No\",\"No\",\"No\",\"No\",\"No\",\"No\",\"No\",\"No\",\"No\",\"No\",\"No\",\"No\",\"No\",\"No\",\"No\",\"No\",\"No\",\"No\",\"No\",\"No\",\"No\",\"No\",\"No\",\"No\",\"No\",\"No\",\"No\",\"No\",\"No\",\"No\",\"No\",\"No\",\"No\",\"No\",\"No\",\"No\",\"No\",\"No\",\"No\",\"No\",\"No\",\"No\",\"No\",\"No\",\"No\",\"No\",\"No\",\"No\",\"No\",\"No\",\"No\",\"No\",\"No\",\"No\",\"No\",\"No\",\"No\",\"No\",\"No\",\"No\",\"No\",\"No\",\"No\",\"No\",\"No\",\"No\",\"No\",\"No\",\"No\",\"No\",\"No\",\"No\",\"No\",\"No\",\"No\",\"No\",\"No\",\"No\",\"No\",\"No\",\"No\",\"No\",\"No\",\"No\",\"No\",\"No\",\"No\",\"No\",\"No\",\"No\",\"No\",\"No\",\"No\",\"No\",\"No\",\"No\",\"No\",\"No\",\"No\",\"No\",\"No\",\"No\",\"No\",\"No\",\"No\",\"No\",\"No\",\"No\",\"No\",\"No\",\"No\",\"No\",\"No\",\"No\",\"No\",\"No\",\"No\",\"No\",\"No\",\"No\",\"No\",\"No\",\"No\",\"No\",\"No\",\"No\",\"No\",\"No\",\"No\",\"No\",\"No\",\"No\",\"No\",\"No\",\"No\",\"No\",\"No\",\"No\",\"No\",\"No\",\"No\",\"No\",\"No\",\"No\",\"No\",\"No\",\"No\",\"No\",\"No\",\"No\",\"No\",\"No\",\"No\",\"No\",\"No\",\"No\",\"No\",\"No\",\"No\",\"No\",\"No\",\"No\",\"No\",\"No\",\"No\",\"No\",\"No\",\"No\",\"No\",\"No\",\"No\",\"No\",\"No\",\"No\",\"No\",\"No\",\"No\",\"No\",\"No\",\"No\",\"No\",\"No\",\"No\",\"No\",\"No\",\"No\",\"No\",\"No\",\"No\",\"No\",\"No\",\"No\",\"No\",\"No\",\"No\",\"No\",\"No\",\"No\",\"No\",\"No\",\"No\",\"No\",\"No\",\"No\",\"No\",\"No\",\"No\",\"No\",\"No\",\"No\",\"No\",\"No\",\"No\",\"No\",\"No\",\"No\",\"No\",\"No\",\"No\",\"No\",\"No\",\"No\",\"No\",\"No\",\"No\",\"No\",\"No\",\"No\",\"No\",\"No\",\"No\",\"No\",\"No\",\"No\",\"No\",\"No\",\"No\",\"No\",\"No\",\"No\",\"No\",\"No\",\"No\",\"No\",\"No\",\"No\",\"No\",\"No\",\"No\",\"No\",\"No\",\"No\",\"No\",\"No\",\"No\",\"No\",\"No\",\"No\",\"No\",\"No\",\"No\",\"No\",\"No\",\"No\",\"No\",\"No\",\"No\",\"No\",\"No\",\"No\",\"No\",\"No\",\"No\",\"No\",\"No\",\"No\",\"No\",\"No\",\"No\",\"No\",\"No\",\"No\",\"No\",\"No\",\"No\",\"No\",\"No\",\"No\",\"No\",\"No\",\"No\",\"No\",\"No\",\"No\",\"No\",\"No\",\"No\",\"No\",\"No\",\"No\",\"No\",\"No\",\"No\",\"No\",\"No\",\"No\",\"No\",\"No\",\"No\",\"No\",\"No\",\"No\",\"No\",\"No\",\"No\",\"No\",\"No\",\"No\",\"No\",\"No\",\"No\",\"No\",\"No\",\"No\",\"No\",\"No\",\"No\",\"No\",\"No\",\"No\",\"No\",\"No\",\"No\",\"No\",\"No\",\"No\",\"No\",\"No\",\"No\",\"No\",\"No\",\"No\",\"No\",\"No\",\"No\",\"No\",\"No\",\"No\",\"No\",\"No\",\"No\",\"No\",\"No\",\"No\",\"No\",\"No\",\"No\",\"No\",\"No\",\"No\",\"No\",\"No\",\"No\",\"No\",\"No\",\"No\",\"No\",\"No\",\"No\",\"No\",\"No\",\"No\",\"No\",\"No\",\"No\",\"No\",\"No\",\"No\",\"No\",\"No\",\"No\",\"No\",\"No\",\"No\",\"No\",\"No\",\"No\",\"No\",\"No\",\"No\",\"No\",\"No\",\"No\",\"No\",\"No\",\"No\",\"No\",\"No\",\"No\",\"No\",\"No\",\"No\",\"No\",\"No\",\"No\",\"No\",\"No\",\"No\",\"No\",\"No\",\"No\",\"No\",\"No\",\"No\",\"No\",\"No\",\"No\",\"No\",\"No\",\"No\",\"No\",\"No\",\"No\",\"No\",\"No\",\"No\",\"No\",\"No\",\"No\",\"No\",\"No\",\"No\",\"No\",\"No\",\"No\",\"No\",\"No\",\"No\",\"No\",\"No\",\"No\",\"No\",\"No\",\"No\",\"No\",\"No\",\"No\",\"No\",\"No\",\"No\",\"No\",\"No\",\"No\",\"No\",\"No\",\"No\",\"No\",\"No\",\"No\",\"No\",\"No\",\"No\",\"No\",\"No\",\"No\",\"No\",\"No\",\"No\",\"No\",\"No\",\"No\",\"No\",\"No\",\"No\",\"No\",\"No\",\"No\",\"No\",\"No\",\"No\",\"No\",\"No\",\"No\",\"No\",\"No\",\"No\",\"No\",\"No\",\"No\",\"No\",\"No\",\"No\",\"No\",\"No\",\"No\",\"No\",\"No\",\"No\",\"No\",\"No\",\"No\",\"No\",\"No\",\"No\",\"No\",\"No\",\"No\",\"No\",\"No\",\"No\",\"No\",\"No\",\"No\",\"No\",\"No\",\"No\",\"No\",\"No\",\"No\",\"No\",\"No\",\"No\",\"No\",\"No\",\"No\",\"No\",\"No\",\"No\",\"No\",\"No\",\"No\",\"No\",\"No\",\"No\",\"No\",\"No\",\"No\",\"No\",\"No\",\"No\",\"No\",\"No\",\"No\",\"No\",\"No\",\"No\",\"No\",\"No\",\"No\",\"No\",\"No\",\"No\",\"No\",\"No\",\"No\",\"No\",\"No\",\"No\",\"No\",\"No\",\"No\",\"No\",\"No\",\"No\",\"No\",\"No\",\"No\",\"No\",\"No\",\"No\",\"No\",\"No\",\"No\",\"No\",\"No\",\"No\",\"No\",\"No\",\"No\",\"No\",\"No\",\"No\",\"No\",\"No\",\"No\",\"No\",\"No\",\"No\",\"No\",\"No\",\"No\",\"No\",\"No\",\"No\",\"No\",\"No\",\"No\",\"No\",\"No\",\"No\",\"No\",\"No\",\"No\",\"No\",\"No\",\"No\",\"No\",\"No\",\"No\"],\"xaxis\":\"x\",\"yaxis\":\"y\",\"type\":\"histogram\"}],                        {\"template\":{\"data\":{\"pie\":[{\"automargin\":true,\"type\":\"pie\"}],\"scatter3d\":[{\"line\":{\"width\":3},\"marker\":{\"size\":9},\"type\":\"scatter3d\"}],\"scattergeo\":[{\"line\":{\"width\":3},\"marker\":{\"size\":9},\"type\":\"scattergeo\"}],\"scattergl\":[{\"line\":{\"width\":3},\"marker\":{\"size\":9},\"type\":\"scattergl\"}],\"scatterpolargl\":[{\"line\":{\"width\":3},\"marker\":{\"size\":9},\"type\":\"scatterpolargl\"}],\"scatterpolar\":[{\"line\":{\"width\":3},\"marker\":{\"size\":9},\"type\":\"scatterpolar\"}],\"scatter\":[{\"line\":{\"width\":3},\"marker\":{\"size\":9},\"type\":\"scatter\"}],\"scatterternary\":[{\"line\":{\"width\":3},\"marker\":{\"size\":9},\"type\":\"scatterternary\"}],\"table\":[{\"cells\":{\"height\":30},\"header\":{\"height\":36},\"type\":\"table\"}]},\"layout\":{\"font\":{\"size\":18},\"xaxis\":{\"title\":{\"standoff\":15}},\"yaxis\":{\"title\":{\"standoff\":15}}}},\"xaxis\":{\"anchor\":\"y\",\"domain\":[0.0,1.0],\"title\":{\"text\":\"diabetic\"},\"categoryorder\":\"array\",\"categoryarray\":[\"Yes\",\"No\"]},\"yaxis\":{\"anchor\":\"x\",\"domain\":[0.0,1.0],\"title\":{\"text\":\"count\"}},\"legend\":{\"title\":{\"text\":\"diabetic\"},\"tracegroupgap\":0},\"title\":{\"text\":\"Count by diabetic\"},\"barmode\":\"relative\",\"width\":500},                        {\"responsive\": true}                    ).then(function(){\n",
              "                            \n",
              "var gd = document.getElementById('895b6b50-7d15-4c17-9e00-e051058563e6');\n",
              "var x = new MutationObserver(function (mutations, observer) {{\n",
              "        var display = window.getComputedStyle(gd).display;\n",
              "        if (!display || display === 'none') {{\n",
              "            console.log([gd, 'removed!']);\n",
              "            Plotly.purge(gd);\n",
              "            observer.disconnect();\n",
              "        }}\n",
              "}});\n",
              "\n",
              "// Listen for the removal of the full notebook cells\n",
              "var notebookContainer = gd.closest('#notebook-container');\n",
              "if (notebookContainer) {{\n",
              "    x.observe(notebookContainer, {childList: true});\n",
              "}}\n",
              "\n",
              "// Listen for the clearing of the current output cell\n",
              "var outputEl = gd.closest('.output');\n",
              "if (outputEl) {{\n",
              "    x.observe(outputEl, {childList: true});\n",
              "}}\n",
              "\n",
              "                        })                };                            </script>        </div>\n",
              "</body>\n",
              "</html>"
            ]
          },
          "metadata": {}
        }
      ]
    },
    {
      "cell_type": "markdown",
      "source": [
        "* **Almost Equal count of Diabetic or non Diabetic person**"
      ],
      "metadata": {
        "id": "ib9l-SCtO8x_"
      }
    },
    {
      "cell_type": "code",
      "source": [
        "sns.histplot(df['age'], kde= True)\n",
        "plt.title('Age Distribution')"
      ],
      "metadata": {
        "colab": {
          "base_uri": "https://localhost:8080/",
          "height": 489
        },
        "id": "cDENWfUipXUQ",
        "outputId": "104d3cb4-3454-4921-d0ad-09442430a771"
      },
      "execution_count": 21,
      "outputs": [
        {
          "output_type": "execute_result",
          "data": {
            "text/plain": [
              "Text(0.5, 1.0, 'Age Distribution')"
            ]
          },
          "metadata": {},
          "execution_count": 21
        },
        {
          "output_type": "display_data",
          "data": {
            "text/plain": [
              "<Figure size 640x480 with 1 Axes>"
            ],
            "image/png": "[encoded data removed]"
          },
          "metadata": {}
        }
      ]
    },
    {
      "cell_type": "markdown",
      "source": [
        "* **As per Age distribution chart most of the insurance claimend by person whose age is between 25-50 years.**"
      ],
      "metadata": {
        "id": "JImuuwtPsKqe"
      }
    },
    {
      "cell_type": "code",
      "source": [
        "px.scatter(df,y = \"bmi\",x = \"claim\",title ='Claim by BMI', template='presentation', trendline = 'lowess', trendline_color_override='orange', width=700)"
      ],
      "metadata": {
        "colab": {
          "base_uri": "https://localhost:8080/",
          "height": 542
        },
        "id": "fTJVnn52CgQf",
        "outputId": "55efc004-0b15-479c-bf67-5e7b404e22ba"
      },
      "execution_count": 22,
      "outputs": [
        {
          "output_type": "display_data",
          "data": {
            "text/html": [
              "<html>\n",
              "<head><meta charset=\"utf-8\" /></head>\n",
              "<body>\n",
              "    <div>            <script src=\"https://cdnjs.cloudflare.com/ajax/libs/mathjax/2.7.5/MathJax.js?config=TeX-AMS-MML_SVG\"></script><script type=\"text/javascript\">if (window.MathJax && window.MathJax.Hub && window.MathJax.Hub.Config) {window.MathJax.Hub.Config({SVG: {font: \"STIX-Web\"}});}</script>                <script type=\"text/javascript\">window.PlotlyConfig = {MathJaxConfig: 'local'};</script>\n",
              "        <script src=\"https://cdn.plot.ly/plotly-2.18.2.min.js\"></script>                <div id=\"340753b1-048b-47d0-b0fa-a256319da398\" class=\"plotly-graph-div\" style=\"height:525px; width:700px;\"></div>            <script type=\"text/javascript\">                                    window.PLOTLYENV=window.PLOTLYENV || {};                                    if (document.getElementById(\"340753b1-048b-47d0-b0fa-a256319da398\")) {                    Plotly.newPlot(                        \"340753b1-048b-47d0-b0fa-a256319da398\",                        [{\"hovertemplate\":\"claim=%{x}<br>bmi=%{y}<extra></extra>\",\"legendgroup\":\"\",\"marker\":{\"color\":\"#1F77B4\",\"symbol\":\"circle\"},\"mode\":\"markers\",\"name\":\"\",\"showlegend\":false,\"x\":[1121,1131,1135,1136,1137,1137,1141,1146,1149,1163,1241,1242,1242,1261,1261,1263,1391,1515,1526,1532,1534,1607,1149,1615,1621,1621,1622,1625,1627,1628,1629,1631,1631,1632,1632,1633,1633,1634,1635,1639,1639,1646,1665,1674,1682,1694,1702,1704,1704,1705,1708,1708,1711,1712,1719,1720,1725,1727,1727,1728,1731,1737,1743,1744,1748,1759,1769,1815,1824,1826,1832,1837,1837,1842,1875,1877,1880,1880,1906,1909,1917,1964,1967,1969,1972,1977,1980,1981,1984,1986,2007,2020,2020,2026,2045,2055,2102,2103,2104,2117,2128,2130,2134,2136,2137,2138,2150,2154,2155,2156,2166,2196,2198,2200,2201,2203,2203,2205,2207,2211,2217,2217,2219,2221,2250,2254,2257,2261,2302,2304,2322,2331,2352,2362,2395,2396,2404,2416,2438,2457,2457,2459,2464,2473,2480,2483,2494,2497,2498,2523,2527,2534,2566,2585,2585,2597,2632,2639,2643,2680,2689,2690,2699,2709,2709,2710,2719,2721,2727,2730,2731,2741,2755,2775,2789,2801,2803,2842,2850,2855,2866,2867,2897,2899,2902,2904,2913,2927,2974,3021,3044,3046,3056,3062,3070,1704,3077,3161,3167,3171,3172,3176,3176,3180,3201,3206,3208,3213,3227,3238,3260,3268,3277,3279,3292,3309,3353,3353,3366,3378,3385,3392,3392,3393,3410,3443,3471,3481,3484,3490,3500,3537,3554,3556,3558,3561,3578,3579,3591,3594,3597,3645,3659,3693,3704,3732,3736,3756,3757,3761,3766,3847,3857,3861,3866,3875,3877,3906,3925,3935,3943,3947,3956,3972,3981,3987,3989,3994,4005,4032,4040,4058,4058,4074,4076,4133,4134,4137,4149,4151,4185,4189,4234,4237,4239,4243,4260,4266,4296,4320,4337,4340,4347,4349,4350,4357,4391,4399,4402,4415,4428,4433,4433,4435,4438,4441,4449,4454,4462,4463,4466,4500,4504,4518,4527,4529,4536,4544,4561,4562,4564,4571,4618,4646,4661,4667,4670,4673,4686,4687,4718,4719,4719,4738,4746,4747,4751,4753,4762,4766,4779,4795,4827,4830,4837,4846,4877,4883,4889,4890,4894,4906,4915,4922,4931,4934,4949,4992,5002,5003,5012,5028,5031,5080,5116,5124,5125,5138,5148,5152,5209,5227,5240,5245,5246,5253,5257,5261,5266,5267,5272,5312,5325,5327,5354,5373,5375,5377,5383,5385,5397,5400,5415,5425,5428,5438,5458,5469,5472,5478,5484,5488,5584,5594,5615,5630,5649,5662,5693,5699,5708,5709,5729,5757,5836,5846,5855,5910,5920,5926,5934,5966,5969,5972,5974,5976,5979,5989,6059,6067,6079,6082,6112,6113,6117,6123,6128,6184,6185,6186,6196,6198,6203,6238,6250,6272,6282,6289,6311,6313,6334,6338,6356,6358,6360,6373,6389,6393,6402,6406,6414,6435,6455,6457,6474,6496,6500,6548,6551,6555,6571,6571,6593,6600,6600,6610,6640,6652,6653,6664,6666,6686,6710,6746,6748,6753,6770,6775,6781,6796,6799,6837,6849,6858,6875,6877,6933,6940,6948,6985,6986,7045,7046,7050,7050,7077,7133,7144,7147,7147,7151,7152,7153,7160,7160,7162,7173,7196,7201,7209,7222,7228,7243,7256,7261,7265,7281,7323,7325,7337,7345,7345,7348,7358,7371,7418,7419,7421,7441,7441,7443,7445,7448,7512,7518,7526,7537,7623,7624,7626,7633,7639,7640,7650,7682,7726,7727,7729,7731,7731,7740,7742,7749,7789,7804,7935,7954,7985,7986,8017,8023,8026,8027,8059,8062,8068,8083,8116,8116,8124,8125,8162,8211,8219,8232,8233,8240,8252,8269,8277,8280,8283,8302,8310,8334,8334,8342,8347,8410,8413,8428,8442,8444,8457,8515,8516,8520,8522,8527,8534,8538,8539,8547,8551,8556,8569,8582,8596,8601,8603,8604,8605,8606,8615,8627,8671,8688,8703,8733,8765,8782,8798,8823,8823,8825,8827,8835,8871,8891,8930,8932,8944,8964,8965,8968,8978,8988,9048,9058,9095,9101,9140,9144,9174,9182,9193,9222,9225,9249,9264,9282,9283,9288,9290,9301,9304,9361,9377,9386,9391,9411,9414,9432,9447,9447,9487,9500,9504,9541,9549,9563,9566,9583,9617,9620,9625,9630,9634,9644,9704,9715,9722,9724,9748,9778,9788,9800,9850,9855,9861,9863,9866,9869,9872,9875,9877,9880,9910,9957,9964,9991,10043,10065,10072,10085,10096,10106,10107,10115,10118,10141,10156,10197,10214,10226,10231,10264,10269,10325,10338,10355,10370,10381,10407,10422,10435,10436,10450,10461,10493,10560,10564,10577,10579,10594,10594,10600,10601,10601,10602,10702,10704,10713,10736,10791,10795,10796,10797,10806,10807,10825,10848,10923,10928,10942,10959,10959,10965,10976,10977,10982,11013,11015,11033,11070,11073,11082,11085,11090,11093,11150,11163,11165,11187,11244,11253,11264,11272,11286,11289,11299,11305,11326,11345,11353,11356,11362,11363,11365,11381,11394,11396,11411,11436,11454,11455,11482,11488,11512,11520,11534,11538,11552,11554,11566,11576,11657,11658,11658,11674,11729,11735,11737,11741,11743,11743,11763,11830,11833,11837,11840,11842,11842,11848,11856,11879,11881,11881,11884,11931,11938,11944,11945,11946,11987,12029,12032,12044,12094,12096,12105,12124,12129,12142,12146,12222,12224,12231,12233,12235,12244,12265,12268,12269,12323,12333,12347,12363,12404,12430,12475,12479,12485,12495,12523,12557,12574,12592,12609,12622,12629,12629,12638,12643,12644,12646,12648,12731,12741,12797,12815,12829,12890,12913,12925,12928,12949,12950,12957,12979,12981,12982,13012,13019,13041,13047,13063,13112,13126,13129,13143,13143,13204,13217,13224,13224,13228,13352,13390,13393,13405,13415,13429,13430,13451,13457,13462,13470,13470,13555,13607,13616,13635,13725,13747,13770,13822,13831,13844,13844,13880,13887,13887,13919,13937,13974,13981,14001,14001,14007,14043,14119,14133,14210,14235,14254,14256,14283,14313,14319,14349,14358,14382,14394,14394,14410,14418,14426,14449,14451,14455,14474,14478,14571,14590,14692,14711,14901,14988,15006,15019,15161,15170,15230,15359,15518,15555,15612,15817,15820,15828,16069,16085,16115,16138,16232,16297,16420,16450,16455,16577,16586,16657,16776,16796,16884,17043,17081,17085,17128,17178,17179,17352,17361,17468,17496,17560,17626,17663,17748,17878,17904,17929,17942,18033,18157,18218,18223,18246,18259,18310,18328,18608,18648,18765,18767,18804,18806,18838,18903,18955,18963,18972,19023,19040,19107,19144,19199,19214,19350,19362,19442,19444,19496,19515,19521,19539,19594,19673,19719,19749,19798,19933,19964,20009,20149,20167,20177,20234,20277,20296,20420,20463,20630,20709,20745,20773,20781,20878,20984,21082,21098,21195,21223,21232,21259,21344,21348,21472,21595,21659,21677,21771,21774,21797,21880,21978,21984,22144,22192,22218,22331,22395,22412,22462,22478,22493,23045,23065,23082,23241,23244,23288,23306,23401,23563,23568,23807,23887,23967,24059,24106,24180,24227,24393,24476,24513,24520,24535,24603,24667,24671,24869,24873,24915,24915,25081,25309,25333,25382,25517,25656,25678,25992,26018,26109,26125,26140,26236,26392,26467,26926,27000,27037,27117,27218,27322,27346,27375,27533,27724,27808,27941,28101,28287,28340,28468,28476,28868,28923,28950,29141,29186,29330,29523,30063,30166,30184,30260,30284,30942,31620,32108,32548,32734,32787,33307,33471,33475,33732,33750,33900,33907,34166,34254,34303,34439,34472,34617,34672,34779,34806,34828,34838,35069,35147,35160,35491,35585,35595,36021,36085,36124,36149,36189,36197,36219,36307,36397,36580,36837,36898,36910,36950,37079,37133,37165,37270,37465,37484,37607,37701,37742,37829,38126,38245,38282,38344,38415,38511,38709,38711,38746,38792,38998,39047,39125,39241,39556,39597,39611,39722,39725,39727,39774,39836,39871,39983,40003,40103,40182,40273,40419,40720,40904,40932,40941,40974,41034,41097,41661,41676,41919,41949,41999,42111,42112,42124,42211,42303,42560,42760,42856,42969,42983,43254,43578,43753,43813,43896,43921,43943,44202,44260,44400,44423,44501,44585,44641,45008,45702,45710,45863,46113,46130,46151,46200,46255,46599,46661,46718,46889,47055,47269,47291,47305,47403,47462,47496,47896,47928,48173,48517,48549,48673,48675,48824,48885,48970,49577,51194,52590,55135,58571,60021,62592,63770],\"xaxis\":\"x\",\"y\":[23.2,30.1,33.3,33.7,34.1,34.4,37.3,41.1,43.0,53.1,19.8,20.3,20.7,34.1,34.4,35.4,33.3,23.2,31.1,35.5,36.9,20.8,43.0,26.7,17.5,31.1,31.4,20.4,21.8,22.6,36.9,38.2,38.3,25.2,25.6,39.2,39.8,40.3,27.8,30.6,30.6,35.5,26.8,33.8,39.5,16.0,21.5,23.0,23.1,23.8,25.5,26.1,23.3,28.5,29.4,30.0,33.8,35.2,17.8,18.6,20.6,24.7,28.9,29.8,32.9,40.5,29.7,26.5,32.6,34.4,20.9,24.6,41.9,28.4,29.6,31.5,33.0,33.3,29.0,31.3,36.9,22.0,27.9,23.4,25.8,29.3,33.0,32.0,40.5,35.9,25.8,34.6,34.9,39.5,25.2,32.1,26.0,22.3,27.4,22.5,30.5,32.1,35.2,36.6,25.7,37.4,24.3,27.1,28.1,28.8,36.0,25.1,26.3,28.2,24.1,30.1,30.3,31.9,33.2,35.6,40.2,40.3,37.3,25.6,28.9,31.7,29.0,31.9,20.8,26.2,35.4,28.4,23.7,32.4,23.8,24.5,35.7,35.2,50.4,28.8,22.6,30.6,27.7,34.0,39.5,23.1,30.5,32.7,33.7,27.6,20.2,35.6,31.1,17.4,22.1,26.4,30.3,28.3,31.4,17.7,38.1,28.1,31.1,24.5,24.6,25.7,31.8,26.2,30.6,39.6,23.2,30.4,39.8,17.4,27.4,32.1,20.6,24.2,29.9,33.3,27.2,27.9,29.5,34.9,29.2,30.0,23.4,46.5,24.1,34.5,25.3,26.6,31.8,30.9,26.0,23.0,23.8,25.8,16.8,33.1,33.4,22.2,22.6,21.9,40.2,23.5,20.8,28.6,34.0,42.1,20.4,35.4,37.1,25.7,33.9,25.8,25.9,21.5,35.5,19.8,28.8,29.5,29.9,38.7,42.4,34.8,38.9,30.4,23.7,32.5,39.3,28.5,27.7,34.8,25.2,23.2,34.8,33.6,32.7,22.5,37.1,25.5,31.4,45.9,30.3,17.3,26.0,25.7,26.6,29.1,37.6,23.8,30.9,20.2,28.9,39.5,30.9,26.8,34.6,34.2,31.2,29.6,31.3,28.9,29.9,34.2,41.1,44.2,20.0,24.1,29.0,37.3,33.2,30.0,31.5,25.9,21.8,27.9,32.4,33.3,24.3,26.8,30.1,27.6,25.9,28.6,30.3,44.2,21.3,35.8,28.9,26.5,31.1,33.0,29.3,29.7,24.3,29.7,31.5,27.7,22.5,31.7,32.1,27.0,29.3,26.9,33.0,27.8,33.8,38.4,35.0,21.4,33.7,34.7,28.4,24.6,42.9,20.5,31.4,29.6,29.4,26.7,30.2,30.8,27.3,37.3,35.2,37.2,46.5,28.6,21.9,22.9,23.8,32.7,27.1,27.6,30.5,43.1,38.6,18.5,28.3,39.8,18.9,37.0,31.6,32.6,26.7,26.2,29.9,35.8,25.3,20.2,30.1,32.1,23.6,25.8,36.6,23.6,26.7,27.5,33.7,29.6,27.6,23.9,17.9,42.1,24.1,38.8,31.5,29.8,22.5,26.1,31.0,34.2,34.8,30.8,24.6,27.5,25.8,26.9,30.0,26.3,30.9,32.8,22.1,30.9,32.9,33.8,27.6,26.4,37.7,40.2,25.1,31.1,37.4,41.7,19.9,27.7,25.9,29.9,28.3,31.0,34.4,33.3,24.3,35.8,32.8,41.8,20.0,33.6,25.6,40.3,34.8,42.7,35.9,43.3,20.0,29.6,36.2,28.9,34.3,24.9,26.9,38.9,28.9,30.7,34.1,37.3,29.4,28.0,37.1,34.7,34.1,30.5,21.9,26.2,33.2,29.3,31.0,31.6,38.0,24.3,28.0,32.5,23.2,21.8,28.8,34.2,29.5,30.8,37.1,32.3,45.4,31.3,42.9,40.6,26.3,29.4,23.5,29.8,27.7,46.5,27.8,29.3,37.9,27.4,29.8,28.6,36.3,27.3,33.0,34.8,25.0,34.1,29.9,41.2,16.8,21.1,33.4,28.4,42.4,23.4,24.5,27.6,28.9,19.0,28.1,32.2,36.1,30.9,28.5,26.0,30.1,23.9,32.2,17.3,19.5,26.3,39.5,22.7,32.3,25.3,26.2,32.9,29.0,25.5,20.0,27.8,22.3,34.3,28.0,38.1,28.3,35.8,36.0,37.2,22.7,35.3,26.3,31.9,21.4,22.1,29.0,30.6,34.2,37.1,27.7,29.2,25.1,29.9,33.1,35.6,35.3,31.6,37.1,34.1,26.4,27.6,30.2,32.6,36.2,33.7,39.8,29.6,25.4,19.9,30.2,25.0,25.8,27.5,32.3,33.2,29.5,41.3,33.0,27.4,34.6,26.1,30.7,35.8,37.1,26.6,33.1,29.7,40.2,38.3,32.6,22.8,23.3,25.0,37.0,27.7,28.7,28.7,32.3,36.2,47.5,32.0,30.3,35.9,36.9,30.9,24.0,29.8,27.7,28.1,33.4,23.4,22.8,28.9,31.1,33.3,22.1,30.7,33.3,33.4,39.4,38.2,30.1,30.5,19.6,25.3,26.6,36.2,27.8,28.6,30.9,34.4,36.3,24.3,33.2,23.6,29.4,32.0,36.0,45.3,23.9,34.3,27.2,23.6,24.0,20.4,27.4,27.5,19.2,36.6,22.5,28.7,40.4,32.3,25.4,37.0,28.9,33.7,30.2,26.4,32.2,32.2,21.9,29.5,25.6,43.9,31.4,24.2,30.2,37.3,29.9,37.1,44.8,25.2,25.7,34.1,36.7,31.6,21.3,20.0,29.6,25.5,28.9,20.6,25.8,34.1,29.8,31.4,25.7,37.5,22.4,30.0,36.0,39.7,32.3,30.8,48.1,27.3,27.4,29.5,24.8,41.5,44.7,46.1,34.3,22.6,34.8,27.5,29.8,31.2,32.3,37.4,18.1,40.0,26.6,33.3,30.2,47.7,30.8,24.3,42.7,31.6,21.6,25.8,24.3,33.9,28.9,34.2,40.7,37.7,39.5,30.1,27.7,32.3,18.3,32.3,21.4,30.5,36.1,25.8,27.1,23.5,33.9,31.6,30.8,23.2,23.2,29.9,38.3,30.2,28.7,32.3,38.6,31.2,26.6,33.3,36.6,28.2,24.0,32.8,29.2,39.6,31.2,26.2,33.3,33.3,22.1,39.6,34.4,27.6,31.0,39.6,32.8,40.3,28.2,30.5,37.1,35.6,21.5,33.4,29.0,30.8,33.3,32.7,33.6,36.7,32.7,31.9,24.8,23.7,37.4,28.1,33.7,41.5,40.4,21.0,27.9,41.2,25.3,27.2,27.0,28.1,39.8,41.9,26.7,35.9,25.9,31.7,26.4,28.6,36.6,28.3,29.8,32.8,33.7,27.6,42.5,23.3,31.5,34.0,35.7,36.1,38.0,49.1,35.2,38.4,44.7,36.4,25.7,28.7,33.9,32.2,32.3,24.4,18.3,46.7,31.9,27.9,40.9,43.7,28.3,28.6,28.8,35.8,23.8,28.6,27.0,28.1,26.4,34.4,32.1,23.2,22.8,25.2,30.5,29.0,31.8,33.1,39.1,32.4,29.7,30.1,21.8,25.2,30.3,34.9,33.6,32.0,33.9,22.2,20.1,26.6,23.0,28.9,30.8,25.5,28.8,25.7,28.9,27.2,28.2,33.4,27.5,36.5,35.2,37.5,32.8,33.5,24.7,27.5,37.1,36.1,35.2,33.0,21.5,24.6,40.8,35.8,24.3,31.6,43.4,46.8,26.8,31.4,25.7,24.5,30.5,33.8,35.1,38.0,38.1,29.6,37.0,36.5,26.5,17.3,39.1,25.5,29.7,31.8,33.7,38.4,21.4,37.4,38.8,39.9,24.0,32.4,28.2,25.4,44.0,24.3,28.0,23.7,33.5,33.9,18.3,27.6,34.3,28.7,36.0,30.0,30.8,33.1,41.5,21.1,31.2,32.3,25.0,29.9,33.2,39.2,39.2,32.1,31.8,22.0,35.9,21.8,21.6,28.3,34.5,40.5,21.7,32.7,31.8,36.3,36.9,33.1,27.6,31.4,36.8,27.7,27.8,32.1,31.7,32.3,38.3,37.9,39.1,25.1,26.2,21.7,36.0,39.7,21.7,32.8,26.7,28.8,26.4,38.2,39.2,23.2,21.7,23.1,17.2,35.2,25.5,20.5,32.4,33.0,22.4,39.3,25.6,18.0,30.5,33.7,39.8,38.1,21.9,25.2,41.3,33.0,24.1,19.3,29.3,31.8,39.1,21.9,22.9,27.3,27.7,20.0,26.0,30.1,24.8,31.0,21.8,19.1,30.6,27.9,27.1,28.3,26.8,33.6,27.4,19.8,29.1,23.0,28.3,24.6,28.0,23.7,24.0,28.9,41.3,24.8,31.8,25.7,28.3,29.7,32.2,27.3,29.2,24.4,28.5,28.5,22.6,29.8,23.7,20.1,30.4,35.3,27.9,32.4,27.6,38.8,25.3,18.3,27.1,27.9,35.7,25.9,36.2,29.8,24.4,33.3,22.2,39.7,24.6,28.4,26.4,20.2,33.8,28.9,27.8,20.0,29.7,23.4,27.8,26.4,21.8,27.5,28.0,29.6,25.6,29.8,38.1,37.3,40.3,28.7,28.0,33.0,33.3,27.7,28.3,22.9,20.9,24.4,29.6,24.6,30.1,26.6,28.1,18.7,24.9,23.7,25.3,26.9,37.4,24.7,25.4,22.7,30.0,24.0,23.2,28.1,24.2,20.0,29.9,26.7,27.3,30.9,27.8,33.1,25.0,22.9,24.3,25.6,26.1,34.1,28.0,25.8,24.1,24.8,30.6,23.8,25.9,41.9,27.4,30.0,25.1,27.6,27.6,27.6,25.3,29.6,24.3,22.6,38.1,28.2,23.2,29.8,32.1,25.1,25.5,27.4,23.7,26.4,32.7,26.7,24.4,27.1,24.1,35.9,36.8,23.8,31.5,23.0,24.9,29.0,31.9,31.4,22.4,29.8,35.3,26.3,36.1,26.7,36.5,27.6,36.7,41.4,28.3,25.8,27.0,29.1,32.3,26.9,27.7,37.7,24.7,29.8,28.6,25.4,29.9,36.9,29.7,30.3,17.8,28.3,30.0,37.5,30.7,31.7,31.9,30.2,30.4,31.4,31.1,31.7,33.1,32.7,33.5,31.7,34.8,31.1,34.9,31.4,22.9,28.5,26.8,30.8,35.6,31.0,32.8,32.9,33.3,36.9,31.7,34.4,37.0,38.2,34.7,33.3,35.3,32.5,34.8,35.5,33.5,36.1,37.6,30.8,35.6,37.1,33.6,31.9,34.4,27.8,40.2,26.1,35.8,39.4,33.4,36.7,35.2,36.3,34.4,42.2,30.2,34.2,32.8,37.8,31.4,30.8,42.1,44.9,30.5,30.9,36.7,34.8,37.1,34.1,32.8,35.3,34.1,35.8,38.4,30.5,42.8,39.1,32.6,33.1,35.0,31.8,34.6,36.2,32.3,38.4,30.8,35.5,45.5,36.0,36.1,30.7,38.1,36.5,34.2,36.6,39.0,34.1,31.2,41.9,31.8,40.4,33.6,30.2,38.9,34.2,38.1,35.2,52.6,35.5,35.0,32.5,40.6,32.0,46.2,47.6,31.4,42.4,43.9,37.1,35.9,36.9,30.9,33.9,35.1,41.8,31.3,32.2,36.3,42.9,37.0,36.8,33.8,39.9,36.4,40.6,40.9,42.1,37.7,38.1,41.1,37.0,36.4,32.8,35.5,38.1,34.5,30.4,47.4],\"yaxis\":\"y\",\"type\":\"scattergl\"},{\"hovertemplate\":\"<b>LOWESS trendline</b><br><br>claim=%{x}<br>bmi=%{y} <b>(trend)</b><extra></extra>\",\"legendgroup\":\"\",\"line\":{\"color\":\"orange\"},\"marker\":{\"color\":\"#1F77B4\",\"symbol\":\"circle\"},\"mode\":\"lines\",\"name\":\"\",\"showlegend\":false,\"x\":[1121,1131,1135,1136,1137,1137,1141,1146,1149,1149,1163,1241,1242,1242,1261,1261,1263,1391,1515,1526,1532,1534,1607,1615,1621,1621,1622,1625,1627,1628,1629,1631,1631,1632,1632,1633,1633,1634,1635,1639,1639,1646,1665,1674,1682,1694,1702,1704,1704,1704,1705,1708,1708,1711,1712,1719,1720,1725,1727,1727,1728,1731,1737,1743,1744,1748,1759,1769,1815,1824,1826,1832,1837,1837,1842,1875,1877,1880,1880,1906,1909,1917,1964,1967,1969,1972,1977,1980,1981,1984,1986,2007,2020,2020,2026,2045,2055,2102,2103,2104,2117,2128,2130,2134,2136,2137,2138,2150,2154,2155,2156,2166,2196,2198,2200,2201,2203,2203,2205,2207,2211,2217,2217,2219,2221,2250,2254,2257,2261,2302,2304,2322,2331,2352,2362,2395,2396,2404,2416,2438,2457,2457,2459,2464,2473,2480,2483,2494,2497,2498,2523,2527,2534,2566,2585,2585,2597,2632,2639,2643,2680,2689,2690,2699,2709,2709,2710,2719,2721,2727,2730,2731,2741,2755,2775,2789,2801,2803,2842,2850,2855,2866,2867,2897,2899,2902,2904,2913,2927,2974,3021,3044,3046,3056,3062,3070,3077,3161,3167,3171,3172,3176,3176,3180,3201,3206,3208,3213,3227,3238,3260,3268,3277,3279,3292,3309,3353,3353,3366,3378,3385,3392,3392,3393,3410,3443,3471,3481,3484,3490,3500,3537,3554,3556,3558,3561,3578,3579,3591,3594,3597,3645,3659,3693,3704,3732,3736,3756,3757,3761,3766,3847,3857,3861,3866,3875,3877,3906,3925,3935,3943,3947,3956,3972,3981,3987,3989,3994,4005,4032,4040,4058,4058,4074,4076,4133,4134,4137,4149,4151,4185,4189,4234,4237,4239,4243,4260,4266,4296,4320,4337,4340,4347,4349,4350,4357,4391,4399,4402,4415,4428,4433,4433,4435,4438,4441,4449,4454,4462,4463,4466,4500,4504,4518,4527,4529,4536,4544,4561,4562,4564,4571,4618,4646,4661,4667,4670,4673,4686,4687,4718,4719,4719,4738,4746,4747,4751,4753,4762,4766,4779,4795,4827,4830,4837,4846,4877,4883,4889,4890,4894,4906,4915,4922,4931,4934,4949,4992,5002,5003,5012,5028,5031,5080,5116,5124,5125,5138,5148,5152,5209,5227,5240,5245,5246,5253,5257,5261,5266,5267,5272,5312,5325,5327,5354,5373,5375,5377,5383,5385,5397,5400,5415,5425,5428,5438,5458,5469,5472,5478,5484,5488,5584,5594,5615,5630,5649,5662,5693,5699,5708,5709,5729,5757,5836,5846,5855,5910,5920,5926,5934,5966,5969,5972,5974,5976,5979,5989,6059,6067,6079,6082,6112,6113,6117,6123,6128,6184,6185,6186,6196,6198,6203,6238,6250,6272,6282,6289,6311,6313,6334,6338,6356,6358,6360,6373,6389,6393,6402,6406,6414,6435,6455,6457,6474,6496,6500,6548,6551,6555,6571,6571,6593,6600,6600,6610,6640,6652,6653,6664,6666,6686,6710,6746,6748,6753,6770,6775,6781,6796,6799,6837,6849,6858,6875,6877,6933,6940,6948,6985,6986,7045,7046,7050,7050,7077,7133,7144,7147,7147,7151,7152,7153,7160,7160,7162,7173,7196,7201,7209,7222,7228,7243,7256,7261,7265,7281,7323,7325,7337,7345,7345,7348,7358,7371,7418,7419,7421,7441,7441,7443,7445,7448,7512,7518,7526,7537,7623,7624,7626,7633,7639,7640,7650,7682,7726,7727,7729,7731,7731,7740,7742,7749,7789,7804,7935,7954,7985,7986,8017,8023,8026,8027,8059,8062,8068,8083,8116,8116,8124,8125,8162,8211,8219,8232,8233,8240,8252,8269,8277,8280,8283,8302,8310,8334,8334,8342,8347,8410,8413,8428,8442,8444,8457,8515,8516,8520,8522,8527,8534,8538,8539,8547,8551,8556,8569,8582,8596,8601,8603,8604,8605,8606,8615,8627,8671,8688,8703,8733,8765,8782,8798,8823,8823,8825,8827,8835,8871,8891,8930,8932,8944,8964,8965,8968,8978,8988,9048,9058,9095,9101,9140,9144,9174,9182,9193,9222,9225,9249,9264,9282,9283,9288,9290,9301,9304,9361,9377,9386,9391,9411,9414,9432,9447,9447,9487,9500,9504,9541,9549,9563,9566,9583,9617,9620,9625,9630,9634,9644,9704,9715,9722,9724,9748,9778,9788,9800,9850,9855,9861,9863,9866,9869,9872,9875,9877,9880,9910,9957,9964,9991,10043,10065,10072,10085,10096,10106,10107,10115,10118,10141,10156,10197,10214,10226,10231,10264,10269,10325,10338,10355,10370,10381,10407,10422,10435,10436,10450,10461,10493,10560,10564,10577,10579,10594,10594,10600,10601,10601,10602,10702,10704,10713,10736,10791,10795,10796,10797,10806,10807,10825,10848,10923,10928,10942,10959,10959,10965,10976,10977,10982,11013,11015,11033,11070,11073,11082,11085,11090,11093,11150,11163,11165,11187,11244,11253,11264,11272,11286,11289,11299,11305,11326,11345,11353,11356,11362,11363,11365,11381,11394,11396,11411,11436,11454,11455,11482,11488,11512,11520,11534,11538,11552,11554,11566,11576,11657,11658,11658,11674,11729,11735,11737,11741,11743,11743,11763,11830,11833,11837,11840,11842,11842,11848,11856,11879,11881,11881,11884,11931,11938,11944,11945,11946,11987,12029,12032,12044,12094,12096,12105,12124,12129,12142,12146,12222,12224,12231,12233,12235,12244,12265,12268,12269,12323,12333,12347,12363,12404,12430,12475,12479,12485,12495,12523,12557,12574,12592,12609,12622,12629,12629,12638,12643,12644,12646,12648,12731,12741,12797,12815,12829,12890,12913,12925,12928,12949,12950,12957,12979,12981,12982,13012,13019,13041,13047,13063,13112,13126,13129,13143,13143,13204,13217,13224,13224,13228,13352,13390,13393,13405,13415,13429,13430,13451,13457,13462,13470,13470,13555,13607,13616,13635,13725,13747,13770,13822,13831,13844,13844,13880,13887,13887,13919,13937,13974,13981,14001,14001,14007,14043,14119,14133,14210,14235,14254,14256,14283,14313,14319,14349,14358,14382,14394,14394,14410,14418,14426,14449,14451,14455,14474,14478,14571,14590,14692,14711,14901,14988,15006,15019,15161,15170,15230,15359,15518,15555,15612,15817,15820,15828,16069,16085,16115,16138,16232,16297,16420,16450,16455,16577,16586,16657,16776,16796,16884,17043,17081,17085,17128,17178,17179,17352,17361,17468,17496,17560,17626,17663,17748,17878,17904,17929,17942,18033,18157,18218,18223,18246,18259,18310,18328,18608,18648,18765,18767,18804,18806,18838,18903,18955,18963,18972,19023,19040,19107,19144,19199,19214,19350,19362,19442,19444,19496,19515,19521,19539,19594,19673,19719,19749,19798,19933,19964,20009,20149,20167,20177,20234,20277,20296,20420,20463,20630,20709,20745,20773,20781,20878,20984,21082,21098,21195,21223,21232,21259,21344,21348,21472,21595,21659,21677,21771,21774,21797,21880,21978,21984,22144,22192,22218,22331,22395,22412,22462,22478,22493,23045,23065,23082,23241,23244,23288,23306,23401,23563,23568,23807,23887,23967,24059,24106,24180,24227,24393,24476,24513,24520,24535,24603,24667,24671,24869,24873,24915,24915,25081,25309,25333,25382,25517,25656,25678,25992,26018,26109,26125,26140,26236,26392,26467,26926,27000,27037,27117,27218,27322,27346,27375,27533,27724,27808,27941,28101,28287,28340,28468,28476,28868,28923,28950,29141,29186,29330,29523,30063,30166,30184,30260,30284,30942,31620,32108,32548,32734,32787,33307,33471,33475,33732,33750,33900,33907,34166,34254,34303,34439,34472,34617,34672,34779,34806,34828,34838,35069,35147,35160,35491,35585,35595,36021,36085,36124,36149,36189,36197,36219,36307,36397,36580,36837,36898,36910,36950,37079,37133,37165,37270,37465,37484,37607,37701,37742,37829,38126,38245,38282,38344,38415,38511,38709,38711,38746,38792,38998,39047,39125,39241,39556,39597,39611,39722,39725,39727,39774,39836,39871,39983,40003,40103,40182,40273,40419,40720,40904,40932,40941,40974,41034,41097,41661,41676,41919,41949,41999,42111,42112,42124,42211,42303,42560,42760,42856,42969,42983,43254,43578,43753,43813,43896,43921,43943,44202,44260,44400,44423,44501,44585,44641,45008,45702,45710,45863,46113,46130,46151,46200,46255,46599,46661,46718,46889,47055,47269,47291,47305,47403,47462,47496,47896,47928,48173,48517,48549,48673,48675,48824,48885,48970,49577,51194,52590,55135,58571,60021,62592,63770],\"xaxis\":\"x\",\"y\":[29.433643517601556,29.434899645745066,29.43540225061498,29.43552791556206,29.43565358600212,29.43565358600212,29.436156322685505,29.43678486700344,29.437162059341674,29.437162059341674,29.43892293894699,29.448752577244132,29.448878801869082,29.448878801869082,29.451278022911808,29.451278022911808,29.451530677525785,29.467740624133555,29.483513671634494,29.48491591158572,29.485680966169753,29.48593601496749,29.49525535703221,29.496277794390554,29.497044763409043,29.497044763409043,29.49717260324739,29.49755614267855,29.497811852189315,29.49793971190111,29.49806757491348,29.498323310831708,29.498323310831708,29.49845118373213,29.49845118373213,29.498579059921994,29.498579059921994,29.49870693939795,29.498834822154457,29.499346385877356,29.499346385877356,29.500241747389662,29.502672800912517,29.50382474419838,29.504848899865895,29.50638548898531,29.507410113212845,29.507666297678846,29.507666297678846,29.507666297678846,29.507794394137743,29.508178700364283,29.508178700364283,29.508563031800225,29.508691147868802,29.50958803841488,29.509716176768933,29.510356910178434,29.510613222942162,29.510613222942162,29.510741383473317,29.51112588164284,29.511894952496423,29.512664122649657,29.51279232733075,29.51330517365073,29.514715728720205,29.515998341034912,29.521901882081387,29.523057594509783,29.52331444916136,29.524085077705358,29.524727341996858,29.524727341996858,29.525369673281922,29.529610731740057,29.529867858506307,29.53025356848208,29.53025356848208,29.5335973779561,29.533983315395563,29.535012595378873,29.54106288189372,29.54144925575073,29.54170685043637,29.54209326059894,29.54273732581139,29.54312379386366,29.543252621363234,29.543639118291402,29.543896794918435,29.54660297361122,29.548278744555095,29.548278744555095,29.549052308628315,29.551502463939883,29.552792338829203,29.55885755457423,29.5589866499049,29.55911574717143,29.560794186381322,29.562214654438115,29.56247294571725,29.56298955059444,29.56324786414761,29.563377023691736,29.56350618507587,29.565056263657212,29.56557301397466,29.565702205984465,29.56583139975918,29.56712343385095,29.571000557398623,29.57125908502719,29.571517619072175,29.571646888493333,29.571905432118225,29.571905432118225,29.572163982104176,29.572422538431653,29.57293967001893,29.573715414332334,29.573715414332334,29.57397400816514,29.574232608131865,29.57798296875226,29.578500352580615,29.57888840448805,29.579405825449783,29.5847105153535,29.584969329067864,29.58729883399514,29.588463703066907,29.591182006117116,29.59247656039983,29.596749080956794,29.596878561764246,29.597914427934718,29.599468289298354,29.60231720339314,29.604777768391923,29.604777768391923,29.605036781131634,29.605684317117785,29.606849895222595,29.60775646601439,29.608144998578357,29.6095696265336,29.609958163150292,29.6100876754679,29.613325483030717,29.61384352868206,29.614750103507717,29.618894314684383,29.621354785235226,29.621354785235226,29.622908684948495,29.627440448479483,29.628346710890327,29.628864560214783,29.633654101467055,29.634818956271644,29.634948380195315,29.636113154916053,29.637407260750905,29.637407260750905,29.63753666606855,29.638701269794677,29.63896005971139,29.63973640527237,29.64012456431362,29.640253948607068,29.641547734303145,29.643358855370998,29.645945793425522,29.647756372245624,29.6493081073553,29.64956671249267,29.654608485701473,29.655642447202325,29.65628862904725,29.65771010841887,29.657839325517394,29.661715183861276,29.66197352879708,29.662361035365464,29.662619365830153,29.663781780691256,29.665589744134994,29.671657164217756,29.677721101444963,29.680687246614944,29.680945130590523,29.68223444940383,29.683007959568414,29.684039211321963,29.684941466989276,29.6957619600796,29.696534386066666,29.69704930212165,29.69717802681663,29.69769290833818,29.69769290833818,29.69820776227124,29.700910297415923,29.701553648630675,29.701810977447856,29.702454270469268,29.704255273022476,29.705670125150746,29.708499259047482,29.709527849821512,29.710684898707843,29.710942004200085,29.71261304533368,29.714797879999033,29.720450844723807,29.720450844723807,29.722120533396374,29.72366158908879,29.72456045370811,29.72545925744874,29.72545925744874,29.72558765308572,29.727770195710626,29.732005946984277,29.73559898911955,29.736882021480643,29.7372669114433,29.738036664289325,29.739319506396804,29.74406518097878,29.746245192810868,29.746501647279285,29.746758098098177,29.747142767504787,29.749322408516775,29.749450614763376,29.750989022366706,29.751373604991862,29.751758179972082,29.757910364777736,29.75970440260507,29.764060730595915,29.76546994969167,29.769056669873883,29.76956901460797,29.772130580562706,29.772258652155998,29.77277093234458,29.773411268894098,29.783782878435904,29.78506312198045,29.78557520951611,29.786215311484806,29.787367475675115,29.78762350902451,29.79133588566642,29.79376805054672,29.79504812169522,29.79607217401335,29.796584199193635,29.79773625468261,29.799784355018424,29.80093641610141,29.801704460066475,29.801960475435266,29.802600515613886,29.804008613742564,29.807464924002275,29.80848903939487,29.81079334876804,29.81079334876804,29.812841691902147,29.813097739777223,29.820395647662394,29.820523691585507,29.820907825757487,29.8224444000041,29.822700501814133,29.827054527514573,29.82756680524889,29.8333306035158,29.833714905480505,29.833971110498222,29.83448352958448,29.836661451731622,29.83743018761913,29.841274360234763,29.84435034781027,29.846529562152696,29.846914165079692,29.847811615075848,29.84806804064817,29.848196255341662,29.84909379425408,29.853454214826378,29.854480437952624,29.85486529669165,29.856533180623735,29.858201338316267,29.85884301308099,29.85884301308099,29.859099695051633,29.859484731096575,29.859869783006452,29.860896667066328,29.861538529148408,29.862565606267676,29.86269399951746,29.863079190908977,29.867445958094432,29.86795985396562,29.86975876509247,29.870915439881298,29.871172503896517,29.8720723011449,29.873100782374596,29.875286819921776,29.875415432678217,29.875672665759527,29.876573061696952,29.882621969936253,29.886228587462043,29.88816170015003,29.888935147485487,29.889321915319425,29.889708712860333,29.891385182923663,29.89151416577574,29.895514350112123,29.89564344467235,29.89564344467235,29.898096931770002,29.899130379482344,29.89925957746598,29.89977640756991,29.900034845641365,29.90119800886682,29.90171507209264,29.90339596732684,29.905465704821307,29.909608425324247,29.90999703396311,29.91090394363106,29.912070295146062,29.916090597431026,29.91686924672261,29.917648070639057,29.917777891728182,29.918297225252147,29.91985570223739,29.921025035649034,29.921934803836795,29.923104879939487,29.92349499989787,29.925446321301393,29.931047035183276,29.932351059599462,29.932481494896376,29.93365568484217,29.935744364245856,29.936136170103346,29.942543993437045,29.94726235239295,29.948312165727657,29.94844342631855,29.950150509950348,29.95146454439575,29.951990379296483,29.95949784781561,29.961874450145302,29.963592715366712,29.96425400437891,29.964386290355904,29.965312557139967,29.965842062012896,29.966371720575154,29.967034011521335,29.967166498913045,29.96782908285496,29.97313882758231,29.974868092625538,29.97513429537317,29.978732367980783,29.98126932435235,29.98153661866344,29.981803960539036,29.982606273218956,29.98287380701203,29.984480032109026,29.984881864988676,29.98689271714161,29.988234871620026,29.988637769225146,29.98998160916283,29.99267326844707,29.99415598873903,29.99456065611071,29.995370366433683,29.99618058153918,29.996721007775605,30.009763081007517,30.011130033396537,30.014006137695638,30.016065168113737,30.01867901489634,30.020471219206158,30.024757712831025,30.02558948385933,30.02683846149939,30.02697733537975,30.02975901096027,30.033667089917436,30.044784733737036,30.04620212753749,30.047479802523988,30.055330687032257,30.056766283169836,30.057628882319296,30.058780477168114,30.06340388600509,30.063838751759675,30.064273864903,30.06456407823147,30.06485440219689,30.065290096182967,30.066744223403955,30.077003838578527,30.07818567427173,30.079962136150467,30.080406953379153,30.08487083610371,30.085020130565024,30.085617634252397,30.086514871403534,30.087263474129443,30.095705558566685,30.095857297455485,30.09600907179769,30.09752877453149,30.097833144786854,30.098594701304247,30.103951263649815,30.105798359689818,30.10919910664577,30.110751177095572,30.111839999593855,30.11527495324593,30.115588208338906,30.118887507918743,30.119518065828014,30.12236412444198,30.122681225210652,30.12299850196332,30.12506511915049,30.12761904616009,30.128259342994497,30.129702694479096,30.130345384462302,30.131632998647532,30.135027343084868,30.13827975477215,30.138606070545,30.141387759745047,30.14500918253195,30.145670280551993,30.15366890273126,30.154172903173368,30.15484566505421,30.157545474348396,30.157545474348396,30.161280883735767,30.1624751183065,30.1624751183065,30.164185984464826,30.16935293876782,30.171434293365646,30.17160811821983,30.17352405026095,30.173873163063085,30.17737722724071,30.18161325912419,30.188031143533838,30.18838993275312,30.189287932639022,30.19235206178258,30.193256473934145,30.194343674409858,30.197070699661616,30.197617638382045,30.20458862135421,30.206806044288683,30.208473943300685,30.21163529844462,30.21200812847228,30.22251650788561,30.22383826560191,30.225350672028004,30.232252629901062,30.232432473018214,30.24296139547222,30.243143551159893,30.243871947563758,30.243871947563758,30.248771288603457,30.25902088786662,30.260949494150584,30.26151744205862,30.26151744205862,30.26227485863607,30.26244560234709,30.26261627423197,30.263808982462717,30.263808982462717,30.26414911936258,30.266034697348243,30.270087998611903,30.27103276930699,30.27254481610796,30.275002880475146,30.27613774017964,30.278975749481297,30.281336575717173,30.282226759048477,30.28298342837737,30.28601055884874,30.293923360268824,30.29430180780448,30.29640472324164,30.297759393742854,30.297759393742854,30.29825275988394,30.299892954344568,30.302066475038714,30.310698414635546,30.310859954544565,30.31122306157942,30.314493611204114,30.314493611204114,30.314813798067235,30.315133708899403,30.31561305724065,30.32578377662837,30.326730493758344,30.32799986749167,30.329711283821034,30.34281947481609,30.342967937942575,30.343264695909767,30.344425763649525,30.34531299886511,30.34546067829273,30.34727551576753,30.35196409777531,30.35864630544647,30.35882768464264,30.359190422588757,30.35955313493499,30.35955313493499,30.360881014144248,30.361167132771943,30.362166904518638,30.368025963376002,30.37020838795774,30.38871497949811,30.39124945127019,30.39548177815249,30.3956135984073,30.400026080518288,30.400896115991536,30.401416513503822,30.401547036825008,30.406481057324733,30.40699856078722,30.4079037563006,30.40999003604372,30.4145271363673,30.4145271363673,30.41563542599346,30.415763123025055,30.421280107475816,30.42880604822407,30.430142971846685,30.431847607394925,30.431972030401617,30.43284198003187,30.434328975650388,30.43648883382592,30.43747105765018,30.437881075268265,30.438248246536116,30.440563069196973,30.441531965291645,30.44448211423614,30.44448211423614,30.445458249172294,30.446140585350882,30.453490707032614,30.45383364409185,30.45553816421816,30.45718480273028,30.45740874954289,30.45885684693725,30.465309582041492,30.4654160485829,30.465841114939447,30.466053166766063,30.466581885931586,30.46731868914732,30.467737926212056,30.46784253085995,30.468676409798032,30.469091369916384,30.46960820636115,30.4709422428645,30.472714393962995,30.474578576462488,30.47508055014904,30.475280751416236,30.47538072626637,30.47548061735147,30.475580424742073,30.47647493725626,30.477657181084723,30.481893209797246,30.483490079054963,30.485053278084767,30.487790741505517,30.490641183364563,30.4926910761859,30.494076096646634,30.496506783516427,30.496506783516427,30.4966756632122,30.496844281856887,30.497606630923496,30.501915769747367,30.503543354010773,30.506647765782443,30.506804585364968,30.507740787229295,30.509345465514844,30.509422052440012,30.509775329030084,30.51081570057791,30.511572511966108,30.51599661085177,30.51671412202921,30.519446544459655,30.52008507017273,30.52299322192241,30.523260471732687,30.525235254346555,30.525752897225786,30.52649100458342,30.528348633731948,30.528534441407476,30.53000022471462,30.53089734941658,30.53215580907931,30.532281098857126,30.53270540765194,30.532821004559636,30.533519408903214,30.53375764070123,30.536914215931255,30.53813008772068,30.53859130612298,30.538844741382462,30.539838090199304,30.540161551713762,30.541915127719598,30.54262075924339,30.54262075924339,30.544477834336796,30.54510029965981,30.54526601209474,30.546724018386385,30.547059348425226,30.547563456134295,30.547668786835775,30.548247439629836,30.549309947096663,30.549397526024247,30.549622478391058,30.549763691959278,30.549874623266295,30.550143973435265,30.552117614767088,30.552327127825208,30.552452650697003,30.552487389100754,30.552864697488488,30.553231588326877,30.55332753287494,30.553518149737283,30.55381323854004,30.553814254897393,30.554055344302668,30.55424909158793,30.55453930977873,30.554829045420966,30.55511829937136,30.555211291936924,30.555207400301352,30.555200485467992,30.555261092175527,30.55493598979998,30.55504694658199,30.554595256408348,30.55568771067091,30.55508870389187,30.554881079649068,30.55447350919928,30.554222417941965,30.554105731571436,30.55418694586321,30.554600266712235,30.554489733029744,30.55466656225575,30.554766983876892,30.553449863613658,30.552656441203048,30.55202213924417,30.551750380541158,30.550432166282867,30.55078050745638,30.54866533840899,30.548630280320534,30.54883158956211,30.547716030731443,30.547841507516647,30.546130721910565,30.544889931327468,30.543782225427833,30.543695773206505,30.542466798571045,30.541476796209093,30.53847538321876,30.532150270112258,30.53171742829696,30.530291941673294,30.530070096619987,30.52838476352156,30.52838476352156,30.527700046983856,30.527585341743436,30.527585341743436,30.527470469361695,30.517903871046773,30.51764260572443,30.516458714955938,30.514931932407986,30.510742040489294,30.510752683796415,30.51060891229886,30.510464978142334,30.50966532704992,30.50968765476482,30.507971615373915,30.50452377511274,30.496769462435715,30.496562758905107,30.49426110998592,30.491424521927254,30.491424521927254,30.4904125575196,30.488542783435967,30.488371878473,30.48751505292797,30.484337776164065,30.484340915249273,30.48221560435392,30.476402838399697,30.475850438263667,30.474185445427292,30.473627860232007,30.47269568951391,30.472134675124362,30.463054300846814,30.461328867930266,30.46093543538929,30.456571812495113,30.445975542533727,30.44410481338245,30.441804291163667,30.440213604476913,30.437249449902126,30.43661107254388,30.43447503260748,30.433187441637383,30.42864596233696,30.42541478577202,30.42374495902313,30.423637028011058,30.422956025390103,30.422734163760413,30.422290085100926,30.41872046226634,30.41765151332612,30.41720019668779,30.413800487150624,30.40807667688064,30.403911616435675,30.403679160636898,30.399401931739988,30.398358165595166,30.3928436077472,30.39120799226392,30.390442429742258,30.390220470777695,30.386825332909,30.386338585807472,30.384152919536884,30.38216455646415,30.36291946183111,30.36266492556225,30.36266492556225,30.358671088146338,30.34443003203152,30.342859140216877,30.342334782434836,30.341284985054926,30.340759548465815,30.340759548465815,30.338155688654226,30.320771413691354,30.319960224524134,30.3188776712009,30.318247196685956,30.317705025948477,30.317705025948477,30.31689576894545,30.314719795469543,30.308441696627828,30.307894303837653,30.307894303837653,30.307072794492186,30.295389063412234,30.293451845515737,30.291789814397248,30.291512674504865,30.291235496964145,30.283961913339837,30.272343683465742,30.272018488997332,30.27070858786679,30.259773383932643,30.25920324025013,30.25663714913612,30.25138569326934,30.249958846699737,30.247080297252456,30.246269295019054,30.22741003891322,30.227156138827496,30.226264237611716,30.226008478733192,30.225752306025424,30.22459439985335,30.22018266345918,30.219311293446044,30.219020848903877,30.203809490570315,30.200906829998434,30.19684471876425,30.19220478679191,30.18062229121657,30.17345884238397,30.160442787037873,30.15956824811723,30.157833542270577,30.15585084535632,30.148298234314257,30.13879444483401,30.133873617641544,30.12866553921004,30.12420916443337,30.120447067687135,30.11842163724456,30.11842163724456,30.115817776648814,30.114371296943503,30.114082009290225,30.113503441706413,30.112924883954864,30.09084060018764,30.088928681008444,30.072830598337845,30.067893499212488,30.063817464225174,30.048017851844882,30.04307740019808,30.040705736123122,30.039823779688113,30.033646995540288,30.03335271806239,30.03129237906438,30.024812214634714,30.024222725467354,30.023927955937328,30.015076774801216,30.013009140152484,30.006504713367608,30.004729117958355,29.99999062515337,29.985445792068173,29.981280772716627,29.98038772504454,29.97621763698504,29.97621763698504,29.957999928662133,29.95479744799133,29.952698990492895,29.952698990492895,29.951922496931875,29.915564664797095,29.904074885906837,29.903167046546756,29.900335755376485,29.897354755602777,29.893109175028478,29.892805824449855,29.886432505657794,29.88461051347466,29.88309183027784,29.88066126217376,29.88066126217376,29.857700126296486,29.841784863403227,29.839027933415483,29.83320584789198,29.80618396479961,29.799692610668227,29.792623167836748,29.778659761047116,29.775884146624364,29.771874580561658,29.771874580561658,29.761484530164687,29.7593227314577,29.7593227314577,29.749521881926878,29.743961318708553,29.73253203417603,29.7304504929623,29.72427334599081,29.72427334599081,29.722420474517904,29.711891834130558,29.689219951786203,29.685009187097492,29.66297296080839,29.655253968421228,29.649393380938946,29.648776785367406,29.64208553688929,29.633421311874272,29.631965998527793,29.62299109017326,29.620211910703848,29.612808004519213,29.609110196245723,29.609110196245723,29.6043083207763,29.601846560667276,29.599386154149105,29.592320157462314,29.59170626868571,29.590478756279854,29.584652951139034,29.58342750438531,29.55568815348061,29.549930356775835,29.51917197240082,29.513453212424203,29.458559843895713,29.433020226335703,29.427885915740834,29.42438866768052,29.383387543832185,29.380839265704495,29.363618450476423,29.326894829881695,29.282739725966476,29.272604795075107,29.25709378776895,29.20232547612995,29.201540463528637,29.199449414635527,29.137750011052354,29.133628544460773,29.126152307516044,29.120513783165062,29.09688894114144,29.08125590972266,29.052729736645986,29.045974411578136,29.044855817679146,29.016741035340065,29.014810977305174,28.999836842504887,28.97387540316685,28.969798905219893,28.95271558073668,28.923765694721872,28.91717501239367,28.916488366193633,28.909190843532983,28.900686264837624,28.900522245422234,28.86895966965359,28.867589588598882,28.851771841324943,28.847772545768652,28.838840043571807,28.829920022144446,28.82396119797855,28.81305114613516,28.79716869663796,28.794099488578055,28.791179735127425,28.789673308541516,28.7791391016649,28.76563624433834,28.759222077084463,28.758702647249766,28.755838198961182,28.754502719612177,28.749322919360427,28.74751692261468,28.720072128965462,28.71644163398119,28.706061286218286,28.705886759033966,28.702674558046304,28.70250180409161,28.69890492443469,28.691834955787666,28.686708797227027,28.686044324957578,28.685298383048277,28.681104272820935,28.67971908089389,28.67249886412636,28.669568365304805,28.664928727755214,28.663774601556135,28.653296299815658,28.652434754833457,28.646338204132253,28.645914563873145,28.64206758875249,28.640825541388292,28.640437097996617,28.63877316564331,28.635202667233692,28.62722773539772,28.62393802471518,28.622360874258685,28.619236477470974,28.61283439681615,28.6117554950637,28.61035010883853,28.604952367745014,28.604678052415707,28.604539929803373,28.603948754946142,28.603724752501293,28.603502350192826,28.595844279280886,28.59450098691144,28.596689911084855,28.599568006872524,28.60120255352687,28.600208343261954,28.599640584499745,28.603024942426977,28.6091046517001,28.617335364582242,28.61885936305946,28.62564791937005,28.628809952123966,28.629853385785577,28.630972092755698,28.63707377828266,28.637604876114615,28.65538343333566,28.668601026041003,28.678080848960633,28.681355834115163,28.699117698223077,28.6997116150502,28.704310140924377,28.716496930406514,28.736599029613938,28.737962888240904,28.76599161517359,28.778069912258854,28.78474409396117,28.81130921125836,28.820053329258993,28.821825068509025,28.829630567139823,28.833505423998147,28.83711836363939,28.99069692294418,28.99762961431273,29.003359518069292,29.05583810916923,29.05692265840957,29.07290523916048,29.079483463163037,29.114558784688324,29.16685210610477,29.168755043732375,29.247122478592182,29.277959995535785,29.30933004384771,29.343268313052338,29.361255902352028,29.38769103175475,29.403863796565787,29.467866677153925,29.5008098573871,29.51364827030601,29.51458747422556,29.520539384830172,29.547497095212073,29.570287330062044,29.57186954392646,29.638526050230784,29.638677740240038,29.648107226166008,29.648107226166008,29.701860453469923,29.783118287998448,29.792415801220866,29.810341086086,29.862240515933426,29.91517656380105,29.92350459692351,30.01926888187431,30.027346149214612,30.051006658479285,30.056915849058875,30.06244884564134,30.097707941905885,30.150858138555567,30.173175351386032,30.3232654007339,30.347451909633303,30.359445390948878,30.387441795168698,30.422202928123568,30.454113487752437,30.462276400957748,30.472293153124344,30.517437222969285,30.582286328845406,30.610908811424103,30.65595141273597,30.71007909461347,30.772714620764294,30.790504743819042,30.833359662054495,30.836032796372113,30.964993207599164,30.98312602662305,30.99201473517522,31.054647110914075,31.06933931261868,31.11618674961482,31.178347640746065,31.3503619354425,31.382745799453954,31.388391356567173,31.412183474430723,31.419681867614727,31.622191487993685,31.826668559264956,31.971451541512447,32.098504977814436,32.15291285376223,32.168385981935835,32.31900420312046,32.36651991688908,32.36767769291084,32.441954798100035,32.447149189265055,32.4903974443118,32.49241406007191,32.56693197341321,32.59221013281924,32.60627710624209,32.64464513229647,32.654117643250096,32.6957091157345,32.71147186178571,32.742115774582984,32.74984372400131,32.75613917716184,32.75900033131228,32.82483499153875,32.84710991861011,32.8508210057208,32.945197563306444,32.971966879533504,32.97481401217616,33.096017768719875,33.11421778363329,33.12530792662543,33.1324168569317,33.143791002244264,33.14606581801619,33.152321551355705,33.17734464600827,33.20293755217468,33.254984368020246,33.32810912581354,33.34547312061538,33.34888938764469,33.36027793809863,33.3970171716982,33.412401846837,33.421520317456256,33.451449261910895,33.50707115071015,33.51249367123241,33.54761090278778,33.57446494346184,33.586182539048956,33.61105640718106,33.69607608030602,33.73018995508705,33.74080276551999,33.758592889650636,33.77897560914204,33.80655294259293,33.86349702752767,33.8640726828448,33.87414817328672,33.887394650257214,33.94677822764575,33.96091871098992,33.983440361752265,34.01696240128593,34.10816674657234,34.12005692085538,34.12411800350234,34.156335130051545,34.15720632215382,34.15778713035738,34.17143922986133,34.189457528991284,34.1996337630111,34.232220204959134,34.2380428333494,34.26717252042565,34.29020455512372,34.3167566666269,34.359405217030236,34.447521267332625,34.501513105288005,34.50973773938102,34.512381848673236,34.52207890156053,34.539717903362984,34.558249966744945,34.72466428324142,34.72910269536197,34.801095215129905,34.80999496266576,34.82483362533992,34.85809829787254,34.85839546617228,34.86196170974962,34.88782933256325,34.91520718946515,34.99181465288771,35.05156122112229,35.08027972400269,35.114117002994114,35.11831172545702,35.199617228898674,35.29708984764793,35.34985606813831,35.367966382311565,35.39303492136809,35.40058930095401,35.40723853593109,35.48561485604939,35.50319059806746,35.54565111979323,35.55263166816187,35.57631506144428,35.601837854071746,35.618863138363466,35.73063697718625,35.942914884028234,35.9453686856627,35.992326854382526,36.0691740969994,36.07440497083819,36.08086755536902,36.0959508485286,36.112887597688285,36.21897286183344,36.23812049719601,36.25573126197651,36.30860496858268,36.35999115227563,36.42631922708054,36.43314323476944,36.43748628822826,36.46789856583332,36.48621714561416,36.49677671703129,36.621173927651064,36.631138747664096,36.7074941913196,36.81488484234725,36.8248851597948,36.86365288475295,36.8642783839208,36.910896837613066,36.92999279820905,36.95661196960421,37.14702789187135,37.656636062564736,38.09864470767755,38.90718182416524,40.00002905428308,40.46049357882795,41.27476095028073,41.64677176367114],\"yaxis\":\"y\",\"type\":\"scattergl\"}],                        {\"template\":{\"data\":{\"pie\":[{\"automargin\":true,\"type\":\"pie\"}],\"scatter3d\":[{\"line\":{\"width\":3},\"marker\":{\"size\":9},\"type\":\"scatter3d\"}],\"scattergeo\":[{\"line\":{\"width\":3},\"marker\":{\"size\":9},\"type\":\"scattergeo\"}],\"scattergl\":[{\"line\":{\"width\":3},\"marker\":{\"size\":9},\"type\":\"scattergl\"}],\"scatterpolargl\":[{\"line\":{\"width\":3},\"marker\":{\"size\":9},\"type\":\"scatterpolargl\"}],\"scatterpolar\":[{\"line\":{\"width\":3},\"marker\":{\"size\":9},\"type\":\"scatterpolar\"}],\"scatter\":[{\"line\":{\"width\":3},\"marker\":{\"size\":9},\"type\":\"scatter\"}],\"scatterternary\":[{\"line\":{\"width\":3},\"marker\":{\"size\":9},\"type\":\"scatterternary\"}],\"table\":[{\"cells\":{\"height\":30},\"header\":{\"height\":36},\"type\":\"table\"}]},\"layout\":{\"font\":{\"size\":18},\"xaxis\":{\"title\":{\"standoff\":15}},\"yaxis\":{\"title\":{\"standoff\":15}}}},\"xaxis\":{\"anchor\":\"y\",\"domain\":[0.0,1.0],\"title\":{\"text\":\"claim\"}},\"yaxis\":{\"anchor\":\"x\",\"domain\":[0.0,1.0],\"title\":{\"text\":\"bmi\"}},\"legend\":{\"tracegroupgap\":0},\"title\":{\"text\":\"Claim by BMI\"},\"width\":700},                        {\"responsive\": true}                    ).then(function(){\n",
              "                            \n",
              "var gd = document.getElementById('340753b1-048b-47d0-b0fa-a256319da398');\n",
              "var x = new MutationObserver(function (mutations, observer) {{\n",
              "        var display = window.getComputedStyle(gd).display;\n",
              "        if (!display || display === 'none') {{\n",
              "            console.log([gd, 'removed!']);\n",
              "            Plotly.purge(gd);\n",
              "            observer.disconnect();\n",
              "        }}\n",
              "}});\n",
              "\n",
              "// Listen for the removal of the full notebook cells\n",
              "var notebookContainer = gd.closest('#notebook-container');\n",
              "if (notebookContainer) {{\n",
              "    x.observe(notebookContainer, {childList: true});\n",
              "}}\n",
              "\n",
              "// Listen for the clearing of the current output cell\n",
              "var outputEl = gd.closest('.output');\n",
              "if (outputEl) {{\n",
              "    x.observe(outputEl, {childList: true});\n",
              "}}\n",
              "\n",
              "                        })                };                            </script>        </div>\n",
              "</body>\n",
              "</html>"
            ]
          },
          "metadata": {}
        }
      ]
    },
    {
      "cell_type": "markdown",
      "source": [
        "* **BMI (Body mass index) affect on claim amount**"
      ],
      "metadata": {
        "id": "4TruFhQOMiL-"
      }
    },
    {
      "cell_type": "code",
      "source": [
        "px.scatter(df,y = \"bloodpressure\",x = \"claim\",title ='Claim by Bloodpressure', template='presentation', trendline = 'lowess', trendline_color_override='orange', width=700)"
      ],
      "metadata": {
        "colab": {
          "base_uri": "https://localhost:8080/",
          "height": 542
        },
        "id": "BMLj7wzhL-K2",
        "outputId": "8c592876-3e8d-45ab-b924-f5e70d9a9af1"
      },
      "execution_count": 23,
      "outputs": [
        {
          "output_type": "display_data",
          "data": {
            "text/html": [
              "<html>\n",
              "<head><meta charset=\"utf-8\" /></head>\n",
              "<body>\n",
              "    <div>            <script src=\"https://cdnjs.cloudflare.com/ajax/libs/mathjax/2.7.5/MathJax.js?config=TeX-AMS-MML_SVG\"></script><script type=\"text/javascript\">if (window.MathJax && window.MathJax.Hub && window.MathJax.Hub.Config) {window.MathJax.Hub.Config({SVG: {font: \"STIX-Web\"}});}</script>                <script type=\"text/javascript\">window.PlotlyConfig = {MathJaxConfig: 'local'};</script>\n",
              "        <script src=\"https://cdn.plot.ly/plotly-2.18.2.min.js\"></script>                <div id=\"c983b4da-9fbb-46d3-b088-e898a49a1993\" class=\"plotly-graph-div\" style=\"height:525px; width:700px;\"></div>            <script type=\"text/javascript\">                                    window.PLOTLYENV=window.PLOTLYENV || {};                                    if (document.getElementById(\"c983b4da-9fbb-46d3-b088-e898a49a1993\")) {                    Plotly.newPlot(                        \"c983b4da-9fbb-46d3-b088-e898a49a1993\",                        [{\"hovertemplate\":\"claim=%{x}<br>bloodpressure=%{y}<extra></extra>\",\"legendgroup\":\"\",\"marker\":{\"color\":\"#1F77B4\",\"symbol\":\"circle\"},\"mode\":\"markers\",\"name\":\"\",\"showlegend\":false,\"x\":[1121,1131,1135,1136,1137,1137,1141,1146,1149,1163,1241,1242,1242,1261,1261,1263,1391,1515,1526,1532,1534,1607,1149,1615,1621,1621,1622,1625,1627,1628,1629,1631,1631,1632,1632,1633,1633,1634,1635,1639,1639,1646,1665,1674,1682,1694,1702,1704,1704,1705,1708,1708,1711,1712,1719,1720,1725,1727,1727,1728,1731,1737,1743,1744,1748,1759,1769,1815,1824,1826,1832,1837,1837,1842,1875,1877,1880,1880,1906,1909,1917,1964,1967,1969,1972,1977,1980,1981,1984,1986,2007,2020,2020,2026,2045,2055,2102,2103,2104,2117,2128,2130,2134,2136,2137,2138,2150,2154,2155,2156,2166,2196,2198,2200,2201,2203,2203,2205,2207,2211,2217,2217,2219,2221,2250,2254,2257,2261,2302,2304,2322,2331,2352,2362,2395,2396,2404,2416,2438,2457,2457,2459,2464,2473,2480,2483,2494,2497,2498,2523,2527,2534,2566,2585,2585,2597,2632,2639,2643,2680,2689,2690,2699,2709,2709,2710,2719,2721,2727,2730,2731,2741,2755,2775,2789,2801,2803,2842,2850,2855,2866,2867,2897,2899,2902,2904,2913,2927,2974,3021,3044,3046,3056,3062,3070,1704,3077,3161,3167,3171,3172,3176,3176,3180,3201,3206,3208,3213,3227,3238,3260,3268,3277,3279,3292,3309,3353,3353,3366,3378,3385,3392,3392,3393,3410,3443,3471,3481,3484,3490,3500,3537,3554,3556,3558,3561,3578,3579,3591,3594,3597,3645,3659,3693,3704,3732,3736,3756,3757,3761,3766,3847,3857,3861,3866,3875,3877,3906,3925,3935,3943,3947,3956,3972,3981,3987,3989,3994,4005,4032,4040,4058,4058,4074,4076,4133,4134,4137,4149,4151,4185,4189,4234,4237,4239,4243,4260,4266,4296,4320,4337,4340,4347,4349,4350,4357,4391,4399,4402,4415,4428,4433,4433,4435,4438,4441,4449,4454,4462,4463,4466,4500,4504,4518,4527,4529,4536,4544,4561,4562,4564,4571,4618,4646,4661,4667,4670,4673,4686,4687,4718,4719,4719,4738,4746,4747,4751,4753,4762,4766,4779,4795,4827,4830,4837,4846,4877,4883,4889,4890,4894,4906,4915,4922,4931,4934,4949,4992,5002,5003,5012,5028,5031,5080,5116,5124,5125,5138,5148,5152,5209,5227,5240,5245,5246,5253,5257,5261,5266,5267,5272,5312,5325,5327,5354,5373,5375,5377,5383,5385,5397,5400,5415,5425,5428,5438,5458,5469,5472,5478,5484,5488,5584,5594,5615,5630,5649,5662,5693,5699,5708,5709,5729,5757,5836,5846,5855,5910,5920,5926,5934,5966,5969,5972,5974,5976,5979,5989,6059,6067,6079,6082,6112,6113,6117,6123,6128,6184,6185,6186,6196,6198,6203,6238,6250,6272,6282,6289,6311,6313,6334,6338,6356,6358,6360,6373,6389,6393,6402,6406,6414,6435,6455,6457,6474,6496,6500,6548,6551,6555,6571,6571,6593,6600,6600,6610,6640,6652,6653,6664,6666,6686,6710,6746,6748,6753,6770,6775,6781,6796,6799,6837,6849,6858,6875,6877,6933,6940,6948,6985,6986,7045,7046,7050,7050,7077,7133,7144,7147,7147,7151,7152,7153,7160,7160,7162,7173,7196,7201,7209,7222,7228,7243,7256,7261,7265,7281,7323,7325,7337,7345,7345,7348,7358,7371,7418,7419,7421,7441,7441,7443,7445,7448,7512,7518,7526,7537,7623,7624,7626,7633,7639,7640,7650,7682,7726,7727,7729,7731,7731,7740,7742,7749,7789,7804,7935,7954,7985,7986,8017,8023,8026,8027,8059,8062,8068,8083,8116,8116,8124,8125,8162,8211,8219,8232,8233,8240,8252,8269,8277,8280,8283,8302,8310,8334,8334,8342,8347,8410,8413,8428,8442,8444,8457,8515,8516,8520,8522,8527,8534,8538,8539,8547,8551,8556,8569,8582,8596,8601,8603,8604,8605,8606,8615,8627,8671,8688,8703,8733,8765,8782,8798,8823,8823,8825,8827,8835,8871,8891,8930,8932,8944,8964,8965,8968,8978,8988,9048,9058,9095,9101,9140,9144,9174,9182,9193,9222,9225,9249,9264,9282,9283,9288,9290,9301,9304,9361,9377,9386,9391,9411,9414,9432,9447,9447,9487,9500,9504,9541,9549,9563,9566,9583,9617,9620,9625,9630,9634,9644,9704,9715,9722,9724,9748,9778,9788,9800,9850,9855,9861,9863,9866,9869,9872,9875,9877,9880,9910,9957,9964,9991,10043,10065,10072,10085,10096,10106,10107,10115,10118,10141,10156,10197,10214,10226,10231,10264,10269,10325,10338,10355,10370,10381,10407,10422,10435,10436,10450,10461,10493,10560,10564,10577,10579,10594,10594,10600,10601,10601,10602,10702,10704,10713,10736,10791,10795,10796,10797,10806,10807,10825,10848,10923,10928,10942,10959,10959,10965,10976,10977,10982,11013,11015,11033,11070,11073,11082,11085,11090,11093,11150,11163,11165,11187,11244,11253,11264,11272,11286,11289,11299,11305,11326,11345,11353,11356,11362,11363,11365,11381,11394,11396,11411,11436,11454,11455,11482,11488,11512,11520,11534,11538,11552,11554,11566,11576,11657,11658,11658,11674,11729,11735,11737,11741,11743,11743,11763,11830,11833,11837,11840,11842,11842,11848,11856,11879,11881,11881,11884,11931,11938,11944,11945,11946,11987,12029,12032,12044,12094,12096,12105,12124,12129,12142,12146,12222,12224,12231,12233,12235,12244,12265,12268,12269,12323,12333,12347,12363,12404,12430,12475,12479,12485,12495,12523,12557,12574,12592,12609,12622,12629,12629,12638,12643,12644,12646,12648,12731,12741,12797,12815,12829,12890,12913,12925,12928,12949,12950,12957,12979,12981,12982,13012,13019,13041,13047,13063,13112,13126,13129,13143,13143,13204,13217,13224,13224,13228,13352,13390,13393,13405,13415,13429,13430,13451,13457,13462,13470,13470,13555,13607,13616,13635,13725,13747,13770,13822,13831,13844,13844,13880,13887,13887,13919,13937,13974,13981,14001,14001,14007,14043,14119,14133,14210,14235,14254,14256,14283,14313,14319,14349,14358,14382,14394,14394,14410,14418,14426,14449,14451,14455,14474,14478,14571,14590,14692,14711,14901,14988,15006,15019,15161,15170,15230,15359,15518,15555,15612,15817,15820,15828,16069,16085,16115,16138,16232,16297,16420,16450,16455,16577,16586,16657,16776,16796,16884,17043,17081,17085,17128,17178,17179,17352,17361,17468,17496,17560,17626,17663,17748,17878,17904,17929,17942,18033,18157,18218,18223,18246,18259,18310,18328,18608,18648,18765,18767,18804,18806,18838,18903,18955,18963,18972,19023,19040,19107,19144,19199,19214,19350,19362,19442,19444,19496,19515,19521,19539,19594,19673,19719,19749,19798,19933,19964,20009,20149,20167,20177,20234,20277,20296,20420,20463,20630,20709,20745,20773,20781,20878,20984,21082,21098,21195,21223,21232,21259,21344,21348,21472,21595,21659,21677,21771,21774,21797,21880,21978,21984,22144,22192,22218,22331,22395,22412,22462,22478,22493,23045,23065,23082,23241,23244,23288,23306,23401,23563,23568,23807,23887,23967,24059,24106,24180,24227,24393,24476,24513,24520,24535,24603,24667,24671,24869,24873,24915,24915,25081,25309,25333,25382,25517,25656,25678,25992,26018,26109,26125,26140,26236,26392,26467,26926,27000,27037,27117,27218,27322,27346,27375,27533,27724,27808,27941,28101,28287,28340,28468,28476,28868,28923,28950,29141,29186,29330,29523,30063,30166,30184,30260,30284,30942,31620,32108,32548,32734,32787,33307,33471,33475,33732,33750,33900,33907,34166,34254,34303,34439,34472,34617,34672,34779,34806,34828,34838,35069,35147,35160,35491,35585,35595,36021,36085,36124,36149,36189,36197,36219,36307,36397,36580,36837,36898,36910,36950,37079,37133,37165,37270,37465,37484,37607,37701,37742,37829,38126,38245,38282,38344,38415,38511,38709,38711,38746,38792,38998,39047,39125,39241,39556,39597,39611,39722,39725,39727,39774,39836,39871,39983,40003,40103,40182,40273,40419,40720,40904,40932,40941,40974,41034,41097,41661,41676,41919,41949,41999,42111,42112,42124,42211,42303,42560,42760,42856,42969,42983,43254,43578,43753,43813,43896,43921,43943,44202,44260,44400,44423,44501,44585,44641,45008,45702,45710,45863,46113,46130,46151,46200,46255,46599,46661,46718,46889,47055,47269,47291,47305,47403,47462,47496,47896,47928,48173,48517,48549,48673,48675,48824,48885,48970,49577,51194,52590,55135,58571,60021,62592,63770],\"xaxis\":\"x\",\"y\":[91,87,82,80,100,96,86,100,86,97,88,90,81,90,84,97,91,85,96,100,93,85,86,97,93,87,93,80,80,96,81,86,93,98,83,87,100,94,93,93,82,91,94,89,80,83,83,81,81,91,82,87,80,88,97,88,90,80,90,98,90,89,87,100,99,87,80,88,80,98,98,90,95,87,95,100,83,83,91,98,91,88,94,97,86,97,80,100,95,97,100,99,90,93,91,81,82,83,100,87,99,94,80,90,100,83,91,88,80,88,80,80,87,98,82,81,94,89,97,89,82,94,88,86,81,90,81,89,88,91,95,87,89,81,95,90,90,80,89,94,91,96,80,84,82,91,82,93,99,94,82,98,88,87,82,86,94,86,91,92,81,90,91,80,87,88,88,84,96,91,80,85,81,89,91,98,92,88,90,92,87,82,92,100,95,86,96,94,80,87,100,83,98,89,98,81,99,100,96,87,99,93,94,80,82,96,87,82,88,89,88,86,90,91,81,82,97,92,95,93,99,100,82,85,92,81,94,95,88,93,92,98,82,85,82,89,88,84,82,91,97,99,88,97,92,82,88,80,89,90,84,83,86,80,87,88,92,92,80,96,88,86,86,93,93,99,88,91,82,86,91,99,90,95,95,80,98,88,94,100,90,98,81,90,84,93,80,80,95,88,87,90,88,89,87,93,90,81,88,92,88,83,83,100,80,90,94,81,90,87,91,89,96,83,93,90,95,89,99,93,96,94,83,97,85,86,87,82,83,80,100,94,80,95,82,86,92,98,83,94,100,85,87,83,89,82,93,99,85,97,91,97,87,95,95,97,84,87,99,98,95,94,100,84,90,100,88,86,86,100,93,81,84,93,96,89,92,83,90,96,88,82,90,81,97,91,91,96,92,88,96,85,100,86,83,86,81,97,99,89,91,90,93,94,83,85,86,95,94,100,82,81,89,82,82,90,91,95,90,94,89,94,90,100,97,90,90,95,96,100,88,97,93,82,91,84,89,84,97,91,92,82,93,100,92,83,93,89,95,92,97,92,91,91,98,98,85,99,94,97,81,89,93,93,91,81,99,85,83,86,99,80,91,96,99,81,98,82,89,87,92,85,86,90,91,84,95,89,80,91,81,90,85,84,100,100,95,97,88,82,87,91,88,84,93,87,89,80,81,89,92,91,88,82,93,96,88,96,89,94,88,83,84,90,81,81,83,92,94,81,94,80,100,91,88,82,97,89,80,94,96,92,88,85,98,95,95,97,87,96,99,83,81,95,87,88,83,96,84,100,90,95,91,100,91,87,97,86,87,81,80,88,88,88,98,100,84,81,83,90,94,89,92,84,100,92,100,96,82,80,93,93,81,92,93,94,94,81,86,87,91,100,99,85,80,80,80,85,91,93,98,92,96,81,90,96,96,96,95,86,94,97,92,97,99,100,97,93,98,98,87,84,95,81,99,100,95,96,99,99,100,89,98,98,95,85,85,96,92,81,93,89,92,91,100,91,94,86,84,98,88,81,82,94,80,90,83,95,100,90,82,93,81,100,86,98,85,82,98,106,105,97,87,81,86,88,88,103,84,96,83,102,99,88,105,89,105,106,109,110,89,84,82,86,100,80,90,100,109,105,105,101,104,91,104,100,103,93,100,99,94,109,104,90,92,89,107,93,82,86,105,80,104,95,86,86,109,101,98,109,101,81,83,91,106,110,100,92,89,96,86,82,101,106,87,84,110,106,103,103,80,103,90,102,89,91,80,106,103,85,89,85,83,92,104,90,84,106,93,99,102,104,82,106,84,86,84,91,101,83,91,94,96,98,108,105,91,80,109,109,92,98,81,91,83,95,93,85,97,103,95,101,90,97,80,101,85,110,83,109,100,85,83,83,105,108,97,89,97,91,110,87,95,110,100,83,103,92,92,101,102,88,97,83,81,99,99,90,80,94,97,87,86,90,83,96,96,84,86,80,83,97,86,97,84,104,84,80,107,82,86,80,87,109,102,89,96,106,88,85,94,88,96,86,84,110,82,81,92,99,94,82,102,85,87,95,98,82,85,81,95,88,109,108,105,100,88,90,105,89,101,80,82,105,91,95,83,110,98,84,103,94,92,83,93,87,106,96,84,91,110,89,89,93,106,85,95,99,81,110,95,98,88,99,109,82,85,86,80,109,83,97,98,103,83,103,106,90,83,98,107,89,94,101,103,97,91,98,89,92,80,94,84,87,102,105,100,82,95,100,100,101,95,91,89,104,85,94,95,84,87,96,83,92,108,89,94,91,81,105,83,88,105,108,85,97,86,107,109,90,83,106,97,99,92,96,86,91,80,83,98,100,103,96,103,102,107,104,88,83,97,87,96,87,95,108,92,89,84,81,89,99,95,82,104,83,96,81,100,98,101,93,100,107,87,109,105,87,98,106,97,96,99,82,93,87,81,110,82,91,100,89,98,102,110,81,106,85,107,89,109,106,98,110,91,87,83,99,95,89,108,94,104,105,99,82,99,107,106,87,80,84,103,110,85,88,94,83,87,91,80,84,104,106,99,89,93,101,91,92,85,86,102,106,106,84,104,104,107,84,93,99,97,84,94,107,86,89,85,85,85,80,84,95,128,115,104,135,84,128,126,126,94,137,91,101,87,81,137,92,81,119,80,123,118,118,130,95,93,98,113,139,99,114,111,95,97,110,132,84,95,122,103,114,83,88,81,106,94,129,82,129,80,136,136,115,93,98,81,125,94,114,124,111,80,106,107,140,97,129,98,87,117,131,105,126,108,135,96,86,86,97,140,140,124,97,127,139,106,119,103,89,106,81,89,131,124,85,112,140,85,123,137,131,88,101,99,106,89,125,119,138,93,139,139,132,114,82,107,89,86,116,85,96,105,131,108,128,109,95,86,98,115,124,120,135,124,98,109,117,125,104,98,120,96,108,127,140,94,123,101,130,102,99,115,95,110,98,92,134,93,83,96,112,137,104,104,95,117,110,114,97,121,109,111,115,94,104,81,117,107,115,133,113,107,117,109,111,104,120,127,125,88,120,91,106,101],\"yaxis\":\"y\",\"type\":\"scattergl\"},{\"hovertemplate\":\"<b>LOWESS trendline</b><br><br>claim=%{x}<br>bloodpressure=%{y} <b>(trend)</b><extra></extra>\",\"legendgroup\":\"\",\"line\":{\"color\":\"orange\"},\"marker\":{\"color\":\"#1F77B4\",\"symbol\":\"circle\"},\"mode\":\"lines\",\"name\":\"\",\"showlegend\":false,\"x\":[1121,1131,1135,1136,1137,1137,1141,1146,1149,1149,1163,1241,1242,1242,1261,1261,1263,1391,1515,1526,1532,1534,1607,1615,1621,1621,1622,1625,1627,1628,1629,1631,1631,1632,1632,1633,1633,1634,1635,1639,1639,1646,1665,1674,1682,1694,1702,1704,1704,1704,1705,1708,1708,1711,1712,1719,1720,1725,1727,1727,1728,1731,1737,1743,1744,1748,1759,1769,1815,1824,1826,1832,1837,1837,1842,1875,1877,1880,1880,1906,1909,1917,1964,1967,1969,1972,1977,1980,1981,1984,1986,2007,2020,2020,2026,2045,2055,2102,2103,2104,2117,2128,2130,2134,2136,2137,2138,2150,2154,2155,2156,2166,2196,2198,2200,2201,2203,2203,2205,2207,2211,2217,2217,2219,2221,2250,2254,2257,2261,2302,2304,2322,2331,2352,2362,2395,2396,2404,2416,2438,2457,2457,2459,2464,2473,2480,2483,2494,2497,2498,2523,2527,2534,2566,2585,2585,2597,2632,2639,2643,2680,2689,2690,2699,2709,2709,2710,2719,2721,2727,2730,2731,2741,2755,2775,2789,2801,2803,2842,2850,2855,2866,2867,2897,2899,2902,2904,2913,2927,2974,3021,3044,3046,3056,3062,3070,3077,3161,3167,3171,3172,3176,3176,3180,3201,3206,3208,3213,3227,3238,3260,3268,3277,3279,3292,3309,3353,3353,3366,3378,3385,3392,3392,3393,3410,3443,3471,3481,3484,3490,3500,3537,3554,3556,3558,3561,3578,3579,3591,3594,3597,3645,3659,3693,3704,3732,3736,3756,3757,3761,3766,3847,3857,3861,3866,3875,3877,3906,3925,3935,3943,3947,3956,3972,3981,3987,3989,3994,4005,4032,4040,4058,4058,4074,4076,4133,4134,4137,4149,4151,4185,4189,4234,4237,4239,4243,4260,4266,4296,4320,4337,4340,4347,4349,4350,4357,4391,4399,4402,4415,4428,4433,4433,4435,4438,4441,4449,4454,4462,4463,4466,4500,4504,4518,4527,4529,4536,4544,4561,4562,4564,4571,4618,4646,4661,4667,4670,4673,4686,4687,4718,4719,4719,4738,4746,4747,4751,4753,4762,4766,4779,4795,4827,4830,4837,4846,4877,4883,4889,4890,4894,4906,4915,4922,4931,4934,4949,4992,5002,5003,5012,5028,5031,5080,5116,5124,5125,5138,5148,5152,5209,5227,5240,5245,5246,5253,5257,5261,5266,5267,5272,5312,5325,5327,5354,5373,5375,5377,5383,5385,5397,5400,5415,5425,5428,5438,5458,5469,5472,5478,5484,5488,5584,5594,5615,5630,5649,5662,5693,5699,5708,5709,5729,5757,5836,5846,5855,5910,5920,5926,5934,5966,5969,5972,5974,5976,5979,5989,6059,6067,6079,6082,6112,6113,6117,6123,6128,6184,6185,6186,6196,6198,6203,6238,6250,6272,6282,6289,6311,6313,6334,6338,6356,6358,6360,6373,6389,6393,6402,6406,6414,6435,6455,6457,6474,6496,6500,6548,6551,6555,6571,6571,6593,6600,6600,6610,6640,6652,6653,6664,6666,6686,6710,6746,6748,6753,6770,6775,6781,6796,6799,6837,6849,6858,6875,6877,6933,6940,6948,6985,6986,7045,7046,7050,7050,7077,7133,7144,7147,7147,7151,7152,7153,7160,7160,7162,7173,7196,7201,7209,7222,7228,7243,7256,7261,7265,7281,7323,7325,7337,7345,7345,7348,7358,7371,7418,7419,7421,7441,7441,7443,7445,7448,7512,7518,7526,7537,7623,7624,7626,7633,7639,7640,7650,7682,7726,7727,7729,7731,7731,7740,7742,7749,7789,7804,7935,7954,7985,7986,8017,8023,8026,8027,8059,8062,8068,8083,8116,8116,8124,8125,8162,8211,8219,8232,8233,8240,8252,8269,8277,8280,8283,8302,8310,8334,8334,8342,8347,8410,8413,8428,8442,8444,8457,8515,8516,8520,8522,8527,8534,8538,8539,8547,8551,8556,8569,8582,8596,8601,8603,8604,8605,8606,8615,8627,8671,8688,8703,8733,8765,8782,8798,8823,8823,8825,8827,8835,8871,8891,8930,8932,8944,8964,8965,8968,8978,8988,9048,9058,9095,9101,9140,9144,9174,9182,9193,9222,9225,9249,9264,9282,9283,9288,9290,9301,9304,9361,9377,9386,9391,9411,9414,9432,9447,9447,9487,9500,9504,9541,9549,9563,9566,9583,9617,9620,9625,9630,9634,9644,9704,9715,9722,9724,9748,9778,9788,9800,9850,9855,9861,9863,9866,9869,9872,9875,9877,9880,9910,9957,9964,9991,10043,10065,10072,10085,10096,10106,10107,10115,10118,10141,10156,10197,10214,10226,10231,10264,10269,10325,10338,10355,10370,10381,10407,10422,10435,10436,10450,10461,10493,10560,10564,10577,10579,10594,10594,10600,10601,10601,10602,10702,10704,10713,10736,10791,10795,10796,10797,10806,10807,10825,10848,10923,10928,10942,10959,10959,10965,10976,10977,10982,11013,11015,11033,11070,11073,11082,11085,11090,11093,11150,11163,11165,11187,11244,11253,11264,11272,11286,11289,11299,11305,11326,11345,11353,11356,11362,11363,11365,11381,11394,11396,11411,11436,11454,11455,11482,11488,11512,11520,11534,11538,11552,11554,11566,11576,11657,11658,11658,11674,11729,11735,11737,11741,11743,11743,11763,11830,11833,11837,11840,11842,11842,11848,11856,11879,11881,11881,11884,11931,11938,11944,11945,11946,11987,12029,12032,12044,12094,12096,12105,12124,12129,12142,12146,12222,12224,12231,12233,12235,12244,12265,12268,12269,12323,12333,12347,12363,12404,12430,12475,12479,12485,12495,12523,12557,12574,12592,12609,12622,12629,12629,12638,12643,12644,12646,12648,12731,12741,12797,12815,12829,12890,12913,12925,12928,12949,12950,12957,12979,12981,12982,13012,13019,13041,13047,13063,13112,13126,13129,13143,13143,13204,13217,13224,13224,13228,13352,13390,13393,13405,13415,13429,13430,13451,13457,13462,13470,13470,13555,13607,13616,13635,13725,13747,13770,13822,13831,13844,13844,13880,13887,13887,13919,13937,13974,13981,14001,14001,14007,14043,14119,14133,14210,14235,14254,14256,14283,14313,14319,14349,14358,14382,14394,14394,14410,14418,14426,14449,14451,14455,14474,14478,14571,14590,14692,14711,14901,14988,15006,15019,15161,15170,15230,15359,15518,15555,15612,15817,15820,15828,16069,16085,16115,16138,16232,16297,16420,16450,16455,16577,16586,16657,16776,16796,16884,17043,17081,17085,17128,17178,17179,17352,17361,17468,17496,17560,17626,17663,17748,17878,17904,17929,17942,18033,18157,18218,18223,18246,18259,18310,18328,18608,18648,18765,18767,18804,18806,18838,18903,18955,18963,18972,19023,19040,19107,19144,19199,19214,19350,19362,19442,19444,19496,19515,19521,19539,19594,19673,19719,19749,19798,19933,19964,20009,20149,20167,20177,20234,20277,20296,20420,20463,20630,20709,20745,20773,20781,20878,20984,21082,21098,21195,21223,21232,21259,21344,21348,21472,21595,21659,21677,21771,21774,21797,21880,21978,21984,22144,22192,22218,22331,22395,22412,22462,22478,22493,23045,23065,23082,23241,23244,23288,23306,23401,23563,23568,23807,23887,23967,24059,24106,24180,24227,24393,24476,24513,24520,24535,24603,24667,24671,24869,24873,24915,24915,25081,25309,25333,25382,25517,25656,25678,25992,26018,26109,26125,26140,26236,26392,26467,26926,27000,27037,27117,27218,27322,27346,27375,27533,27724,27808,27941,28101,28287,28340,28468,28476,28868,28923,28950,29141,29186,29330,29523,30063,30166,30184,30260,30284,30942,31620,32108,32548,32734,32787,33307,33471,33475,33732,33750,33900,33907,34166,34254,34303,34439,34472,34617,34672,34779,34806,34828,34838,35069,35147,35160,35491,35585,35595,36021,36085,36124,36149,36189,36197,36219,36307,36397,36580,36837,36898,36910,36950,37079,37133,37165,37270,37465,37484,37607,37701,37742,37829,38126,38245,38282,38344,38415,38511,38709,38711,38746,38792,38998,39047,39125,39241,39556,39597,39611,39722,39725,39727,39774,39836,39871,39983,40003,40103,40182,40273,40419,40720,40904,40932,40941,40974,41034,41097,41661,41676,41919,41949,41999,42111,42112,42124,42211,42303,42560,42760,42856,42969,42983,43254,43578,43753,43813,43896,43921,43943,44202,44260,44400,44423,44501,44585,44641,45008,45702,45710,45863,46113,46130,46151,46200,46255,46599,46661,46718,46889,47055,47269,47291,47305,47403,47462,47496,47896,47928,48173,48517,48549,48673,48675,48824,48885,48970,49577,51194,52590,55135,58571,60021,62592,63770],\"xaxis\":\"x\",\"y\":[88.83430927360507,88.83723124489951,88.83840041499404,88.8386927416445,88.83898508195448,88.83898508195448,88.84015457991183,88.8416167603101,88.84249423301318,88.84249423301318,88.84659074019784,88.86946384288296,88.86975763925882,88.86975763925882,88.87534244586519,88.87534244586519,88.87593061663901,88.91369267690744,88.95050379853265,88.9537804559613,88.9555684999639,88.95616463661739,88.97796554683106,88.98035967061816,88.98215591241888,88.98215591241888,88.98245534017197,88.98335371624654,88.98395271098829,88.98425223157231,88.98455176763764,88.98515088621753,88.98515088621753,88.98545046873961,88.98545046873961,88.98575006675375,88.98575006675375,88.98604968026315,88.9863493092696,88.98754798029479,88.98754798029479,88.98964625151345,88.99534539180166,88.99804694134141,89.00044937539066,89.0040548921693,89.00645981496918,89.00706120143764,89.00706120143764,89.00706120143764,89.00736191805166,89.00826416146985,89.00826416146985,89.00916654536958,89.00946737125012,89.01157359059549,89.01187454175974,89.01337953310917,89.01398163968621,89.01398163968621,89.01428271658072,89.01518604176985,89.01699311800297,89.01880076318761,89.01910209279524,89.0203075697728,89.02362394164942,89.02664049671087,89.04053730616646,89.04326024710804,89.04386552408857,89.0456817464068,89.04719571415112,89.04719571415112,89.04871009088939,89.05871527528092,89.05932222705222,89.06023277876122,89.06023277876122,89.06813047768918,89.06904247382896,89.07147519719818,89.0857890727032,89.08670398343989,89.08731400812667,89.0882291715001,89.08975478082914,89.09067034873715,89.09097557176777,89.09189134206366,89.09250193994217,89.09891729156263,89.1028924265862,89.1028924265862,89.10472806471428,89.1105449135648,89.11360884707254,89.12803173282255,89.12833900300403,89.12864628982855,89.13264253226069,89.13602616189543,89.1366415831426,89.13787262474345,89.13848824505058,89.13879608007262,89.13910393166893,89.14279944270382,89.14403180922868,89.14433994218909,89.14464809167602,89.1477304950905,89.15698760669383,89.1576052751494,89.15822300953586,89.15853190145319,89.15914973473598,89.15914973473598,89.15976763395182,89.16038559910325,89.16162172721974,89.16347641390284,89.16347641390284,89.16409477465723,89.16471320133999,89.17368779870228,89.17492676261217,89.1758561587844,89.1770955847363,89.1898149546973,89.19043612414488,89.19602963858898,89.1988284159178,89.20536414179895,89.20847897667068,89.21876979197363,89.21908191964992,89.22157954532724,89.22532799960358,89.23220645914643,89.23815351903829,89.23815351903829,89.23877988049237,89.24034608044954,89.2431663077195,89.24536076745972,89.24630150483068,89.2497521840289,89.25069363571424,89.25100748701345,89.25885931529346,89.2601165991509,89.26231750519187,89.27238949822917,89.2783780798706,89.2783780798706,89.28216355155585,89.29321876384812,89.29543236345623,89.29669766142894,89.3084149461506,89.31126873226195,89.31158590769479,89.31444128041747,89.31761559511338,89.31761559511338,89.31793312389051,89.32079168037589,89.32142711031405,89.32333382665185,89.32428742501948,89.32460532676238,89.32778532516093,89.33224032759907,89.3386107295394,89.34307431623033,89.34690308657211,89.3475414706491,89.3600046490682,89.36256467093736,89.36416528831337,89.36768828545925,89.36800866987191,89.37762892068962,89.37827087313329,89.37923394357723,89.37987608512603,89.38276665975572,89.38726616609341,89.4023990287404,89.41757445704198,89.42501640842664,89.42566402490907,89.42890328788297,89.43084779167238,89.4334415692871,89.43571216320036,89.46303532947957,89.46499238449393,89.46629748982548,89.46662381642591,89.46792932394592,89.46792932394592,89.46923515330957,89.47609604032083,89.47773089382518,89.47838497629482,89.48002053525245,89.48460278328577,89.4882058978921,89.49541947183678,89.4980450217362,89.50100031844575,89.50165727456871,89.50592947282489,89.51152138936446,89.52602205489445,89.52602205489445,89.53031396465617,89.53427882654677,89.53659303867553,89.53890826580948,89.53890826580948,89.5392390954399,89.54486637238021,89.5558070471788,89.56510782594471,89.56843349922684,89.56943160892234,89.57142839315166,89.57475804128964,89.58709595836396,89.59277435968983,89.59344280574577,89.59411133578615,89.59511428834521,89.60080125890036,89.60113597586606,89.60515422189555,89.60615925753827,89.60716448300958,89.62327397195503,89.62798177605292,89.63943238032753,89.6431422651995,89.65259727358402,89.65394935759105,89.66071491654561,89.66105341950403,89.66240764582679,89.66410091155119,89.69160691370215,89.69501257794425,89.69637545376638,89.69807953946562,89.70114827033203,89.70183045121429,89.71173194329018,89.71822918237129,89.72165199469018,89.7243918451898,89.72576230503086,89.72884714520761,89.73433578136837,89.73742566537598,89.73948660154956,89.7401737607348,89.74189205388669,89.74567428894755,89.75496960068064,89.75772695795736,89.76393637157281,89.76393637157281,89.76946210468653,89.77015323649205,89.78988948437643,89.7902364095527,89.79127732536685,89.7954430952842,89.79613771837401,89.80796069432328,89.80935342265974,89.8250476855245,89.8260956758748,89.82679445484646,89.82819229790073,89.83413737746841,89.83623728487471,89.84674973638822,89.85517526811003,89.86115177156162,89.86220717571129,89.86467063541151,89.86537469982332,89.86572676852278,89.86819193120657,89.88018261025678,89.88300806838723,89.8840680215233,89.88866371861111,89.89326359840611,89.89503389994245,89.89503389994245,89.89574219464487,89.8968048234186,89.89786767644641,89.900703049279,89.90247596986885,89.90531394600802,89.90566880598975,89.90673353677295,89.91881637279928,89.92023981223386,89.92522506924277,89.9284325299497,89.92914558178512,89.93164207481942,89.93449675880471,89.94056846911465,89.94092586248298,89.94164072737713,89.94414357596045,89.96098167510232,89.97104060295781,89.97643789962802,89.97859850288798,89.97967916628893,89.98076007115307,89.98544678822303,89.98580749347391,89.99700279387767,89.99736436800386,89.99736436800386,90.00423948182768,90.00713723619641,90.00749957966426,90.00894922993804,90.00967422107658,90.01293805342496,90.01438936772087,90.01910921876221,90.02492475908768,90.03657749360246,90.03767142711301,90.04022493705801,90.0435100805705,90.05484342912685,90.05704019904546,90.05923801950034,90.05960442522876,90.06107034092445,90.06547090508974,90.06877411038839,90.07134492460263,90.07465239112152,90.07575541468997,90.08127455518756,90.09713349902864,90.10082963639519,90.10119941742751,90.1045288184417,90.11045386499133,90.111565684296,90.1297646308363,90.14318269698268,90.14616998106472,90.14654353246179,90.1514025539436,90.1551438743392,90.15664128347187,90.17803431496964,90.18481144700263,90.18971247439816,90.19159892455339,90.19197631068288,90.19461891127597,90.19612967458768,90.19764095169381,90.19953077116706,90.19990883153696,90.2017996161054,90.21695493692619,90.2218915730287,90.2226515430028,90.23292390201591,90.24016690072554,90.24093001131841,90.24169325348656,90.24398376993648,90.24474753888838,90.24933292219431,90.25048001060043,90.25621991541928,90.26005065704248,90.26120052595755,90.26503557950463,90.27271566203994,90.27694539133617,90.2780996555733,90.28040908740766,90.28271972465929,90.28426081972438,90.32140879326427,90.32529631815899,90.33347119853842,90.33931960130167,90.34673861003482,90.3518218931407,90.36396698074472,90.3663214615942,90.36985550905125,90.37024835336359,90.37811248748106,90.38914552116042,90.42042162513174,90.4243962303034,90.42797639210575,90.44991761832775,90.45391853276867,90.45632080425352,90.45952584647395,90.4723691062068,90.47357506224922,90.47478134504568,90.47558571521445,90.47639023075719,90.47759727674793,90.48162312842074,90.50990639975988,90.51315022822219,90.51802039905819,90.51923877289802,90.53144083205491,90.53184814190482,90.5334777526087,90.53592328333829,90.53796224840384,90.56086255455998,90.561272561357,90.56168260603447,90.56578513929787,90.56660610191656,90.56865917487258,90.58305750757565,90.58800497315569,90.59708994109232,90.6012257734654,90.60412321784273,90.61324224358941,90.61407221387299,90.62279675066986,90.62446062056198,90.63195626006163,90.63278994522807,90.6336237987152,90.63904796941634,90.64573377233056,90.64740694704467,90.65117413481866,90.65284957773024,90.6562025775623,90.66501776599708,90.67343178674,90.6742742043888,90.68144233454748,90.69073924960904,90.69243213485137,90.71281003466747,90.71408765187917,90.71579189690205,90.72261763811836,90.72261763811836,90.73202656821135,90.73502621209536,90.73502621209536,90.73931648973769,90.75222435838833,90.75740367238643,90.75783571253055,90.76259260837567,90.76345838556348,90.77213156783944,90.782577775764,90.79833096722473,90.79920925107905,90.80140644304879,90.80889305558522,90.8110998610568,90.81375101177767,90.82039343777986,90.82172446643996,90.83866093884417,90.84404011557751,90.84808464285851,90.85574868431635,90.85665247322322,90.88214987462577,90.88536394106518,90.88904471413898,90.90906469444353,90.90976780065247,90.94953339540871,90.95010937560409,90.95241292703038,90.95241292703038,90.96804869660336,90.99880975243555,91.00568899098951,91.00712307050354,91.00712307050354,91.00903705154752,91.00970425592998,91.01037103807239,91.01502669485632,91.01502669485632,91.01635308712736,91.0234393467374,91.03703018718763,91.03943784804432,91.04329710615315,91.04958696780879,91.05249780593815,91.05979672162962,91.06688595620524,91.06973795869024,91.07169638741748,91.07955245081598,91.10057510289202,91.10157083438969,91.10861338943171,91.1135678747027,91.1135678747027,91.1155027883724,91.12192338649825,91.12993331858445,91.154640860133,91.15527190263413,91.15634395438414,91.1686311876085,91.1686311876085,91.16987532423875,91.17111767457651,91.1729778548996,91.2114571207392,91.21496360959047,91.21959147912396,91.22599111317051,91.27453458254328,91.27508567310369,91.2761867511859,91.2798670937966,91.28315315452699,91.28369956343488,91.2887451456691,91.30602514527212,91.32903765047027,91.3295385363406,91.33054058704597,91.33154300915217,91.33154300915217,91.33620929283256,91.3372473305645,91.34087050282238,91.3612562722507,91.36880336613194,91.43266763516495,91.44159485425028,91.45608077533076,91.45654226464659,91.47102246244442,91.47382682709426,91.47529826157043,91.47575342413492,91.49093011297624,91.4924025733309,91.49522787543917,91.50211295389683,91.51713266076952,91.51713266076952,91.5207681485787,91.52121041395911,91.53842197039172,91.56147736018981,91.56538854115013,91.57112703710125,91.57155898898046,91.57457889704186,91.5797407689845,91.58711018329986,91.59052455828467,91.59186281492356,91.59314023108838,91.60120502563952,91.60458784772953,91.61478740134947,91.61478740134947,91.61817404155944,91.62039559305488,91.6465754722311,91.64781379353576,91.65399564455164,91.65985250537213,91.66067381914655,91.66600641997289,91.68989012046882,91.69029699003559,91.69192405484924,91.69273734423199,91.6947698820002,91.69761385949795,91.69923820595012,91.69964420703673,91.70289103808906,91.7045137040599,91.7065413768731,91.71181018177728,91.71765178709148,91.72389622184377,91.72591747757924,91.72672586025617,91.72713002741513,91.72753417893598,91.7279383151782,91.73157491241736,91.73642226946778,91.75418982183571,91.76105530652443,91.767311689004,91.77943475766187,91.79238040885079,91.79986374287142,91.80634268187349,91.8167874779504,91.8167874779504,91.81759856077879,91.81840974917627,91.82174796569763,91.83771713539933,91.84583844978484,91.86171111805069,91.8625264375579,91.86742117686057,91.87564781772328,91.87605657732267,91.87739857925118,91.88174739539568,91.88583834462537,91.91044832781404,91.91455962409509,91.92989979481884,91.93256064032347,91.94886017786142,91.95051139737829,91.96290376007111,91.96621069376718,91.9707852914518,91.98280968341578,91.9840514110375,91.99398813667841,92.00020081426062,92.00781196067962,92.00827774538347,92.01045237404395,92.01128102129819,92.01589040834243,92.01718509128776,92.0408311440609,92.04774533800085,92.05147393351601,92.05354513921606,92.06182759320012,92.06320048468864,92.07131109948361,92.07751882465817,92.07751882465817,92.0941090411993,92.0995316498245,92.10118285510497,92.11644123808459,92.11976430316562,92.1255278814584,92.1267623663785,92.13375394134253,92.14771717559296,92.14894793627347,92.1510561692656,92.15310650899741,92.15474635025716,92.1588442434922,92.1837991404699,92.18829118185968,92.19114844352053,92.19196461897515,92.2017524364795,92.2139714821384,92.21804079731159,92.22298325514504,92.243359059708,92.24538854031958,92.24798015206751,92.24891730867753,92.25032341799438,92.25172997836954,92.25313699182554,92.25441774426649,92.25522934044338,92.25644664035326,92.26874130314404,92.28787957576209,92.29084259050637,92.30176653427165,92.32412878608154,92.33300346352742,92.33582433355694,92.3410590291012,92.34555235718085,92.34970913474973,92.3501797070558,92.35380770595853,92.35501273678209,92.36487120690825,92.37130746348032,92.3880277906103,92.39484509674838,92.39962486288802,92.40161476298896,92.41505930728167,92.41741652022746,92.44045488883418,92.44608777140111,92.45360864666588,92.45952132310644,92.46440166737416,92.4748264576145,92.48071842700365,92.48581947227598,92.48621165588624,92.49169916901434,92.49600679752766,92.508518323885,92.53490502425366,92.53645970526443,92.54150940615295,92.54228587005555,92.54810578680777,92.54810578680777,92.55043197610215,92.55081957469451,92.55081957469451,92.55120714473324,92.59122008070028,92.59198940567587,92.59544962222148,92.60507214038081,92.62788733529838,92.62971212290255,92.63009347042981,92.63047476834893,92.63416164532296,92.63462840289621,92.64195050659343,92.65067597647479,92.68100416943219,92.68319143979829,92.68842171416654,92.69475104552525,92.69475104552525,92.6969790004087,92.70105527619243,92.70142530466237,92.70327407157058,92.71586795573572,92.71679186206529,92.72396015107117,92.73791429891115,92.73900080289012,92.74225472633019,92.74333749732659,92.74514002914776,92.74622029322195,92.76759141654868,92.77265598538675,92.77336276607423,92.78111066866278,92.80154904541504,92.8046568646049,92.80844511040677,92.81124722548608,92.81604304823962,92.81706849101806,92.8204810476023,92.82252451255427,92.82965325439856,92.83662215174873,92.83937261060052,92.84071267204573,92.8431162765735,92.84345230532095,92.84412413731792,92.84948805700095,92.85494225924627,92.8556097889976,92.8606069450076,92.86889950603238,92.8748428491415,92.87517237639877,92.88527692957017,92.88746667048147,92.89541508546894,92.89818719877881,92.90431277604893,92.9060618440076,92.91059088451858,92.91123677385826,92.91555986476868,92.9190607037567,92.94547644592882,92.94579176354054,92.94579176354054,92.95088359743379,92.96803648341681,92.96989313841297,92.97051138320666,92.97174691214984,92.9723641962462,92.9723641962462,92.98019671084546,93.00094561818688,93.00185103939857,93.00305722642632,93.00407746538461,93.00467967639926,93.00467967639926,93.00700855691115,93.00941101998431,93.01629206940575,93.01688860931888,93.01688860931888,93.01778287921232,93.03252584695191,93.03458701633117,93.03635115689997,93.0366449515405,93.03693868120412,93.05166183676828,93.06393995656784,93.06515300985791,93.06999958677976,93.08648552380173,93.08705347397627,93.08960674918528,93.09509935070628,93.09651160737023,93.10075175214256,93.10210725621329,93.12540977992398,93.12619056920855,93.12892101514225,93.12970047747504,93.13047964280015,93.13398219090402,93.1409543393034,93.14178056142488,93.14205591971357,93.15721847893299,93.15995784812372,93.16379001353559,93.16816571474112,93.17957049797792,93.1869137199359,93.19915499262432,93.2004424899194,93.20207259424703,93.20543432683553,93.21341849590843,93.22287148375158,93.22747876055358,93.23236010010933,93.23729462054708,93.24082192472997,93.24272237654966,93.24272237654966,93.24516711205465,93.2465259740947,93.24679780711632,93.24734153519594,93.24788534717344,93.27181564746185,93.2752000782119,93.29063170206933,93.29576471174879,93.29961515801418,93.31765196215134,93.32506602094755,93.32905176272105,93.32987711482434,93.33566365604351,93.3359395920458,93.33787209972817,93.34395627285316,93.34451015201958,93.34478713875146,93.3531109234707,93.35505695616246,93.36118197145063,93.3628547041523,93.36731990414101,93.38103351364789,93.3849617592653,93.38580407680591,93.38973739655276,93.38973739655276,93.40692067977885,93.41090600414924,93.41288134778983,93.41288134778983,93.41420172773661,93.44963969977431,93.46034748440583,93.46119180948084,93.46490389623095,93.46773451664846,93.47166452181565,93.47194507065035,93.47783116343362,93.47951091583128,93.48091000355822,93.48314717643527,93.48314717643527,93.50803127696463,93.52238096684472,93.52485378521787,93.5300629495174,93.55478517303496,93.56083046841421,93.56699623349837,93.58181607617912,93.58420036411873,93.5876360338402,93.5876360338402,93.59745539507617,93.5992870905056,93.5992870905056,93.60766277494585,93.61232058816313,93.6218268986979,93.62366013471721,93.62875178826519,93.62875178826519,93.63027414175666,93.63970892904322,93.65914154208762,93.66266689796419,93.68263377099079,93.68868439677445,93.69326224333672,93.69374311184481,93.70136150325254,93.70894586335551,93.71065395932068,93.71797932659278,93.72010617567051,93.72576010767477,93.72857764945644,93.72857764945644,93.73241902499667,93.7342887115706,93.73615572664531,93.74150853063013,93.74197295119706,93.74290129384806,93.74730186846193,93.74822640554444,93.77011034660265,93.77444552176854,93.79741682175482,93.80161183266668,93.84467209400923,93.86272205538917,93.86660685779853,93.86979643412971,93.89815219202157,93.89999307038184,93.91132615082304,93.93433708242138,93.9625280901195,93.96902945997655,93.97870942394049,94.01369282443629,94.01417834887891,94.01547238117524,94.05467319567016,94.05749410115328,94.06233152821949,94.06592326755491,94.08184235695056,94.09208254625153,94.11115201725265,94.11581421448963,94.11659325807146,94.13670973839234,94.138134264218,94.14948301040496,94.16961062842827,94.17296615797797,94.18787394042678,94.21618880577496,94.22327053026355,94.22402356325213,94.23221186250686,94.24192406125177,94.24212107500453,94.27649956944973,94.27839529891337,94.30157167567711,94.30783091717011,94.3224383199252,94.33793472156692,94.34630097273254,94.36712753864833,94.40026725545376,94.40707232314747,94.41366893163959,94.41711946974931,94.44151906047324,94.47597350675042,94.4933519176156,94.49478862192288,94.50107118093796,94.50483461268988,94.51971756168314,94.52501521692717,94.60974782305964,94.62236465888614,94.65984001604136,94.66048761879628,94.67250833778475,94.67316023882186,94.68286596710523,94.70286174378809,94.71940327042206,94.72206660980584,94.7250661517354,94.74212686970675,94.7478366884307,94.76874712571882,94.7812945710524,94.79969996326172,94.80482500487122,94.85124590551337,94.85539332179805,94.88267252473047,94.88310547858428,94.90089718552416,94.90753546169077,94.90963370475966,94.91547428391253,94.9346451814289,94.95954523445903,94.97518512056033,94.98585015346104,95.00274203858261,95.05083011015023,95.06213195247369,95.07862888957938,95.12886566878888,95.13564021648806,95.139412884497,95.16104282732697,95.17750476371044,95.18467291116147,95.22649022886317,95.24200532141803,95.30792216202357,95.34047163926579,95.35553818086247,95.36550955833088,95.36814080125392,95.4078887428929,95.45299852007334,95.4964717618015,95.50368280662171,95.54549333521055,95.55840972056933,95.56257756259541,95.57361752173428,95.61019136330752,95.61208509205872,95.67155338709811,95.7271758318471,95.75782684126175,95.76684963360204,95.81429385415595,95.81582298164427,95.82756987698718,95.86694520685639,95.91709348389112,95.92024566855628,95.99871596366684,96.02455077139659,96.03860827787743,96.09801852884348,96.12767646965511,96.13521527369016,96.15899740985037,96.16745329278537,96.17536592420093,96.47747183611284,96.48914385775358,96.49896534617227,96.5899391762433,96.59170445408617,96.61761821710051,96.62823132674214,96.68434988145953,96.77570066487236,96.77867123743368,96.91363777729482,96.96111516979077,97.00884687084898,97.06266830675838,97.09052899863757,97.13348561531592,97.16049427624245,97.25976447966457,97.31010804801242,97.33163136751982,97.33492438371421,97.34405182459017,97.3854863158434,97.42322129695961,97.42566673472442,97.54097313055932,97.54266796557819,97.56470570775191,97.56470570775191,97.66107916509361,97.79853285346908,97.81347550659515,97.843425509587,97.92752705228655,98.01407142091206,98.02775763269422,98.2103738858547,98.22558141842882,98.2762487323934,98.2861172295829,98.2953619225589,98.35435463888072,98.44759077163506,98.49054094473783,98.75774180565011,98.80031508206814,98.8214969110262,98.86810874870879,98.92638310419339,98.9843450466445,98.9980297882126,99.01460796534771,99.10054422977511,99.20796595302369,99.25496347967974,99.32893401586591,99.41741452582131,99.51960525824278,99.54860764435719,99.61845804574187,99.62281503572348,99.83476868750786,99.86442420998735,99.87897199638114,99.98171510802005,100.00588406182447,100.08314573794195,100.18646225376811,100.47552442533649,100.53069956645358,100.54034436603844,100.58107591867942,100.59394168094678,100.94713391176401,101.31198650629295,101.57449708790956,101.8099522802817,101.90991061034212,101.9383909849162,102.21755515400609,102.30570615503444,102.30785598961411,102.44595115550253,102.45562033348361,102.53617890280603,102.53993747232778,102.67894657093036,102.72615008673462,102.75242751983423,102.82503728239834,102.84272975243235,102.92043790805556,102.9498976601374,103.00718115207073,103.02162929587146,103.03339978878033,103.0387493869363,103.16213622731486,103.20377530696891,103.21071190674085,103.38695370108873,103.43685378864281,103.44215797644321,103.66727891765248,103.70095083146086,103.72144979707207,103.7345822041324,103.75558107298544,103.75977892397168,103.77131970106724,103.81743402570044,103.86451522998388,103.95999244874014,104.09350257377969,104.12509393863193,104.13130426004734,104.1519949936106,104.21861511334681,104.24645439171442,104.26293845880325,104.3169580803275,104.41700604076468,104.426735619565,104.48964335776454,104.53762901704184,104.558534919317,104.60284874739476,104.75365813761918,104.8138892305608,104.83259490922079,104.86391707044253,104.89975200265722,104.94814855948549,105.04777003316525,105.0487750054234,105.06635790813577,105.08945514990654,105.19273273693229,105.21726208839254,105.25628090952827,105.31424750730567,105.47131146482052,105.49172003033702,105.49868707937487,105.55389543390083,105.55538681671648,105.55638105081378,105.57974072853058,105.61054170867517,105.62792252310037,105.6835090116428,105.69343014800829,105.74301381139912,105.78215978018378,105.82722572788073,105.89947390355084,106.04822916872446,106.13904932360359,106.15286308692687,106.157302869478,106.17358061693449,106.20317080308385,106.23423284300368,106.5120182949931,106.5194002171396,106.63895505705408,106.65371119624855,106.67830320838395,106.7333828771875,106.73387462287633,106.73977552306668,106.78255451808158,106.82778768220362,106.95412669854632,107.05243154854934,107.09961525464509,107.1551531191098,107.16203385693727,107.29522544196192,107.4544756546471,107.5404999418381,107.5699959796288,107.61080069077232,107.6230917121545,107.63390798772664,107.76125820878072,107.78978028663464,107.85863232222896,107.86994452004157,107.90830935221422,107.94962839462715,107.97717624734366,108.15775266892999,108.49944275165333,108.50338336346587,108.57875601202177,108.70195007238968,108.71032897579953,108.72067969517467,108.74483271182773,108.77194549511727,108.94158029220274,108.97216489675964,109.00028605354116,109.08466735827324,109.16660746656963,109.27228014166798,109.28314621635383,109.29006123833032,109.33847178495894,109.36762146940741,109.38442115623867,109.58215247812103,109.59797814770025,109.71917950792017,109.8894653534391,109.90531243795277,109.96673039512034,109.96772114365797,110.04154398094849,110.07177357493725,110.11390331937936,110.41497560482114,111.21867530697929,111.9139872665161,113.18241308776727,114.88870364588601,115.60437036209997,116.86391767834337,117.43635887073088],\"yaxis\":\"y\",\"type\":\"scattergl\"}],                        {\"template\":{\"data\":{\"pie\":[{\"automargin\":true,\"type\":\"pie\"}],\"scatter3d\":[{\"line\":{\"width\":3},\"marker\":{\"size\":9},\"type\":\"scatter3d\"}],\"scattergeo\":[{\"line\":{\"width\":3},\"marker\":{\"size\":9},\"type\":\"scattergeo\"}],\"scattergl\":[{\"line\":{\"width\":3},\"marker\":{\"size\":9},\"type\":\"scattergl\"}],\"scatterpolargl\":[{\"line\":{\"width\":3},\"marker\":{\"size\":9},\"type\":\"scatterpolargl\"}],\"scatterpolar\":[{\"line\":{\"width\":3},\"marker\":{\"size\":9},\"type\":\"scatterpolar\"}],\"scatter\":[{\"line\":{\"width\":3},\"marker\":{\"size\":9},\"type\":\"scatter\"}],\"scatterternary\":[{\"line\":{\"width\":3},\"marker\":{\"size\":9},\"type\":\"scatterternary\"}],\"table\":[{\"cells\":{\"height\":30},\"header\":{\"height\":36},\"type\":\"table\"}]},\"layout\":{\"font\":{\"size\":18},\"xaxis\":{\"title\":{\"standoff\":15}},\"yaxis\":{\"title\":{\"standoff\":15}}}},\"xaxis\":{\"anchor\":\"y\",\"domain\":[0.0,1.0],\"title\":{\"text\":\"claim\"}},\"yaxis\":{\"anchor\":\"x\",\"domain\":[0.0,1.0],\"title\":{\"text\":\"bloodpressure\"}},\"legend\":{\"tracegroupgap\":0},\"title\":{\"text\":\"Claim by Bloodpressure\"},\"width\":700},                        {\"responsive\": true}                    ).then(function(){\n",
              "                            \n",
              "var gd = document.getElementById('c983b4da-9fbb-46d3-b088-e898a49a1993');\n",
              "var x = new MutationObserver(function (mutations, observer) {{\n",
              "        var display = window.getComputedStyle(gd).display;\n",
              "        if (!display || display === 'none') {{\n",
              "            console.log([gd, 'removed!']);\n",
              "            Plotly.purge(gd);\n",
              "            observer.disconnect();\n",
              "        }}\n",
              "}});\n",
              "\n",
              "// Listen for the removal of the full notebook cells\n",
              "var notebookContainer = gd.closest('#notebook-container');\n",
              "if (notebookContainer) {{\n",
              "    x.observe(notebookContainer, {childList: true});\n",
              "}}\n",
              "\n",
              "// Listen for the clearing of the current output cell\n",
              "var outputEl = gd.closest('.output');\n",
              "if (outputEl) {{\n",
              "    x.observe(outputEl, {childList: true});\n",
              "}}\n",
              "\n",
              "                        })                };                            </script>        </div>\n",
              "</body>\n",
              "</html>"
            ]
          },
          "metadata": {}
        }
      ]
    },
    {
      "cell_type": "markdown",
      "source": [
        "* **As per trendline with high bloodpressure claim amount will increase**\n"
      ],
      "metadata": {
        "id": "2Li352u-M577"
      }
    },
    {
      "cell_type": "code",
      "source": [
        "px.funnel(df.groupby('children').count(), 'PatientID', title='Number of Person by number of Child', template='presentation', width=700)"
      ],
      "metadata": {
        "colab": {
          "base_uri": "https://localhost:8080/",
          "height": 542
        },
        "id": "zk2KUodQPKim",
        "outputId": "5d79c044-167d-4ec3-afcf-5404336f6d44"
      },
      "execution_count": 24,
      "outputs": [
        {
          "output_type": "display_data",
          "data": {
            "text/html": [
              "<html>\n",
              "<head><meta charset=\"utf-8\" /></head>\n",
              "<body>\n",
              "    <div>            <script src=\"https://cdnjs.cloudflare.com/ajax/libs/mathjax/2.7.5/MathJax.js?config=TeX-AMS-MML_SVG\"></script><script type=\"text/javascript\">if (window.MathJax && window.MathJax.Hub && window.MathJax.Hub.Config) {window.MathJax.Hub.Config({SVG: {font: \"STIX-Web\"}});}</script>                <script type=\"text/javascript\">window.PlotlyConfig = {MathJaxConfig: 'local'};</script>\n",
              "        <script src=\"https://cdn.plot.ly/plotly-2.18.2.min.js\"></script>                <div id=\"b0b8e7bc-8ae5-460c-8e31-2c6771a7efdb\" class=\"plotly-graph-div\" style=\"height:525px; width:700px;\"></div>            <script type=\"text/javascript\">                                    window.PLOTLYENV=window.PLOTLYENV || {};                                    if (document.getElementById(\"b0b8e7bc-8ae5-460c-8e31-2c6771a7efdb\")) {                    Plotly.newPlot(                        \"b0b8e7bc-8ae5-460c-8e31-2c6771a7efdb\",                        [{\"hovertemplate\":\"PatientID=%{x}<br>children=%{y}<extra></extra>\",\"legendgroup\":\"\",\"marker\":{\"color\":\"#1F77B4\"},\"name\":\"\",\"orientation\":\"h\",\"showlegend\":false,\"x\":[573,324,240,157,25,18],\"xaxis\":\"x\",\"y\":[0,1,2,3,4,5],\"yaxis\":\"y\",\"type\":\"funnel\"}],                        {\"template\":{\"data\":{\"pie\":[{\"automargin\":true,\"type\":\"pie\"}],\"scatter3d\":[{\"line\":{\"width\":3},\"marker\":{\"size\":9},\"type\":\"scatter3d\"}],\"scattergeo\":[{\"line\":{\"width\":3},\"marker\":{\"size\":9},\"type\":\"scattergeo\"}],\"scattergl\":[{\"line\":{\"width\":3},\"marker\":{\"size\":9},\"type\":\"scattergl\"}],\"scatterpolargl\":[{\"line\":{\"width\":3},\"marker\":{\"size\":9},\"type\":\"scatterpolargl\"}],\"scatterpolar\":[{\"line\":{\"width\":3},\"marker\":{\"size\":9},\"type\":\"scatterpolar\"}],\"scatter\":[{\"line\":{\"width\":3},\"marker\":{\"size\":9},\"type\":\"scatter\"}],\"scatterternary\":[{\"line\":{\"width\":3},\"marker\":{\"size\":9},\"type\":\"scatterternary\"}],\"table\":[{\"cells\":{\"height\":30},\"header\":{\"height\":36},\"type\":\"table\"}]},\"layout\":{\"font\":{\"size\":18},\"xaxis\":{\"title\":{\"standoff\":15}},\"yaxis\":{\"title\":{\"standoff\":15}}}},\"xaxis\":{\"anchor\":\"y\",\"domain\":[0.0,1.0],\"title\":{\"text\":\"PatientID\"}},\"yaxis\":{\"anchor\":\"x\",\"domain\":[0.0,1.0],\"title\":{\"text\":\"children\"}},\"legend\":{\"tracegroupgap\":0},\"title\":{\"text\":\"Number of Person by number of Child\"},\"width\":700},                        {\"responsive\": true}                    ).then(function(){\n",
              "                            \n",
              "var gd = document.getElementById('b0b8e7bc-8ae5-460c-8e31-2c6771a7efdb');\n",
              "var x = new MutationObserver(function (mutations, observer) {{\n",
              "        var display = window.getComputedStyle(gd).display;\n",
              "        if (!display || display === 'none') {{\n",
              "            console.log([gd, 'removed!']);\n",
              "            Plotly.purge(gd);\n",
              "            observer.disconnect();\n",
              "        }}\n",
              "}});\n",
              "\n",
              "// Listen for the removal of the full notebook cells\n",
              "var notebookContainer = gd.closest('#notebook-container');\n",
              "if (notebookContainer) {{\n",
              "    x.observe(notebookContainer, {childList: true});\n",
              "}}\n",
              "\n",
              "// Listen for the clearing of the current output cell\n",
              "var outputEl = gd.closest('.output');\n",
              "if (outputEl) {{\n",
              "    x.observe(outputEl, {childList: true});\n",
              "}}\n",
              "\n",
              "                        })                };                            </script>        </div>\n",
              "</body>\n",
              "</html>"
            ]
          },
          "metadata": {}
        }
      ]
    },
    {
      "cell_type": "markdown",
      "source": [
        "* **Paitent's With 0 Child Claimed More Insurance As Compared to Other Patient's**"
      ],
      "metadata": {
        "id": "BIs-2I9aQ0r8"
      }
    },
    {
      "cell_type": "code",
      "source": [
        "px.scatter(df, 'age', 'claim', 'smoker', title= 'Impact of Smoking on claim', template=\"presentation\", width=700)"
      ],
      "metadata": {
        "colab": {
          "base_uri": "https://localhost:8080/",
          "height": 542
        },
        "id": "M0TE3IuPaS28",
        "outputId": "d6f76ba5-ecdb-41ff-bdd4-110cb22e6bca"
      },
      "execution_count": 25,
      "outputs": [
        {
          "output_type": "display_data",
          "data": {
            "text/html": [
              "<html>\n",
              "<head><meta charset=\"utf-8\" /></head>\n",
              "<body>\n",
              "    <div>            <script src=\"https://cdnjs.cloudflare.com/ajax/libs/mathjax/2.7.5/MathJax.js?config=TeX-AMS-MML_SVG\"></script><script type=\"text/javascript\">if (window.MathJax && window.MathJax.Hub && window.MathJax.Hub.Config) {window.MathJax.Hub.Config({SVG: {font: \"STIX-Web\"}});}</script>                <script type=\"text/javascript\">window.PlotlyConfig = {MathJaxConfig: 'local'};</script>\n",
              "        <script src=\"https://cdn.plot.ly/plotly-2.18.2.min.js\"></script>                <div id=\"4d7cbf1e-2fcd-448d-ba02-3c15385b67cf\" class=\"plotly-graph-div\" style=\"height:525px; width:700px;\"></div>            <script type=\"text/javascript\">                                    window.PLOTLYENV=window.PLOTLYENV || {};                                    if (document.getElementById(\"4d7cbf1e-2fcd-448d-ba02-3c15385b67cf\")) {                    Plotly.newPlot(                        \"4d7cbf1e-2fcd-448d-ba02-3c15385b67cf\",                        [{\"hovertemplate\":\"smoker=No<br>age=%{x}<br>claim=%{y}<extra></extra>\",\"legendgroup\":\"No\",\"marker\":{\"color\":\"#1F77B4\",\"symbol\":\"circle\"},\"mode\":\"markers\",\"name\":\"No\",\"showlegend\":true,\"x\":[39,24,34,34,34,34,34,19,20,30,36,37,19,35,41,49,48,45,34,18,42,50,23,36,30,58,35,29,49,21,52,43,47,48,34,28,49,29,18,32,44,37,29,24,31,34,30,45,31,30,34,21,21,23,32,50,47,49,32,51,60,32,51,27,39,26,32,28,48,22,20,50,30,38,50,42,53,26,43,42,43,36,19,19,37,40,23,19,20,41,26,48,54,44,44,47,50,30,33,59,42,52,43,42,33,26,41,27,37,43,30,47,26,49,59,58,32,37,48,52,55,33,53,26,49,31,42,30,45,49,47,47,29,40,21,32,26,47,46,44,41,37,29,47,35,48,22,41,26,18,28,33,49,33,43,57,30,42,21,47,28,52,30,51,58,26,41,46,23,34,29,58,59,30,49,60,49,45,54,27,37,48,49,25,20,35,37,28,28,55,54,57,33,30,49,25,38,60,59,52,35,35,48,27,48,45,33,59,36,46,35,43,28,26,23,48,49,41,28,53,28,40,60,35,34,40,42,22,35,49,30,21,58,59,48,32,31,47,23,36,48,18,23,20,31,35,49,45,30,52,44,31,25,34,33,32,18,28,42,36,46,46,38,53,35,48,49,46,48,44,43,24,37,23,26,49,47,25,59,48,34,25,27,30,35,37,35,49,25,21,37,57,32,25,40,30,31,37,26,41,46,32,34,44,46,41,32,43,37,21,45,36,44,35,51,47,26,50,43,55,26,60,31,18,47,26,22,32,43,46,56,45,42,48,29,44,19,50,46,33,56,38,33,55,43,46,47,60,31,28,39,48,38,40,31,25,46,29,27,40,25,35,35,24,19,39,31,55,33,34,32,38,46,57,57,23,20,19,44,52,32,41,49,25,31,32,54,44,40,58,32,29,30,41,27,29,27,57,43,55,47,23,20,43,31,57,54,25,26,38,43,20,22,23,41,28,37,58,51,27,46,25,46,40,35,34,38,33,38,26,36,42,38,28,29,46,55,42,39,32,32,27,33,25,45,24,43,20,48,56,58,24,40,28,50,34,21,31,42,18,51,20,28,24,59,38,53,42,29,31,48,55,46,45,31,38,35,48,20,29,48,55,37,48,37,54,48,54,40,27,37,32,46,29,45,31,60,39,40,19,40,55,34,56,26,33,50,55,19,46,49,40,27,48,18,19,24,21,54,34,43,29,55,20,39,48,46,37,25,56,32,60,37,55,26,49,51,55,46,19,31,26,28,31,46,33,31,28,37,34,56,34,55,52,45,46,54,50,48,26,36,18,56,29,50,58,49,51,60,54,42,53,42,44,25,22,25,18,40,27,44,29,29,26,54,33,37,38,31,41,41,33,27,38,20,40,34,48,44,30,39,34,45,46,50,59,44,27,29,28,36,26,54,36,60,36,46,43,39,36,28,42,26,23,43,56,30,26,21,18,29,29,43,33,46,31,22,34,35,54,43,43,38,45,23,32,37,50,22,55,48,43,34,46,56,34,19,50,43,57,23,43,44,23,33,39,45,37,34,20,31,58,49,40,41,39,37,43,27,27,34,56,57,40,50,60,48,26,42,44,59,32,26,49,53,25,41,46,36,26,19,34,39,28,27,30,27,49,24,24,45,42,42,40,27,34,27,52,44,36,18,29,36,30,32,45,31,19,29,53,29,25,51,23,30,27,37,27,19,35,42,56,40,55,34,25,40,29,49,40,38,59,47,26,30,57,34,43,42,28,38,31,26,51,39,37,48,39,30,60,24,45,50,49,53,57,38,36,60,48,46,47,25,26,47,31,49,43,51,47,37,48,47,38,33,47,30,32,43,42,20,36,37,59,51,44,40,33,59,45,35,57,29,26,35,18,42,43,40,31,50,29,37,54,34,29,25,50,37,43,25,45,33,26,50,52,39,38,23,41,44,36,48,45,24,42,47,31,42,30,27,50,23,35,23,34,33,37,44,26,27,60,50,59,46,44,40,33,43,36,39,25,28,33,27,35,36,28,36,55,57,57,28,31,59,28,54,18,34,31,39,49,36,40,45,33,40,19,43,35,25,58,46,35,31,25,23,55,20,22,19,49,43,43,56,48,38,27,28,45,45,42,51,31,53,26,32,40,47,28,41,59,55,30,24,43,34,35,57,57,20,33,31,43,32,50,41,42,24,30,47,56,28,51,38,38,40,44,41,45,45,37,31,41,56,47,57,50,53,35,36,21,27,24,24,55,21,36,34,53,55,44,44,45,35,60,51,59,33,35,39,46,30,26,41,36,27,33,34,21,47,30,42,20,47,44,19,19,43,42,44,45,50,39,34,40,45,32,57,22,23,59,36,60,51,45,53,46,36,58,35,29,19,47,32,29,55,52,38,43,28,30,30,36,22,37,22,33,36,27,27,57,52,27,19,32,36,45,18,29,32,55,50],\"xaxis\":\"x\",\"y\":[1121,1131,1135,1136,1137,1137,1141,1146,1149,1163,1241,1242,1242,1261,1261,1263,1391,1515,1526,1532,1534,1607,1149,1615,1621,1621,1622,1625,1627,1628,1629,1631,1631,1632,1632,1633,1633,1634,1635,1639,1639,1646,1665,1674,1682,1694,1702,1704,1704,1705,1708,1708,1711,1712,1719,1720,1725,1727,1727,1728,1731,1737,1743,1744,1748,1759,1769,1815,1824,1826,1832,1837,1837,1842,1875,1877,1880,1880,1906,1909,1917,1964,1967,1969,1972,1977,1980,1981,1984,1986,2007,2020,2020,2026,2045,2055,2102,2103,2104,2117,2128,2130,2134,2136,2137,2138,2150,2154,2155,2156,2166,2196,2198,2200,2201,2203,2203,2205,2207,2211,2217,2217,2219,2221,2250,2254,2257,2261,2302,2304,2322,2331,2352,2362,2395,2396,2404,2416,2438,2457,2457,2459,2464,2473,2480,2483,2494,2497,2498,2523,2527,2534,2566,2585,2585,2597,2632,2639,2643,2680,2689,2690,2699,2709,2709,2710,2719,2721,2727,2730,2731,2741,2755,2775,2789,2801,2803,2842,2850,2855,2866,2867,2897,2899,2902,2904,2913,2927,2974,3021,3044,3046,3056,3062,3070,1704,3077,3161,3167,3171,3172,3176,3176,3180,3201,3206,3208,3213,3227,3238,3260,3268,3277,3279,3292,3309,3353,3353,3366,3378,3385,3392,3392,3393,3410,3443,3471,3481,3484,3490,3500,3537,3554,3556,3558,3561,3578,3579,3591,3594,3597,3645,3659,3693,3704,3732,3736,3756,3757,3761,3766,3847,3857,3861,3866,3875,3877,3906,3925,3935,3943,3947,3956,3972,3981,3987,3989,3994,4005,4032,4040,4058,4058,4074,4076,4133,4134,4137,4149,4151,4185,4189,4234,4237,4239,4243,4260,4266,4296,4320,4337,4340,4347,4349,4350,4357,4391,4399,4402,4415,4428,4433,4433,4435,4438,4441,4449,4454,4462,4463,4466,4500,4504,4518,4527,4529,4536,4544,4561,4562,4564,4571,4618,4646,4661,4667,4670,4673,4686,4687,4718,4719,4719,4738,4746,4747,4751,4753,4762,4766,4779,4795,4827,4830,4837,4846,4877,4883,4889,4890,4894,4906,4915,4922,4931,4934,4949,4992,5002,5003,5012,5028,5031,5080,5116,5124,5125,5138,5148,5152,5209,5227,5240,5245,5246,5253,5257,5261,5266,5267,5272,5312,5325,5327,5354,5373,5375,5377,5383,5385,5397,5400,5415,5425,5428,5438,5458,5469,5472,5478,5484,5488,5584,5594,5615,5630,5649,5662,5693,5699,5708,5709,5729,5757,5836,5846,5855,5910,5920,5926,5934,5966,5969,5972,5974,5976,5979,5989,6059,6067,6079,6082,6112,6113,6117,6123,6128,6184,6185,6186,6196,6198,6203,6238,6250,6272,6282,6289,6311,6313,6334,6338,6356,6358,6360,6373,6389,6393,6402,6406,6414,6435,6455,6457,6474,6496,6500,6548,6551,6555,6571,6571,6593,6600,6600,6610,6640,6652,6653,6664,6666,6686,6710,6746,6748,6753,6770,6775,6781,6796,6799,6837,6849,6858,6875,6877,6933,6940,6948,6985,6986,7045,7046,7050,7050,7077,7133,7144,7147,7147,7151,7152,7153,7160,7160,7162,7173,7196,7201,7209,7222,7228,7243,7256,7261,7265,7281,7323,7325,7337,7345,7345,7348,7358,7371,7418,7419,7421,7441,7441,7443,7445,7448,7512,7518,7526,7537,7623,7624,7626,7633,7639,7640,7650,7682,7726,7727,7729,7731,7731,7740,7742,7749,7789,7804,7935,7954,7985,7986,8017,8023,8026,8027,8059,8062,8068,8083,8116,8116,8124,8125,8162,8211,8219,8232,8233,8240,8252,8269,8277,8280,8283,8302,8310,8334,8334,8342,8347,8410,8413,8428,8442,8444,8457,8515,8516,8520,8522,8527,8534,8538,8539,8547,8551,8556,8569,8582,8596,8601,8603,8604,8605,8606,8615,8627,8671,8688,8703,8733,8765,8782,8798,8823,8823,8825,8827,8835,8871,8891,8930,8932,8944,8964,8965,8968,8978,8988,9048,9058,9095,9101,9140,9144,9174,9182,9193,9222,9225,9249,9264,9282,9283,9288,9290,9301,9304,9361,9377,9386,9391,9411,9414,9432,9447,9447,9487,9500,9504,9541,9549,9563,9566,9583,9617,9620,9625,9630,9634,9644,9704,9715,9722,9724,9748,9778,9788,9800,9850,9855,9861,9863,9866,9869,9872,9875,9877,9880,9910,9957,9964,9991,10043,10065,10072,10085,10096,10106,10107,10115,10118,10141,10156,10197,10214,10226,10231,10264,10269,10325,10338,10355,10370,10381,10407,10422,10435,10436,10450,10461,10493,10560,10564,10577,10579,10594,10594,10600,10601,10601,10602,10702,10704,10713,10736,10791,10795,10796,10797,10806,10807,10825,10848,10923,10928,10942,10959,10959,10965,10976,10977,10982,11013,11015,11033,11070,11073,11082,11085,11090,11093,11150,11163,11165,11187,11244,11253,11264,11272,11286,11289,11299,11305,11326,11345,11353,11356,11362,11363,11365,11381,11394,11396,11411,11436,11454,11455,11482,11488,11512,11520,11534,11538,11552,11554,11566,11576,11657,11658,11658,11674,11729,11735,11737,11741,11743,11743,11763,11830,11833,11837,11840,11842,11842,11848,11856,11879,11881,11881,11884,11931,11938,11944,11945,11946,11987,12029,12032,12044,12094,12096,12105,12124,12129,12142,12146,12222,12224,12231,12233,12235,12244,12265,12268,12269,12323,12333,12347,12363,12404,12430,12475,12479,12485,12495,12523,12557,12574,12592,12609,12622,12629,12629,12638,12643,12644,12646,12648,12731,12741,12797,12815,12890,12913,12925,12928,12949,12950,12957,12979,12981,12982,13012,13019,13041,13047,13063,13112,13126,13129,13143,13143,13204,13217,13224,13224,13228,13352,13390,13393,13405,13415,13429,13430,13451,13457,13462,13470,13470,13555,13607,13616,13635,13725,13770,13822,13831,13844,13880,13887,13887,13919,13937,13974,13981,14001,14001,14007,14043,14119,14133,14210,14235,14254,14256,14313,14319,14349,14358,14382,14394,14394,14410,14418,14426,14449,14451,14474,14478,14590,14692,14901,14988,15019,15161,15170,15230,15555,15612,15828,16069,16085,16455,16586,16796,17128,17626,17878,17929,18157,18218,18804,18806,18838,18903,18955,18963,19144,19214,19442,19496,19673,19749,20177,20277,20420,20463,20630,20709,20781,20878,21232,21344,21595,21797,21984,22192,22395,22493,23045,23082,23241,23288,23563,24059,24227,24476,24513,24603,24671,24915,25081,25333,25517,25656,25992,26018,26140,26236,26392,26467,27000,27117,27322,27346,27375,27724,27941,28287,28340,28468,28476,28923,29186,30063,30166,30260,30284,31620,32108,33471,35160,36580,36910],\"yaxis\":\"y\",\"type\":\"scattergl\"},{\"hovertemplate\":\"smoker=Yes<br>age=%{x}<br>claim=%{y}<extra></extra>\",\"legendgroup\":\"Yes\",\"marker\":{\"color\":\"#FF7F0E\",\"symbol\":\"circle\"},\"mode\":\"markers\",\"name\":\"Yes\",\"showlegend\":true,\"x\":[38,33,52,48,52,40,26,39,37,46,27,30,29,30,34,33,45,50,42,56,50,60,22,25,32,45,44,47,19,32,45,23,19,58,22,36,29,52,44,22,23,36,45,38,58,21,19,60,27,50,43,49,35,25,21,40,34,53,38,28,23,43,40,19,28,44,46,39,49,30,37,43,38,44,33,54,22,59,26,38,34,58,48,40,36,60,40,32,49,27,43,42,26,44,47,59,28,46,58,48,39,43,27,23,32,20,19,26,56,32,57,31,46,20,49,53,23,38,30,44,47,55,39,30,46,25,37,33,29,47,46,48,59,36,30,22,30,40,45,32,26,32,20,46,22,23,25,22,56,30,40,22,34,28,37,35,32,31,20,60,46,48,32,41,58,31,40,20,47,19,48,46,42,29,34,32,27,29,22,28,25,26,29,20,42,21,37,22,46,40,27,43,38,47,50,40,30,50,21,54,43,43,42,45,27,35,31,51,27,37,20,46,35,37,39,39,42,28,25,49,55,32,22,52,47,36,45,28,36,50,26,45,30,50,29,60,35,43,42,57,43,47,20,47,26,38,56,29,22,23,41,49,27,40,19,26,33,49,39,52,26,49,45,52,25,18,26,44,43,44,59,30,37,30],\"xaxis\":\"x\",\"y\":[12829,13747,13844,14283,14455,14571,14711,15006,15359,15518,15817,15820,16115,16138,16232,16297,16420,16450,16577,16657,16776,16884,17043,17081,17085,17178,17179,17352,17361,17468,17496,17560,17663,17748,17904,17942,18033,18223,18246,18259,18310,18328,18608,18648,18765,18767,18972,19023,19040,19107,19199,19350,19362,19444,19515,19521,19539,19594,19719,19798,19933,19964,20009,20149,20167,20234,20296,20745,20773,20984,21082,21098,21195,21223,21259,21348,21472,21659,21677,21771,21774,21880,21978,22144,22218,22331,22412,22462,22478,23065,23244,23306,23401,23568,23807,23887,23967,24106,24180,24393,24520,24535,24667,24869,24873,24915,25309,25382,25678,26109,26125,26926,27037,27218,27533,27808,28101,28868,28950,29141,29330,29523,30184,30942,32548,32734,32787,33307,33475,33732,33750,33900,33907,34166,34254,34303,34439,34472,34617,34672,34779,34806,34828,34838,35069,35147,35491,35585,35595,36021,36085,36124,36149,36189,36197,36219,36307,36397,36837,36898,36950,37079,37133,37165,37270,37465,37484,37607,37701,37742,37829,38126,38245,38282,38344,38415,38511,38709,38711,38746,38792,38998,39047,39125,39241,39556,39597,39611,39722,39725,39727,39774,39836,39871,39983,40003,40103,40182,40273,40419,40720,40904,40932,40941,40974,41034,41097,41661,41676,41919,41949,41999,42111,42112,42124,42211,42303,42560,42760,42856,42969,42983,43254,43578,43753,43813,43896,43921,43943,44202,44260,44400,44423,44501,44585,44641,45008,45702,45710,45863,46113,46130,46151,46200,46255,46599,46661,46718,46889,47055,47269,47291,47305,47403,47462,47496,47896,47928,48173,48517,48549,48673,48675,48824,48885,48970,49577,51194,52590,55135,58571,60021,62592,63770],\"yaxis\":\"y\",\"type\":\"scattergl\"}],                        {\"template\":{\"data\":{\"pie\":[{\"automargin\":true,\"type\":\"pie\"}],\"scatter3d\":[{\"line\":{\"width\":3},\"marker\":{\"size\":9},\"type\":\"scatter3d\"}],\"scattergeo\":[{\"line\":{\"width\":3},\"marker\":{\"size\":9},\"type\":\"scattergeo\"}],\"scattergl\":[{\"line\":{\"width\":3},\"marker\":{\"size\":9},\"type\":\"scattergl\"}],\"scatterpolargl\":[{\"line\":{\"width\":3},\"marker\":{\"size\":9},\"type\":\"scatterpolargl\"}],\"scatterpolar\":[{\"line\":{\"width\":3},\"marker\":{\"size\":9},\"type\":\"scatterpolar\"}],\"scatter\":[{\"line\":{\"width\":3},\"marker\":{\"size\":9},\"type\":\"scatter\"}],\"scatterternary\":[{\"line\":{\"width\":3},\"marker\":{\"size\":9},\"type\":\"scatterternary\"}],\"table\":[{\"cells\":{\"height\":30},\"header\":{\"height\":36},\"type\":\"table\"}]},\"layout\":{\"font\":{\"size\":18},\"xaxis\":{\"title\":{\"standoff\":15}},\"yaxis\":{\"title\":{\"standoff\":15}}}},\"xaxis\":{\"anchor\":\"y\",\"domain\":[0.0,1.0],\"title\":{\"text\":\"age\"}},\"yaxis\":{\"anchor\":\"x\",\"domain\":[0.0,1.0],\"title\":{\"text\":\"claim\"}},\"legend\":{\"title\":{\"text\":\"smoker\"},\"tracegroupgap\":0},\"title\":{\"text\":\"Impact of Smoking on claim\"},\"width\":700},                        {\"responsive\": true}                    ).then(function(){\n",
              "                            \n",
              "var gd = document.getElementById('4d7cbf1e-2fcd-448d-ba02-3c15385b67cf');\n",
              "var x = new MutationObserver(function (mutations, observer) {{\n",
              "        var display = window.getComputedStyle(gd).display;\n",
              "        if (!display || display === 'none') {{\n",
              "            console.log([gd, 'removed!']);\n",
              "            Plotly.purge(gd);\n",
              "            observer.disconnect();\n",
              "        }}\n",
              "}});\n",
              "\n",
              "// Listen for the removal of the full notebook cells\n",
              "var notebookContainer = gd.closest('#notebook-container');\n",
              "if (notebookContainer) {{\n",
              "    x.observe(notebookContainer, {childList: true});\n",
              "}}\n",
              "\n",
              "// Listen for the clearing of the current output cell\n",
              "var outputEl = gd.closest('.output');\n",
              "if (outputEl) {{\n",
              "    x.observe(outputEl, {childList: true});\n",
              "}}\n",
              "\n",
              "                        })                };                            </script>        </div>\n",
              "</body>\n",
              "</html>"
            ]
          },
          "metadata": {}
        }
      ]
    },
    {
      "cell_type": "markdown",
      "source": [
        "* **Claim Amount is high for person with smoking habit.**"
      ],
      "metadata": {
        "id": "dYBMDwb7a86T"
      }
    },
    {
      "cell_type": "code",
      "source": [
        "px.pie(df, 'smoker', labels='smoker', title = 'Smoker', template='presentation', hole=.5, width=500).update_traces(textinfo='percent+label')"
      ],
      "metadata": {
        "colab": {
          "base_uri": "https://localhost:8080/",
          "height": 542
        },
        "id": "4maNS6wkRugI",
        "outputId": "9ce45082-1825-475b-9270-6b9258af18d2"
      },
      "execution_count": 26,
      "outputs": [
        {
          "output_type": "display_data",
          "data": {
            "text/html": [
              "<html>\n",
              "<head><meta charset=\"utf-8\" /></head>\n",
              "<body>\n",
              "    <div>            <script src=\"https://cdnjs.cloudflare.com/ajax/libs/mathjax/2.7.5/MathJax.js?config=TeX-AMS-MML_SVG\"></script><script type=\"text/javascript\">if (window.MathJax && window.MathJax.Hub && window.MathJax.Hub.Config) {window.MathJax.Hub.Config({SVG: {font: \"STIX-Web\"}});}</script>                <script type=\"text/javascript\">window.PlotlyConfig = {MathJaxConfig: 'local'};</script>\n",
              "        <script src=\"https://cdn.plot.ly/plotly-2.18.2.min.js\"></script>                <div id=\"e399d610-356f-4324-ba6f-81ef073a8f92\" class=\"plotly-graph-div\" style=\"height:525px; width:500px;\"></div>            <script type=\"text/javascript\">                                    window.PLOTLYENV=window.PLOTLYENV || {};                                    if (document.getElementById(\"e399d610-356f-4324-ba6f-81ef073a8f92\")) {                    Plotly.newPlot(                        \"e399d610-356f-4324-ba6f-81ef073a8f92\",                        [{\"domain\":{\"x\":[0.0,1.0],\"y\":[0.0,1.0]},\"hole\":0.5,\"hovertemplate\":\"smoker=%{label}<extra></extra>\",\"labels\":[\"No\",\"No\",\"No\",\"No\",\"No\",\"No\",\"No\",\"No\",\"No\",\"No\",\"No\",\"No\",\"No\",\"No\",\"No\",\"No\",\"No\",\"No\",\"No\",\"No\",\"No\",\"No\",\"No\",\"No\",\"No\",\"No\",\"No\",\"No\",\"No\",\"No\",\"No\",\"No\",\"No\",\"No\",\"No\",\"No\",\"No\",\"No\",\"No\",\"No\",\"No\",\"No\",\"No\",\"No\",\"No\",\"No\",\"No\",\"No\",\"No\",\"No\",\"No\",\"No\",\"No\",\"No\",\"No\",\"No\",\"No\",\"No\",\"No\",\"No\",\"No\",\"No\",\"No\",\"No\",\"No\",\"No\",\"No\",\"No\",\"No\",\"No\",\"No\",\"No\",\"No\",\"No\",\"No\",\"No\",\"No\",\"No\",\"No\",\"No\",\"No\",\"No\",\"No\",\"No\",\"No\",\"No\",\"No\",\"No\",\"No\",\"No\",\"No\",\"No\",\"No\",\"No\",\"No\",\"No\",\"No\",\"No\",\"No\",\"No\",\"No\",\"No\",\"No\",\"No\",\"No\",\"No\",\"No\",\"No\",\"No\",\"No\",\"No\",\"No\",\"No\",\"No\",\"No\",\"No\",\"No\",\"No\",\"No\",\"No\",\"No\",\"No\",\"No\",\"No\",\"No\",\"No\",\"No\",\"No\",\"No\",\"No\",\"No\",\"No\",\"No\",\"No\",\"No\",\"No\",\"No\",\"No\",\"No\",\"No\",\"No\",\"No\",\"No\",\"No\",\"No\",\"No\",\"No\",\"No\",\"No\",\"No\",\"No\",\"No\",\"No\",\"No\",\"No\",\"No\",\"No\",\"No\",\"No\",\"No\",\"No\",\"No\",\"No\",\"No\",\"No\",\"No\",\"No\",\"No\",\"No\",\"No\",\"No\",\"No\",\"No\",\"No\",\"No\",\"No\",\"No\",\"No\",\"No\",\"No\",\"No\",\"No\",\"No\",\"No\",\"No\",\"No\",\"No\",\"No\",\"No\",\"No\",\"No\",\"No\",\"No\",\"No\",\"No\",\"No\",\"No\",\"No\",\"No\",\"No\",\"No\",\"No\",\"No\",\"No\",\"No\",\"No\",\"No\",\"No\",\"No\",\"No\",\"No\",\"No\",\"No\",\"No\",\"No\",\"No\",\"No\",\"No\",\"No\",\"No\",\"No\",\"No\",\"No\",\"No\",\"No\",\"No\",\"No\",\"No\",\"No\",\"No\",\"No\",\"No\",\"No\",\"No\",\"No\",\"No\",\"No\",\"No\",\"No\",\"No\",\"No\",\"No\",\"No\",\"No\",\"No\",\"No\",\"No\",\"No\",\"No\",\"No\",\"No\",\"No\",\"No\",\"No\",\"No\",\"No\",\"No\",\"No\",\"No\",\"No\",\"No\",\"No\",\"No\",\"No\",\"No\",\"No\",\"No\",\"No\",\"No\",\"No\",\"No\",\"No\",\"No\",\"No\",\"No\",\"No\",\"No\",\"No\",\"No\",\"No\",\"No\",\"No\",\"No\",\"No\",\"No\",\"No\",\"No\",\"No\",\"No\",\"No\",\"No\",\"No\",\"No\",\"No\",\"No\",\"No\",\"No\",\"No\",\"No\",\"No\",\"No\",\"No\",\"No\",\"No\",\"No\",\"No\",\"No\",\"No\",\"No\",\"No\",\"No\",\"No\",\"No\",\"No\",\"No\",\"No\",\"No\",\"No\",\"No\",\"No\",\"No\",\"No\",\"No\",\"No\",\"No\",\"No\",\"No\",\"No\",\"No\",\"No\",\"No\",\"No\",\"No\",\"No\",\"No\",\"No\",\"No\",\"No\",\"No\",\"No\",\"No\",\"No\",\"No\",\"No\",\"No\",\"No\",\"No\",\"No\",\"No\",\"No\",\"No\",\"No\",\"No\",\"No\",\"No\",\"No\",\"No\",\"No\",\"No\",\"No\",\"No\",\"No\",\"No\",\"No\",\"No\",\"No\",\"No\",\"No\",\"No\",\"No\",\"No\",\"No\",\"No\",\"No\",\"No\",\"No\",\"No\",\"No\",\"No\",\"No\",\"No\",\"No\",\"No\",\"No\",\"No\",\"No\",\"No\",\"No\",\"No\",\"No\",\"No\",\"No\",\"No\",\"No\",\"No\",\"No\",\"No\",\"No\",\"No\",\"No\",\"No\",\"No\",\"No\",\"No\",\"No\",\"No\",\"No\",\"No\",\"No\",\"No\",\"No\",\"No\",\"No\",\"No\",\"No\",\"No\",\"No\",\"No\",\"No\",\"No\",\"No\",\"No\",\"No\",\"No\",\"No\",\"No\",\"No\",\"No\",\"No\",\"No\",\"No\",\"No\",\"No\",\"No\",\"No\",\"No\",\"No\",\"No\",\"No\",\"No\",\"No\",\"No\",\"No\",\"No\",\"No\",\"No\",\"No\",\"No\",\"No\",\"No\",\"No\",\"No\",\"No\",\"No\",\"No\",\"No\",\"No\",\"No\",\"No\",\"No\",\"No\",\"No\",\"No\",\"No\",\"No\",\"No\",\"No\",\"No\",\"No\",\"No\",\"No\",\"No\",\"No\",\"No\",\"No\",\"No\",\"No\",\"No\",\"No\",\"No\",\"No\",\"No\",\"No\",\"No\",\"No\",\"No\",\"No\",\"No\",\"No\",\"No\",\"No\",\"No\",\"No\",\"No\",\"No\",\"No\",\"No\",\"No\",\"No\",\"No\",\"No\",\"No\",\"No\",\"No\",\"No\",\"No\",\"No\",\"No\",\"No\",\"No\",\"No\",\"No\",\"No\",\"No\",\"No\",\"No\",\"No\",\"No\",\"No\",\"No\",\"No\",\"No\",\"No\",\"No\",\"No\",\"No\",\"No\",\"No\",\"No\",\"No\",\"No\",\"No\",\"No\",\"No\",\"No\",\"No\",\"No\",\"No\",\"No\",\"No\",\"No\",\"No\",\"No\",\"No\",\"No\",\"No\",\"No\",\"No\",\"No\",\"No\",\"No\",\"No\",\"No\",\"No\",\"No\",\"No\",\"No\",\"No\",\"No\",\"No\",\"No\",\"No\",\"No\",\"No\",\"No\",\"No\",\"No\",\"No\",\"No\",\"No\",\"No\",\"No\",\"No\",\"No\",\"No\",\"No\",\"No\",\"No\",\"No\",\"No\",\"No\",\"No\",\"No\",\"No\",\"No\",\"No\",\"No\",\"No\",\"No\",\"No\",\"No\",\"No\",\"No\",\"No\",\"No\",\"No\",\"No\",\"No\",\"No\",\"No\",\"No\",\"No\",\"No\",\"No\",\"No\",\"No\",\"No\",\"No\",\"No\",\"No\",\"No\",\"No\",\"No\",\"No\",\"No\",\"No\",\"No\",\"No\",\"No\",\"No\",\"No\",\"No\",\"No\",\"No\",\"No\",\"No\",\"No\",\"No\",\"No\",\"No\",\"No\",\"No\",\"No\",\"No\",\"No\",\"No\",\"No\",\"No\",\"No\",\"No\",\"No\",\"No\",\"No\",\"No\",\"No\",\"No\",\"No\",\"No\",\"No\",\"No\",\"No\",\"No\",\"No\",\"No\",\"No\",\"No\",\"No\",\"No\",\"No\",\"No\",\"No\",\"No\",\"No\",\"No\",\"No\",\"No\",\"No\",\"No\",\"No\",\"No\",\"No\",\"No\",\"No\",\"No\",\"No\",\"No\",\"No\",\"No\",\"No\",\"No\",\"No\",\"No\",\"No\",\"No\",\"No\",\"No\",\"No\",\"No\",\"No\",\"No\",\"No\",\"No\",\"No\",\"No\",\"No\",\"No\",\"No\",\"No\",\"No\",\"No\",\"No\",\"No\",\"No\",\"No\",\"No\",\"No\",\"No\",\"No\",\"No\",\"No\",\"No\",\"No\",\"No\",\"No\",\"No\",\"No\",\"No\",\"No\",\"No\",\"No\",\"No\",\"No\",\"No\",\"No\",\"No\",\"No\",\"No\",\"No\",\"No\",\"No\",\"No\",\"No\",\"No\",\"No\",\"No\",\"No\",\"No\",\"No\",\"No\",\"No\",\"No\",\"No\",\"No\",\"No\",\"No\",\"No\",\"No\",\"No\",\"No\",\"No\",\"No\",\"No\",\"No\",\"No\",\"No\",\"No\",\"No\",\"No\",\"No\",\"No\",\"No\",\"No\",\"No\",\"No\",\"No\",\"No\",\"No\",\"No\",\"No\",\"No\",\"No\",\"No\",\"No\",\"No\",\"No\",\"No\",\"No\",\"No\",\"No\",\"No\",\"No\",\"No\",\"No\",\"No\",\"No\",\"No\",\"No\",\"No\",\"No\",\"No\",\"No\",\"No\",\"No\",\"No\",\"No\",\"No\",\"No\",\"No\",\"No\",\"No\",\"No\",\"No\",\"No\",\"No\",\"No\",\"No\",\"No\",\"No\",\"No\",\"No\",\"No\",\"No\",\"No\",\"No\",\"No\",\"No\",\"No\",\"No\",\"No\",\"No\",\"No\",\"No\",\"No\",\"No\",\"No\",\"No\",\"No\",\"No\",\"No\",\"No\",\"No\",\"No\",\"No\",\"No\",\"No\",\"No\",\"No\",\"No\",\"No\",\"No\",\"No\",\"No\",\"No\",\"No\",\"No\",\"No\",\"No\",\"No\",\"No\",\"No\",\"No\",\"No\",\"No\",\"No\",\"No\",\"No\",\"No\",\"No\",\"No\",\"No\",\"No\",\"No\",\"No\",\"No\",\"No\",\"No\",\"No\",\"No\",\"No\",\"No\",\"No\",\"No\",\"No\",\"No\",\"No\",\"No\",\"No\",\"No\",\"No\",\"No\",\"No\",\"No\",\"No\",\"No\",\"No\",\"No\",\"No\",\"No\",\"No\",\"No\",\"No\",\"Yes\",\"No\",\"No\",\"No\",\"No\",\"No\",\"No\",\"No\",\"No\",\"No\",\"No\",\"No\",\"No\",\"No\",\"No\",\"No\",\"No\",\"No\",\"No\",\"No\",\"No\",\"No\",\"No\",\"No\",\"No\",\"No\",\"No\",\"No\",\"No\",\"No\",\"No\",\"No\",\"No\",\"No\",\"No\",\"No\",\"No\",\"No\",\"No\",\"No\",\"No\",\"No\",\"No\",\"Yes\",\"No\",\"No\",\"No\",\"Yes\",\"No\",\"No\",\"No\",\"No\",\"No\",\"No\",\"No\",\"No\",\"No\",\"No\",\"No\",\"No\",\"No\",\"No\",\"No\",\"No\",\"No\",\"No\",\"Yes\",\"No\",\"No\",\"No\",\"No\",\"No\",\"No\",\"No\",\"No\",\"No\",\"No\",\"No\",\"No\",\"Yes\",\"No\",\"No\",\"Yes\",\"No\",\"No\",\"Yes\",\"No\",\"No\",\"Yes\",\"No\",\"No\",\"No\",\"No\",\"Yes\",\"Yes\",\"No\",\"No\",\"Yes\",\"Yes\",\"No\",\"No\",\"No\",\"Yes\",\"Yes\",\"Yes\",\"Yes\",\"Yes\",\"Yes\",\"No\",\"Yes\",\"No\",\"Yes\",\"Yes\",\"No\",\"Yes\",\"Yes\",\"Yes\",\"Yes\",\"No\",\"Yes\",\"Yes\",\"Yes\",\"Yes\",\"Yes\",\"Yes\",\"Yes\",\"No\",\"Yes\",\"Yes\",\"No\",\"Yes\",\"No\",\"Yes\",\"Yes\",\"No\",\"No\",\"Yes\",\"Yes\",\"Yes\",\"Yes\",\"Yes\",\"Yes\",\"Yes\",\"Yes\",\"Yes\",\"No\",\"No\",\"No\",\"No\",\"No\",\"No\",\"Yes\",\"Yes\",\"Yes\",\"Yes\",\"No\",\"Yes\",\"No\",\"Yes\",\"Yes\",\"No\",\"Yes\",\"No\",\"Yes\",\"Yes\",\"Yes\",\"Yes\",\"No\",\"Yes\",\"No\",\"Yes\",\"Yes\",\"Yes\",\"Yes\",\"Yes\",\"Yes\",\"No\",\"Yes\",\"No\",\"Yes\",\"No\",\"No\",\"No\",\"No\",\"Yes\",\"Yes\",\"No\",\"No\",\"Yes\",\"Yes\",\"Yes\",\"Yes\",\"Yes\",\"No\",\"Yes\",\"No\",\"Yes\",\"Yes\",\"No\",\"Yes\",\"Yes\",\"Yes\",\"Yes\",\"No\",\"Yes\",\"Yes\",\"No\",\"Yes\",\"No\",\"Yes\",\"Yes\",\"No\",\"Yes\",\"Yes\",\"Yes\",\"No\",\"No\",\"Yes\",\"No\",\"No\",\"Yes\",\"No\",\"Yes\",\"Yes\",\"No\",\"Yes\",\"Yes\",\"Yes\",\"Yes\",\"No\",\"Yes\",\"Yes\",\"No\",\"Yes\",\"No\",\"No\",\"Yes\",\"Yes\",\"No\",\"Yes\",\"No\",\"Yes\",\"Yes\",\"No\",\"Yes\",\"No\",\"Yes\",\"No\",\"Yes\",\"No\",\"No\",\"Yes\",\"No\",\"No\",\"Yes\",\"Yes\",\"No\",\"No\",\"No\",\"No\",\"Yes\",\"No\",\"Yes\",\"No\",\"Yes\",\"No\",\"No\",\"No\",\"Yes\",\"No\",\"Yes\",\"No\",\"Yes\",\"No\",\"No\",\"No\",\"No\",\"Yes\",\"No\",\"Yes\",\"Yes\",\"No\",\"Yes\",\"Yes\",\"No\",\"No\",\"Yes\",\"No\",\"No\",\"Yes\",\"No\",\"No\",\"Yes\",\"Yes\",\"Yes\",\"Yes\",\"No\",\"Yes\",\"Yes\",\"Yes\",\"Yes\",\"Yes\",\"Yes\",\"Yes\",\"Yes\",\"Yes\",\"Yes\",\"Yes\",\"Yes\",\"Yes\",\"Yes\",\"Yes\",\"Yes\",\"Yes\",\"Yes\",\"No\",\"Yes\",\"Yes\",\"Yes\",\"Yes\",\"Yes\",\"Yes\",\"Yes\",\"Yes\",\"Yes\",\"Yes\",\"Yes\",\"Yes\",\"No\",\"Yes\",\"Yes\",\"No\",\"Yes\",\"Yes\",\"Yes\",\"Yes\",\"Yes\",\"Yes\",\"Yes\",\"Yes\",\"Yes\",\"Yes\",\"Yes\",\"Yes\",\"Yes\",\"Yes\",\"Yes\",\"Yes\",\"Yes\",\"Yes\",\"Yes\",\"Yes\",\"Yes\",\"Yes\",\"Yes\",\"Yes\",\"Yes\",\"Yes\",\"Yes\",\"Yes\",\"Yes\",\"Yes\",\"Yes\",\"Yes\",\"Yes\",\"Yes\",\"Yes\",\"Yes\",\"Yes\",\"Yes\",\"Yes\",\"Yes\",\"Yes\",\"Yes\",\"Yes\",\"Yes\",\"Yes\",\"Yes\",\"Yes\",\"Yes\",\"Yes\",\"Yes\",\"Yes\",\"Yes\",\"Yes\",\"Yes\",\"Yes\",\"Yes\",\"Yes\",\"Yes\",\"Yes\",\"Yes\",\"Yes\",\"Yes\",\"Yes\",\"Yes\",\"Yes\",\"Yes\",\"Yes\",\"Yes\",\"Yes\",\"Yes\",\"Yes\",\"Yes\",\"Yes\",\"Yes\",\"Yes\",\"Yes\",\"Yes\",\"Yes\",\"Yes\",\"Yes\",\"Yes\",\"Yes\",\"Yes\",\"Yes\",\"Yes\",\"Yes\",\"Yes\",\"Yes\",\"Yes\",\"Yes\",\"Yes\",\"Yes\",\"Yes\",\"Yes\",\"Yes\",\"Yes\",\"Yes\",\"Yes\",\"Yes\",\"Yes\",\"Yes\",\"Yes\",\"Yes\",\"Yes\",\"Yes\",\"Yes\",\"Yes\",\"Yes\",\"Yes\",\"Yes\",\"Yes\",\"Yes\",\"Yes\",\"Yes\"],\"legendgroup\":\"\",\"name\":\"\",\"showlegend\":true,\"type\":\"pie\",\"textinfo\":\"percent+label\"}],                        {\"template\":{\"data\":{\"pie\":[{\"automargin\":true,\"type\":\"pie\"}],\"scatter3d\":[{\"line\":{\"width\":3},\"marker\":{\"size\":9},\"type\":\"scatter3d\"}],\"scattergeo\":[{\"line\":{\"width\":3},\"marker\":{\"size\":9},\"type\":\"scattergeo\"}],\"scattergl\":[{\"line\":{\"width\":3},\"marker\":{\"size\":9},\"type\":\"scattergl\"}],\"scatterpolargl\":[{\"line\":{\"width\":3},\"marker\":{\"size\":9},\"type\":\"scatterpolargl\"}],\"scatterpolar\":[{\"line\":{\"width\":3},\"marker\":{\"size\":9},\"type\":\"scatterpolar\"}],\"scatter\":[{\"line\":{\"width\":3},\"marker\":{\"size\":9},\"type\":\"scatter\"}],\"scatterternary\":[{\"line\":{\"width\":3},\"marker\":{\"size\":9},\"type\":\"scatterternary\"}],\"table\":[{\"cells\":{\"height\":30},\"header\":{\"height\":36},\"type\":\"table\"}]},\"layout\":{\"font\":{\"size\":18},\"xaxis\":{\"title\":{\"standoff\":15}},\"yaxis\":{\"title\":{\"standoff\":15}}}},\"legend\":{\"tracegroupgap\":0},\"title\":{\"text\":\"Smoker\"},\"width\":500},                        {\"responsive\": true}                    ).then(function(){\n",
              "                            \n",
              "var gd = document.getElementById('e399d610-356f-4324-ba6f-81ef073a8f92');\n",
              "var x = new MutationObserver(function (mutations, observer) {{\n",
              "        var display = window.getComputedStyle(gd).display;\n",
              "        if (!display || display === 'none') {{\n",
              "            console.log([gd, 'removed!']);\n",
              "            Plotly.purge(gd);\n",
              "            observer.disconnect();\n",
              "        }}\n",
              "}});\n",
              "\n",
              "// Listen for the removal of the full notebook cells\n",
              "var notebookContainer = gd.closest('#notebook-container');\n",
              "if (notebookContainer) {{\n",
              "    x.observe(notebookContainer, {childList: true});\n",
              "}}\n",
              "\n",
              "// Listen for the clearing of the current output cell\n",
              "var outputEl = gd.closest('.output');\n",
              "if (outputEl) {{\n",
              "    x.observe(outputEl, {childList: true});\n",
              "}}\n",
              "\n",
              "                        })                };                            </script>        </div>\n",
              "</body>\n",
              "</html>"
            ]
          },
          "metadata": {}
        }
      ]
    },
    {
      "cell_type": "markdown",
      "source": [
        "* **Almost 80% of the insurance claimed by Non smoker persons.**"
      ],
      "metadata": {
        "id": "X6hvuf1LTpNE"
      }
    },
    {
      "cell_type": "code",
      "source": [
        "px.pie(df, 'region', labels='region', title = 'Region', template='presentation', width=500).update_traces(textinfo='percent+label')"
      ],
      "metadata": {
        "colab": {
          "base_uri": "https://localhost:8080/",
          "height": 542
        },
        "id": "XTIp9UF0TorN",
        "outputId": "5539209b-7fe3-415d-9861-0f0f9d920de0"
      },
      "execution_count": 27,
      "outputs": [
        {
          "output_type": "display_data",
          "data": {
            "text/html": [
              "<html>\n",
              "<head><meta charset=\"utf-8\" /></head>\n",
              "<body>\n",
              "    <div>            <script src=\"https://cdnjs.cloudflare.com/ajax/libs/mathjax/2.7.5/MathJax.js?config=TeX-AMS-MML_SVG\"></script><script type=\"text/javascript\">if (window.MathJax && window.MathJax.Hub && window.MathJax.Hub.Config) {window.MathJax.Hub.Config({SVG: {font: \"STIX-Web\"}});}</script>                <script type=\"text/javascript\">window.PlotlyConfig = {MathJaxConfig: 'local'};</script>\n",
              "        <script src=\"https://cdn.plot.ly/plotly-2.18.2.min.js\"></script>                <div id=\"b061f7cb-16c2-460d-ad1b-75b0cbc0bed8\" class=\"plotly-graph-div\" style=\"height:525px; width:500px;\"></div>            <script type=\"text/javascript\">                                    window.PLOTLYENV=window.PLOTLYENV || {};                                    if (document.getElementById(\"b061f7cb-16c2-460d-ad1b-75b0cbc0bed8\")) {                    Plotly.newPlot(                        \"b061f7cb-16c2-460d-ad1b-75b0cbc0bed8\",                        [{\"domain\":{\"x\":[0.0,1.0],\"y\":[0.0,1.0]},\"hovertemplate\":\"region=%{label}<extra></extra>\",\"labels\":[\"southeast\",\"southeast\",\"southeast\",\"northwest\",\"northwest\",\"northwest\",\"northwest\",\"northwest\",\"northwest\",\"northwest\",\"northwest\",\"northwest\",\"northwest\",\"southwest\",\"southwest\",\"southwest\",\"southeast\",\"southeast\",\"southwest\",\"southeast\",\"southeast\",\"southeast\",\"northwest\",\"southeast\",\"northwest\",\"southeast\",\"southeast\",\"northwest\",\"northwest\",\"northwest\",\"southeast\",\"southeast\",\"southeast\",\"northwest\",\"northwest\",\"southeast\",\"southeast\",\"southeast\",\"northwest\",\"northwest\",\"northwest\",\"northwest\",\"southeast\",\"southeast\",\"southwest\",\"northeast\",\"northeast\",\"northeast\",\"northwest\",\"northwest\",\"northwest\",\"northwest\",\"northwest\",\"northwest\",\"southeast\",\"southeast\",\"southeast\",\"southeast\",\"southwest\",\"southwest\",\"southwest\",\"southwest\",\"southwest\",\"southwest\",\"southwest\",\"southwest\",\"northwest\",\"southeast\",\"southeast\",\"southwest\",\"southwest\",\"southwest\",\"southeast\",\"southwest\",\"southwest\",\"southeast\",\"southeast\",\"southwest\",\"northwest\",\"northwest\",\"northwest\",\"southwest\",\"northeast\",\"northwest\",\"northwest\",\"northwest\",\"northwest\",\"southeast\",\"southeast\",\"southeast\",\"southwest\",\"southwest\",\"southeast\",\"southeast\",\"northwest\",\"northwest\",\"northeast\",\"southwest\",\"northeast\",\"northwest\",\"northwest\",\"northwest\",\"northwest\",\"northwest\",\"southeast\",\"northwest\",\"southwest\",\"southwest\",\"southeast\",\"southeast\",\"southwest\",\"southeast\",\"southeast\",\"southeast\",\"southeast\",\"southeast\",\"southeast\",\"southeast\",\"southeast\",\"southeast\",\"southeast\",\"southeast\",\"southeast\",\"northwest\",\"northwest\",\"northwest\",\"northwest\",\"northwest\",\"northwest\",\"southeast\",\"southeast\",\"southwest\",\"northwest\",\"northwest\",\"southeast\",\"southeast\",\"northwest\",\"southwest\",\"southeast\",\"southeast\",\"southwest\",\"southeast\",\"southeast\",\"southeast\",\"southeast\",\"southeast\",\"southwest\",\"southeast\",\"southeast\",\"northwest\",\"northwest\",\"northwest\",\"southeast\",\"southwest\",\"southeast\",\"southwest\",\"southwest\",\"northwest\",\"northwest\",\"northwest\",\"southeast\",\"northwest\",\"northwest\",\"northwest\",\"northwest\",\"northwest\",\"northwest\",\"southeast\",\"southeast\",\"northwest\",\"southeast\",\"southeast\",\"northeast\",\"northwest\",\"northwest\",\"southeast\",\"northwest\",\"northwest\",\"northwest\",\"northwest\",\"southwest\",\"southeast\",\"northeast\",\"northeast\",\"southeast\",\"southwest\",\"southwest\",\"southeast\",\"southwest\",\"northwest\",\"northeast\",\"northeast\",\"southeast\",\"northwest\",\"northeast\",\"northeast\",\"northwest\",\"southwest\",\"northeast\",\"southeast\",\"southwest\",\"northwest\",\"northwest\",\"southeast\",\"northwest\",\"northeast\",\"southwest\",\"northeast\",\"southeast\",\"southeast\",\"southwest\",\"northeast\",\"southwest\",\"northeast\",\"northwest\",\"northeast\",\"southwest\",\"northwest\",\"southeast\",\"southwest\",\"northeast\",\"southeast\",\"southeast\",\"southeast\",\"southwest\",\"southwest\",\"southeast\",\"southeast\",\"southwest\",\"southeast\",\"southeast\",\"northwest\",\"southwest\",\"northwest\",\"southeast\",\"southeast\",\"southwest\",\"northwest\",\"southwest\",\"northwest\",\"southwest\",\"northeast\",\"southwest\",\"southwest\",\"southeast\",\"northeast\",\"northwest\",\"southeast\",\"southeast\",\"southwest\",\"southeast\",\"southwest\",\"northeast\",\"northeast\",\"northwest\",\"southeast\",\"northwest\",\"southwest\",\"northeast\",\"southeast\",\"northeast\",\"southeast\",\"northwest\",\"southeast\",\"southeast\",\"southwest\",\"southwest\",\"southeast\",\"northeast\",\"northwest\",\"northeast\",\"southeast\",\"northwest\",\"southeast\",\"southwest\",\"northwest\",\"northwest\",\"southeast\",\"southwest\",\"southeast\",\"southeast\",\"northwest\",\"southwest\",\"southeast\",\"northwest\",\"northwest\",\"southwest\",\"southeast\",\"northwest\",\"northwest\",\"southeast\",\"southeast\",\"southeast\",\"southeast\",\"southeast\",\"northwest\",\"southwest\",\"southeast\",\"southwest\",\"southeast\",\"southeast\",\"northwest\",\"northwest\",\"southeast\",\"southeast\",\"southeast\",\"southeast\",\"northwest\",\"northwest\",\"southeast\",\"northwest\",\"southeast\",\"southeast\",\"southeast\",\"northwest\",\"southwest\",\"southwest\",\"southeast\",\"southeast\",\"southeast\",\"southeast\",\"northwest\",\"northwest\",\"southwest\",\"southeast\",\"southeast\",\"southwest\",\"southeast\",\"southeast\",\"southwest\",\"southeast\",\"southeast\",\"northwest\",\"northwest\",\"southwest\",\"southeast\",\"southwest\",\"southeast\",\"southwest\",\"southwest\",\"southeast\",\"southeast\",\"southeast\",\"southwest\",\"southeast\",\"southeast\",\"northwest\",\"southwest\",\"southeast\",\"southeast\",\"northwest\",\"northwest\",\"southeast\",\"northwest\",\"southwest\",\"southwest\",\"southeast\",\"southeast\",\"southeast\",\"southwest\",\"southwest\",\"northwest\",\"southeast\",\"southwest\",\"northwest\",\"southeast\",\"northwest\",\"southeast\",\"southeast\",\"southwest\",\"southeast\",\"southeast\",\"southwest\",\"southeast\",\"southwest\",\"southwest\",\"northwest\",\"northwest\",\"northwest\",\"northwest\",\"northwest\",\"northwest\",\"southwest\",\"northwest\",\"southeast\",\"northwest\",\"southwest\",\"northwest\",\"southwest\",\"northwest\",\"southeast\",\"southeast\",\"southeast\",\"northwest\",\"southeast\",\"southeast\",\"southeast\",\"southeast\",\"southwest\",\"southeast\",\"southeast\",\"southwest\",\"southeast\",\"southeast\",\"southwest\",\"northwest\",\"southwest\",\"southeast\",\"northwest\",\"southeast\",\"southwest\",\"southeast\",\"northwest\",\"southeast\",\"southeast\",\"southeast\",\"northwest\",\"southwest\",\"southeast\",\"southwest\",\"southeast\",\"southeast\",\"southwest\",\"southwest\",\"southeast\",\"southeast\",\"southwest\",\"northwest\",\"southwest\",\"southeast\",\"southeast\",\"southwest\",\"northwest\",\"southeast\",\"northwest\",\"northwest\",\"northwest\",\"southeast\",\"southeast\",\"southwest\",\"southwest\",\"northwest\",\"northwest\",\"southwest\",\"southwest\",\"southeast\",\"southwest\",\"southeast\",\"southwest\",\"southeast\",\"southeast\",\"southeast\",\"southeast\",\"northwest\",\"northwest\",\"northwest\",\"northwest\",\"northwest\",\"southeast\",\"southeast\",\"southwest\",\"southeast\",\"northwest\",\"northwest\",\"southwest\",\"southwest\",\"southeast\",\"northwest\",\"southeast\",\"southeast\",\"northwest\",\"southwest\",\"southeast\",\"southeast\",\"southwest\",\"southeast\",\"southeast\",\"southeast\",\"southeast\",\"northwest\",\"southwest\",\"northwest\",\"northwest\",\"southeast\",\"southeast\",\"southeast\",\"southeast\",\"southwest\",\"southeast\",\"northwest\",\"southeast\",\"southeast\",\"southwest\",\"southeast\",\"southwest\",\"southeast\",\"northwest\",\"northwest\",\"northwest\",\"southeast\",\"northwest\",\"southwest\",\"southeast\",\"southeast\",\"southwest\",\"southeast\",\"southeast\",\"southeast\",\"southwest\",\"southeast\",\"southwest\",\"southeast\",\"northwest\",\"southwest\",\"southeast\",\"southeast\",\"southeast\",\"southwest\",\"northwest\",\"northwest\",\"northwest\",\"southeast\",\"southeast\",\"northwest\",\"northwest\",\"northwest\",\"northwest\",\"southeast\",\"southeast\",\"southwest\",\"southwest\",\"southeast\",\"southwest\",\"southeast\",\"southwest\",\"southwest\",\"northwest\",\"northwest\",\"southwest\",\"southwest\",\"northwest\",\"southwest\",\"southeast\",\"southwest\",\"northwest\",\"northwest\",\"northwest\",\"southwest\",\"southwest\",\"southwest\",\"southeast\",\"southeast\",\"southeast\",\"southeast\",\"southeast\",\"southwest\",\"northwest\",\"southeast\",\"southeast\",\"northwest\",\"southwest\",\"southeast\",\"northwest\",\"southeast\",\"southeast\",\"northeast\",\"southwest\",\"northeast\",\"northeast\",\"northwest\",\"northwest\",\"northwest\",\"southwest\",\"northwest\",\"southwest\",\"southwest\",\"southeast\",\"northwest\",\"southwest\",\"southeast\",\"southeast\",\"northwest\",\"southeast\",\"southeast\",\"southeast\",\"southeast\",\"southeast\",\"northeast\",\"southwest\",\"southwest\",\"southeast\",\"southeast\",\"northeast\",\"northwest\",\"northeast\",\"northeast\",\"northeast\",\"southeast\",\"northwest\",\"northwest\",\"northwest\",\"southeast\",\"southwest\",\"southwest\",\"southeast\",\"southeast\",\"southwest\",\"southwest\",\"southeast\",\"northeast\",\"northeast\",\"southwest\",\"southeast\",\"southwest\",\"southwest\",\"southeast\",\"southeast\",\"southeast\",\"southeast\",\"northeast\",\"northeast\",\"southeast\",\"northeast\",\"southwest\",\"northeast\",\"northwest\",\"northeast\",\"southwest\",\"northwest\",\"northwest\",\"southwest\",\"southwest\",\"southwest\",\"northeast\",\"southwest\",\"northwest\",\"northwest\",\"southeast\",\"northeast\",\"northwest\",\"southwest\",\"southeast\",\"northeast\",\"northwest\",\"southwest\",\"southeast\",\"northwest\",\"southeast\",\"southeast\",\"northeast\",\"southwest\",\"southeast\",\"southwest\",\"northwest\",\"southwest\",\"northwest\",\"northeast\",\"northeast\",\"northwest\",\"southwest\",\"northeast\",\"southeast\",\"northeast\",\"northeast\",\"northwest\",\"southeast\",\"northeast\",\"southeast\",\"southeast\",\"southwest\",\"northeast\",\"southwest\",\"northeast\",\"northeast\",\"northeast\",\"southeast\",\"northeast\",\"southeast\",\"northeast\",\"southeast\",\"southwest\",\"northwest\",\"northwest\",\"northeast\",\"northwest\",\"southwest\",\"southwest\",\"southwest\",\"northwest\",\"northeast\",\"northeast\",\"northeast\",\"southwest\",\"southeast\",\"northeast\",\"southeast\",\"southeast\",\"southwest\",\"southeast\",\"southwest\",\"northwest\",\"northeast\",\"northwest\",\"southwest\",\"northeast\",\"southeast\",\"southwest\",\"northwest\",\"northeast\",\"northeast\",\"northwest\",\"northeast\",\"southwest\",\"northeast\",\"southwest\",\"southwest\",\"northeast\",\"southeast\",\"northwest\",\"southwest\",\"northeast\",\"northwest\",\"northeast\",\"southwest\",\"southeast\",\"northwest\",\"northwest\",\"northwest\",\"southwest\",\"southeast\",\"northwest\",\"northeast\",\"southeast\",\"northeast\",\"northeast\",\"northeast\",\"southwest\",\"southwest\",\"northwest\",\"northwest\",\"southeast\",\"northeast\",\"southwest\",\"southeast\",\"southeast\",\"northwest\",\"northwest\",\"southwest\",\"northwest\",\"southwest\",\"southeast\",\"southwest\",\"southwest\",\"northeast\",\"southwest\",\"southwest\",\"northeast\",\"northeast\",\"southwest\",\"southeast\",\"northwest\",\"northwest\",\"northeast\",\"southeast\",\"northwest\",\"southwest\",\"northwest\",\"southwest\",\"northwest\",\"southeast\",\"southeast\",\"southeast\",\"northwest\",\"northwest\",\"southwest\",\"southwest\",\"northwest\",\"northwest\",\"southeast\",\"southeast\",\"southwest\",\"southwest\",\"northeast\",\"northwest\",\"northeast\",\"southwest\",\"southwest\",\"northeast\",\"northeast\",\"northwest\",\"southwest\",\"northwest\",\"southeast\",\"southwest\",\"northwest\",\"northwest\",\"southwest\",\"southeast\",\"southwest\",\"southeast\",\"northeast\",\"northeast\",\"southwest\",\"northwest\",\"northwest\",\"southwest\",\"southeast\",\"northeast\",\"northeast\",\"northwest\",\"northeast\",\"southwest\",\"southwest\",\"southeast\",\"northeast\",\"southwest\",\"northeast\",\"northeast\",\"northeast\",\"southwest\",\"northeast\",\"northwest\",\"southwest\",\"southwest\",\"southeast\",\"northwest\",\"northeast\",\"northwest\",\"southeast\",\"southwest\",\"northwest\",\"southwest\",\"northwest\",\"southwest\",\"southeast\",\"northeast\",\"southwest\",\"southeast\",\"southeast\",\"northeast\",\"northeast\",\"northeast\",\"northwest\",\"southeast\",\"southeast\",\"northeast\",\"southwest\",\"northwest\",\"southwest\",\"northeast\",\"southwest\",\"northwest\",\"northwest\",\"southeast\",\"southwest\",\"northwest\",\"northwest\",\"northwest\",\"southwest\",\"northwest\",\"southeast\",\"southeast\",\"northwest\",\"northwest\",\"northeast\",\"southwest\",\"southwest\",\"southwest\",\"northeast\",\"northeast\",\"northwest\",\"northwest\",\"southeast\",\"northwest\",\"northwest\",\"southeast\",\"southwest\",\"southeast\",\"northwest\",\"northwest\",\"southeast\",\"southeast\",\"southwest\",\"northwest\",\"southwest\",\"southwest\",\"southeast\",\"northeast\",\"northeast\",\"northeast\",\"northeast\",\"northeast\",\"northeast\",\"northeast\",\"southeast\",\"southeast\",\"southeast\",\"northwest\",\"southwest\",\"southwest\",\"southeast\",\"southeast\",\"northwest\",\"northeast\",\"southwest\",\"northeast\",\"southwest\",\"northwest\",\"southwest\",\"northeast\",\"northeast\",\"northeast\",\"northeast\",\"northeast\",\"northeast\",\"southwest\",\"northeast\",\"northwest\",\"southwest\",\"southwest\",\"southeast\",\"northwest\",\"northwest\",\"northeast\",\"southwest\",\"southeast\",\"southwest\",\"southeast\",\"southwest\",\"northeast\",\"northeast\",\"northeast\",\"northeast\",\"northeast\",\"northeast\",\"northwest\",\"southwest\",\"southeast\",\"southwest\",\"northwest\",\"southwest\",\"southeast\",\"southeast\",\"southeast\",\"northwest\",\"northeast\",\"northeast\",\"southeast\",\"southeast\",\"southwest\",\"northeast\",\"northwest\",\"southeast\",\"northwest\",\"southwest\",\"northwest\",\"northwest\",\"northeast\",\"southeast\",\"southwest\",\"northwest\",\"southwest\",\"northwest\",\"northeast\",\"northeast\",\"northeast\",\"southeast\",\"northwest\",\"northeast\",\"northeast\",\"northeast\",\"southeast\",\"southeast\",\"northeast\",\"northeast\",\"northwest\",\"northwest\",\"northeast\",\"southwest\",\"northeast\",\"northwest\",\"southeast\",\"southwest\",\"northeast\",\"northeast\",\"northeast\",\"northwest\",\"northwest\",\"northwest\",\"southwest\",\"southwest\",\"northeast\",\"southeast\",\"northeast\",\"northeast\",\"southwest\",\"southwest\",\"northwest\",\"northwest\",\"northwest\",\"southeast\",\"southeast\",\"northeast\",\"northeast\",\"northeast\",\"southwest\",\"southeast\",\"southwest\",\"southeast\",\"northeast\",\"northeast\",\"southeast\",\"northwest\",\"northwest\",\"northwest\",\"southwest\",\"northwest\",\"southeast\",\"southeast\",\"northwest\",\"northeast\",\"northeast\",\"southeast\",\"southwest\",\"northwest\",\"northwest\",\"southeast\",\"southeast\",\"southeast\",\"southwest\",\"northwest\",\"southeast\",\"southwest\",\"northeast\",\"northwest\",\"southeast\",\"northwest\",\"southeast\",\"northwest\",\"northeast\",\"southwest\",\"southeast\",\"southeast\",\"southwest\",\"southwest\",\"southeast\",\"northeast\",\"southwest\",\"southeast\",\"southeast\",\"southeast\",\"northwest\",\"southeast\",\"northeast\",\"southeast\",\"southeast\",\"southeast\",\"northeast\",\"northwest\",\"southeast\",\"southeast\",\"northeast\",\"southwest\",\"northeast\",\"northwest\",\"northeast\",\"southwest\",\"southwest\",\"northwest\",\"northeast\",\"northeast\",\"southwest\",\"southeast\",\"southwest\",\"northeast\",\"northwest\",\"northeast\",\"southeast\",\"northeast\",\"northeast\",\"southwest\",\"northwest\",\"southeast\",\"southeast\",\"southwest\",\"northeast\",\"northeast\",\"northwest\",\"northwest\",\"northwest\",\"northeast\",\"northwest\",\"northeast\",\"northwest\",\"southwest\",\"northwest\",\"southeast\",\"northwest\",\"southwest\",\"southeast\",\"southeast\",\"northeast\",\"northeast\",\"northeast\",\"northeast\",\"southwest\",\"northwest\",\"northeast\",\"southeast\",\"southwest\",\"northeast\",\"southeast\",\"northeast\",\"southwest\",\"northeast\",\"southeast\",\"southwest\",\"northwest\",\"northwest\",\"northwest\",\"northwest\",\"northeast\",\"southeast\",\"southeast\",\"northwest\",\"northwest\",\"southeast\",\"southwest\",\"northwest\",\"southwest\",\"southeast\",\"northeast\",\"northeast\",\"northeast\",\"northeast\",\"northwest\",\"southeast\",\"southwest\",\"northeast\",\"southwest\",\"northeast\",\"northeast\",\"northwest\",\"southeast\",\"northwest\",\"northwest\",\"southeast\",\"southwest\",\"southwest\",\"northeast\",\"northwest\",\"southeast\",\"southeast\",\"southeast\",\"southeast\",\"northeast\",\"southeast\",\"southeast\",\"northeast\",\"southeast\",\"southeast\",\"southeast\",\"southwest\",\"northeast\",\"southeast\",\"northwest\",\"northwest\",\"northwest\",\"northwest\",\"northwest\",\"northwest\",\"northwest\",\"northeast\",\"northwest\",\"northeast\",\"northwest\",\"northwest\",\"northeast\",\"northeast\",\"northwest\",\"southeast\",\"northeast\",\"northeast\",\"southeast\",\"northwest\",\"northwest\",\"northwest\",\"northwest\",\"northeast\",\"northeast\",\"northwest\",\"southwest\",\"northwest\",\"southwest\",\"northeast\",\"southeast\",\"southeast\",\"southwest\",\"northeast\",\"southeast\",\"southwest\",\"southeast\",\"southwest\",\"southwest\",\"northeast\",\"northeast\",\"southwest\",\"southwest\",\"southwest\",\"southeast\",\"southeast\",\"southwest\",\"southeast\",\"southeast\",\"northeast\",\"southwest\",\"northwest\",\"southeast\",\"southwest\",\"southeast\",\"southwest\",\"northwest\",\"southwest\",\"southeast\",\"southwest\",\"southeast\",\"southeast\",\"northeast\",\"northwest\",\"southeast\",\"northeast\",\"northeast\",\"southeast\",\"southwest\",\"southeast\",\"southeast\",\"southeast\",\"southwest\",\"southwest\",\"northeast\",\"southeast\",\"southwest\",\"northwest\",\"southeast\",\"southwest\",\"northeast\",\"northeast\",\"southwest\",\"northeast\",\"northeast\",\"southeast\",\"southeast\",\"northwest\",\"southwest\",\"northeast\",\"southwest\",\"southeast\",\"northwest\",\"northwest\",\"southwest\",\"southwest\",\"southeast\",\"southeast\",\"northwest\",\"northeast\",\"southeast\",\"southeast\",\"southeast\",\"northeast\",\"northeast\",\"southwest\",\"southeast\",\"northeast\",\"southeast\",\"southeast\",\"northeast\",\"southeast\",\"southeast\",\"southeast\",\"northeast\",\"southeast\",\"northwest\",\"southwest\",\"southeast\",\"northwest\",\"northeast\",\"northwest\",\"northeast\",\"southeast\",\"southeast\",\"northwest\",\"northwest\",\"southeast\",\"southeast\",\"southeast\",\"southeast\",\"southeast\",\"southwest\",\"northeast\",\"southeast\",\"northwest\",\"northeast\",\"southeast\",\"southwest\",\"northwest\",\"southeast\",\"southeast\",\"northeast\",\"southeast\",\"northwest\",\"northwest\",\"southeast\",\"southeast\",\"southeast\",\"southwest\",\"southwest\",\"southwest\",\"southeast\",\"northwest\",\"northeast\",\"southwest\",\"southwest\",\"northeast\",\"northeast\",\"southeast\",\"southeast\",\"southwest\",\"southeast\",\"southeast\",\"southeast\",\"southwest\",\"southwest\",\"northwest\",\"northeast\",\"northwest\",\"southeast\",\"southeast\"],\"legendgroup\":\"\",\"name\":\"\",\"showlegend\":true,\"type\":\"pie\",\"textinfo\":\"percent+label\"}],                        {\"template\":{\"data\":{\"pie\":[{\"automargin\":true,\"type\":\"pie\"}],\"scatter3d\":[{\"line\":{\"width\":3},\"marker\":{\"size\":9},\"type\":\"scatter3d\"}],\"scattergeo\":[{\"line\":{\"width\":3},\"marker\":{\"size\":9},\"type\":\"scattergeo\"}],\"scattergl\":[{\"line\":{\"width\":3},\"marker\":{\"size\":9},\"type\":\"scattergl\"}],\"scatterpolargl\":[{\"line\":{\"width\":3},\"marker\":{\"size\":9},\"type\":\"scatterpolargl\"}],\"scatterpolar\":[{\"line\":{\"width\":3},\"marker\":{\"size\":9},\"type\":\"scatterpolar\"}],\"scatter\":[{\"line\":{\"width\":3},\"marker\":{\"size\":9},\"type\":\"scatter\"}],\"scatterternary\":[{\"line\":{\"width\":3},\"marker\":{\"size\":9},\"type\":\"scatterternary\"}],\"table\":[{\"cells\":{\"height\":30},\"header\":{\"height\":36},\"type\":\"table\"}]},\"layout\":{\"font\":{\"size\":18},\"xaxis\":{\"title\":{\"standoff\":15}},\"yaxis\":{\"title\":{\"standoff\":15}}}},\"legend\":{\"tracegroupgap\":0},\"title\":{\"text\":\"Region\"},\"width\":500},                        {\"responsive\": true}                    ).then(function(){\n",
              "                            \n",
              "var gd = document.getElementById('b061f7cb-16c2-460d-ad1b-75b0cbc0bed8');\n",
              "var x = new MutationObserver(function (mutations, observer) {{\n",
              "        var display = window.getComputedStyle(gd).display;\n",
              "        if (!display || display === 'none') {{\n",
              "            console.log([gd, 'removed!']);\n",
              "            Plotly.purge(gd);\n",
              "            observer.disconnect();\n",
              "        }}\n",
              "}});\n",
              "\n",
              "// Listen for the removal of the full notebook cells\n",
              "var notebookContainer = gd.closest('#notebook-container');\n",
              "if (notebookContainer) {{\n",
              "    x.observe(notebookContainer, {childList: true});\n",
              "}}\n",
              "\n",
              "// Listen for the clearing of the current output cell\n",
              "var outputEl = gd.closest('.output');\n",
              "if (outputEl) {{\n",
              "    x.observe(outputEl, {childList: true});\n",
              "}}\n",
              "\n",
              "                        })                };                            </script>        </div>\n",
              "</body>\n",
              "</html>"
            ]
          },
          "metadata": {}
        }
      ]
    },
    {
      "cell_type": "markdown",
      "source": [
        "* **Persons from Northeast region claimed less numbor of insurance compare to other regions**\n",
        "* **Persons from Southeast region claimed more number of insurance compare to other regions**"
      ],
      "metadata": {
        "id": "WPPVDq-NVK-a"
      }
    },
    {
      "cell_type": "code",
      "source": [
        "sns.histplot(df.claim, kde= True)"
      ],
      "metadata": {
        "colab": {
          "base_uri": "https://localhost:8080/",
          "height": 466
        },
        "id": "IGWU3PGkWGdu",
        "outputId": "896912bf-b844-4ce2-eb5c-2ce620aa0055"
      },
      "execution_count": 28,
      "outputs": [
        {
          "output_type": "execute_result",
          "data": {
            "text/plain": [
              "<Axes: xlabel='claim', ylabel='Count'>"
            ]
          },
          "metadata": {},
          "execution_count": 28
        },
        {
          "output_type": "display_data",
          "data": {
            "text/plain": [
              "<Figure size 640x480 with 1 Axes>"
            ],
            "image/png": "[encoded data removed]"
          },
          "metadata": {}
        }
      ]
    },
    {
      "cell_type": "markdown",
      "source": [
        "* **Most number of persons claimed for 1000-15000**"
      ],
      "metadata": {
        "id": "34hs6_ASaJoz"
      }
    },
    {
      "cell_type": "code",
      "source": [
        "df"
      ],
      "metadata": {
        "colab": {
          "base_uri": "https://localhost:8080/",
          "height": 455
        },
        "id": "H0PtNuAvIRZ2",
        "outputId": "595c5909-601a-4267-93c3-58b5d4a31fb5"
      },
      "execution_count": 29,
      "outputs": [
        {
          "output_type": "execute_result",
          "data": {
            "text/plain": [
              "       PatientID  age  gender   bmi  bloodpressure diabetic  children smoker  \\\n",
              "index                                                                          \n",
              "0              1   39    male  23.2             91      Yes         0     No   \n",
              "1              2   24    male  30.1             87       No         0     No   \n",
              "2              3   34    male  33.3             82      Yes         0     No   \n",
              "3              4   34    male  33.7             80       No         0     No   \n",
              "4              5   34    male  34.1            100       No         0     No   \n",
              "...          ...  ...     ...   ...            ...      ...       ...    ...   \n",
              "1335        1336   44  female  35.5             88      Yes         0    Yes   \n",
              "1336        1337   59  female  38.1            120       No         1    Yes   \n",
              "1337        1338   30    male  34.5             91      Yes         3    Yes   \n",
              "1338        1339   37    male  30.4            106       No         0    Yes   \n",
              "1339        1340   30  female  47.4            101       No         0    Yes   \n",
              "\n",
              "          region  claim  \n",
              "index                    \n",
              "0      southeast   1121  \n",
              "1      southeast   1131  \n",
              "2      southeast   1135  \n",
              "3      northwest   1136  \n",
              "4      northwest   1137  \n",
              "...          ...    ...  \n",
              "1335   northwest  55135  \n",
              "1336   northeast  58571  \n",
              "1337   northwest  60021  \n",
              "1338   southeast  62592  \n",
              "1339   southeast  63770  \n",
              "\n",
              "[1337 rows x 10 columns]"
            ],
            "text/html": [
              "\n",
              "\n",
              "  <div id=\"df-a5c35354-15ff-47cb-a92f-8dc194cd2fdf\">\n",
              "    <div class=\"colab-df-container\">\n",
              "      <div>\n",
              "<style scoped>\n",
              "    .dataframe tbody tr th:only-of-type {\n",
              "        vertical-align: middle;\n",
              "    }\n",
              "\n",
              "    .dataframe tbody tr th {\n",
              "        vertical-align: top;\n",
              "    }\n",
              "\n",
              "    .dataframe thead th {\n",
              "        text-align: right;\n",
              "    }\n",
              "</style>\n",
              "<table border=\"1\" class=\"dataframe\">\n",
              "  <thead>\n",
              "    <tr style=\"text-align: right;\">\n",
              "      <th></th>\n",
              "      <th>PatientID</th>\n",
              "      <th>age</th>\n",
              "      <th>gender</th>\n",
              "      <th>bmi</th>\n",
              "      <th>bloodpressure</th>\n",
              "      <th>diabetic</th>\n",
              "      <th>children</th>\n",
              "      <th>smoker</th>\n",
              "      <th>region</th>\n",
              "      <th>claim</th>\n",
              "    </tr>\n",
              "    <tr>\n",
              "      <th>index</th>\n",
              "      <th></th>\n",
              "      <th></th>\n",
              "      <th></th>\n",
              "      <th></th>\n",
              "      <th></th>\n",
              "      <th></th>\n",
              "      <th></th>\n",
              "      <th></th>\n",
              "      <th></th>\n",
              "      <th></th>\n",
              "    </tr>\n",
              "  </thead>\n",
              "  <tbody>\n",
              "    <tr>\n",
              "      <th>0</th>\n",
              "      <td>1</td>\n",
              "      <td>39</td>\n",
              "      <td>male</td>\n",
              "      <td>23.2</td>\n",
              "      <td>91</td>\n",
              "      <td>Yes</td>\n",
              "      <td>0</td>\n",
              "      <td>No</td>\n",
              "      <td>southeast</td>\n",
              "      <td>1121</td>\n",
              "    </tr>\n",
              "    <tr>\n",
              "      <th>1</th>\n",
              "      <td>2</td>\n",
              "      <td>24</td>\n",
              "      <td>male</td>\n",
              "      <td>30.1</td>\n",
              "      <td>87</td>\n",
              "      <td>No</td>\n",
              "      <td>0</td>\n",
              "      <td>No</td>\n",
              "      <td>southeast</td>\n",
              "      <td>1131</td>\n",
              "    </tr>\n",
              "    <tr>\n",
              "      <th>2</th>\n",
              "      <td>3</td>\n",
              "      <td>34</td>\n",
              "      <td>male</td>\n",
              "      <td>33.3</td>\n",
              "      <td>82</td>\n",
              "      <td>Yes</td>\n",
              "      <td>0</td>\n",
              "      <td>No</td>\n",
              "      <td>southeast</td>\n",
              "      <td>1135</td>\n",
              "    </tr>\n",
              "    <tr>\n",
              "      <th>3</th>\n",
              "      <td>4</td>\n",
              "      <td>34</td>\n",
              "      <td>male</td>\n",
              "      <td>33.7</td>\n",
              "      <td>80</td>\n",
              "      <td>No</td>\n",
              "      <td>0</td>\n",
              "      <td>No</td>\n",
              "      <td>northwest</td>\n",
              "      <td>1136</td>\n",
              "    </tr>\n",
              "    <tr>\n",
              "      <th>4</th>\n",
              "      <td>5</td>\n",
              "      <td>34</td>\n",
              "      <td>male</td>\n",
              "      <td>34.1</td>\n",
              "      <td>100</td>\n",
              "      <td>No</td>\n",
              "      <td>0</td>\n",
              "      <td>No</td>\n",
              "      <td>northwest</td>\n",
              "      <td>1137</td>\n",
              "    </tr>\n",
              "    <tr>\n",
              "      <th>...</th>\n",
              "      <td>...</td>\n",
              "      <td>...</td>\n",
              "      <td>...</td>\n",
              "      <td>...</td>\n",
              "      <td>...</td>\n",
              "      <td>...</td>\n",
              "      <td>...</td>\n",
              "      <td>...</td>\n",
              "      <td>...</td>\n",
              "      <td>...</td>\n",
              "    </tr>\n",
              "    <tr>\n",
              "      <th>1335</th>\n",
              "      <td>1336</td>\n",
              "      <td>44</td>\n",
              "      <td>female</td>\n",
              "      <td>35.5</td>\n",
              "      <td>88</td>\n",
              "      <td>Yes</td>\n",
              "      <td>0</td>\n",
              "      <td>Yes</td>\n",
              "      <td>northwest</td>\n",
              "      <td>55135</td>\n",
              "    </tr>\n",
              "    <tr>\n",
              "      <th>1336</th>\n",
              "      <td>1337</td>\n",
              "      <td>59</td>\n",
              "      <td>female</td>\n",
              "      <td>38.1</td>\n",
              "      <td>120</td>\n",
              "      <td>No</td>\n",
              "      <td>1</td>\n",
              "      <td>Yes</td>\n",
              "      <td>northeast</td>\n",
              "      <td>58571</td>\n",
              "    </tr>\n",
              "    <tr>\n",
              "      <th>1337</th>\n",
              "      <td>1338</td>\n",
              "      <td>30</td>\n",
              "      <td>male</td>\n",
              "      <td>34.5</td>\n",
              "      <td>91</td>\n",
              "      <td>Yes</td>\n",
              "      <td>3</td>\n",
              "      <td>Yes</td>\n",
              "      <td>northwest</td>\n",
              "      <td>60021</td>\n",
              "    </tr>\n",
              "    <tr>\n",
              "      <th>1338</th>\n",
              "      <td>1339</td>\n",
              "      <td>37</td>\n",
              "      <td>male</td>\n",
              "      <td>30.4</td>\n",
              "      <td>106</td>\n",
              "      <td>No</td>\n",
              "      <td>0</td>\n",
              "      <td>Yes</td>\n",
              "      <td>southeast</td>\n",
              "      <td>62592</td>\n",
              "    </tr>\n",
              "    <tr>\n",
              "      <th>1339</th>\n",
              "      <td>1340</td>\n",
              "      <td>30</td>\n",
              "      <td>female</td>\n",
              "      <td>47.4</td>\n",
              "      <td>101</td>\n",
              "      <td>No</td>\n",
              "      <td>0</td>\n",
              "      <td>Yes</td>\n",
              "      <td>southeast</td>\n",
              "      <td>63770</td>\n",
              "    </tr>\n",
              "  </tbody>\n",
              "</table>\n",
              "<p>1337 rows × 10 columns</p>\n",
              "</div>\n",
              "      <button class=\"colab-df-convert\" onclick=\"convertToInteractive('df-a5c35354-15ff-47cb-a92f-8dc194cd2fdf')\"\n",
              "              title=\"Convert this dataframe to an interactive table.\"\n",
              "              style=\"display:none;\">\n",
              "\n",
              "  <svg xmlns=\"http://www.w3.org/2000/svg\" height=\"24px\"viewBox=\"0 0 24 24\"\n",
              "       width=\"24px\">\n",
              "    <path d=\"M0 0h24v24H0V0z\" fill=\"none\"/>\n",
              "    <path d=\"M18.56 5.44l.94 2.06.94-2.06 2.06-.94-2.06-.94-.94-2.06-.94 2.06-2.06.94zm-11 1L8.5 8.5l.94-2.06 2.06-.94-2.06-.94L8.5 2.5l-.94 2.06-2.06.94zm10 10l.94 2.06.94-2.06 2.06-.94-2.06-.94-.94-2.06-.94 2.06-2.06.94z\"/><path d=\"M17.41 7.96l-1.37-1.37c-.4-.4-.92-.59-1.43-.59-.52 0-1.04.2-1.43.59L10.3 9.45l-7.72 7.72c-.78.78-.78 2.05 0 2.83L4 21.41c.39.39.9.59 1.41.59.51 0 1.02-.2 1.41-.59l7.78-7.78 2.81-2.81c.8-.78.8-2.07 0-2.86zM5.41 20L4 18.59l7.72-7.72 1.47 1.35L5.41 20z\"/>\n",
              "  </svg>\n",
              "      </button>\n",
              "\n",
              "\n",
              "\n",
              "    <div id=\"df-c1d07bc0-40de-4749-83cb-f86dc8c1047f\">\n",
              "      <button class=\"colab-df-quickchart\" onclick=\"quickchart('df-c1d07bc0-40de-4749-83cb-f86dc8c1047f')\"\n",
              "              title=\"Suggest charts.\"\n",
              "              style=\"display:none;\">\n",
              "\n",
              "<svg xmlns=\"http://www.w3.org/2000/svg\" height=\"24px\"viewBox=\"0 0 24 24\"\n",
              "     width=\"24px\">\n",
              "    <g>\n",
              "        <path d=\"M19 3H5c-1.1 0-2 .9-2 2v14c0 1.1.9 2 2 2h14c1.1 0 2-.9 2-2V5c0-1.1-.9-2-2-2zM9 17H7v-7h2v7zm4 0h-2V7h2v10zm4 0h-2v-4h2v4z\"/>\n",
              "    </g>\n",
              "</svg>\n",
              "      </button>\n",
              "    </div>\n",
              "\n",
              "<style>\n",
              "  .colab-df-quickchart {\n",
              "    background-color: #E8F0FE;\n",
              "    border: none;\n",
              "    border-radius: 50%;\n",
              "    cursor: pointer;\n",
              "    display: none;\n",
              "    fill: #1967D2;\n",
              "    height: 32px;\n",
              "    padding: 0 0 0 0;\n",
              "    width: 32px;\n",
              "  }\n",
              "\n",
              "  .colab-df-quickchart:hover {\n",
              "    background-color: #E2EBFA;\n",
              "    box-shadow: 0px 1px 2px rgba(60, 64, 67, 0.3), 0px 1px 3px 1px rgba(60, 64, 67, 0.15);\n",
              "    fill: #174EA6;\n",
              "  }\n",
              "\n",
              "  [theme=dark] .colab-df-quickchart {\n",
              "    background-color: #3B4455;\n",
              "    fill: #D2E3FC;\n",
              "  }\n",
              "\n",
              "  [theme=dark] .colab-df-quickchart:hover {\n",
              "    background-color: #434B5C;\n",
              "    box-shadow: 0px 1px 3px 1px rgba(0, 0, 0, 0.15);\n",
              "    filter: drop-shadow(0px 1px 2px rgba(0, 0, 0, 0.3));\n",
              "    fill: #FFFFFF;\n",
              "  }\n",
              "</style>\n",
              "\n",
              "    <script>\n",
              "      async function quickchart(key) {\n",
              "        const containerElement = document.querySelector('#' + key);\n",
              "        const charts = await google.colab.kernel.invokeFunction(\n",
              "            'suggestCharts', [key], {});\n",
              "      }\n",
              "    </script>\n",
              "\n",
              "      <script>\n",
              "\n",
              "function displayQuickchartButton(domScope) {\n",
              "  let quickchartButtonEl =\n",
              "    domScope.querySelector('#df-c1d07bc0-40de-4749-83cb-f86dc8c1047f button.colab-df-quickchart');\n",
              "  quickchartButtonEl.style.display =\n",
              "    google.colab.kernel.accessAllowed ? 'block' : 'none';\n",
              "}\n",
              "\n",
              "        displayQuickchartButton(document);\n",
              "      </script>\n",
              "      <style>\n",
              "    .colab-df-container {\n",
              "      display:flex;\n",
              "      flex-wrap:wrap;\n",
              "      gap: 12px;\n",
              "    }\n",
              "\n",
              "    .colab-df-convert {\n",
              "      background-color: #E8F0FE;\n",
              "      border: none;\n",
              "      border-radius: 50%;\n",
              "      cursor: pointer;\n",
              "      display: none;\n",
              "      fill: #1967D2;\n",
              "      height: 32px;\n",
              "      padding: 0 0 0 0;\n",
              "      width: 32px;\n",
              "    }\n",
              "\n",
              "    .colab-df-convert:hover {\n",
              "      background-color: #E2EBFA;\n",
              "      box-shadow: 0px 1px 2px rgba(60, 64, 67, 0.3), 0px 1px 3px 1px rgba(60, 64, 67, 0.15);\n",
              "      fill: #174EA6;\n",
              "    }\n",
              "\n",
              "    [theme=dark] .colab-df-convert {\n",
              "      background-color: #3B4455;\n",
              "      fill: #D2E3FC;\n",
              "    }\n",
              "\n",
              "    [theme=dark] .colab-df-convert:hover {\n",
              "      background-color: #434B5C;\n",
              "      box-shadow: 0px 1px 3px 1px rgba(0, 0, 0, 0.15);\n",
              "      filter: drop-shadow(0px 1px 2px rgba(0, 0, 0, 0.3));\n",
              "      fill: #FFFFFF;\n",
              "    }\n",
              "  </style>\n",
              "\n",
              "      <script>\n",
              "        const buttonEl =\n",
              "          document.querySelector('#df-a5c35354-15ff-47cb-a92f-8dc194cd2fdf button.colab-df-convert');\n",
              "        buttonEl.style.display =\n",
              "          google.colab.kernel.accessAllowed ? 'block' : 'none';\n",
              "\n",
              "        async function convertToInteractive(key) {\n",
              "          const element = document.querySelector('#df-a5c35354-15ff-47cb-a92f-8dc194cd2fdf');\n",
              "          const dataTable =\n",
              "            await google.colab.kernel.invokeFunction('convertToInteractive',\n",
              "                                                     [key], {});\n",
              "          if (!dataTable) return;\n",
              "\n",
              "          const docLinkHtml = 'Like what you see? Visit the ' +\n",
              "            '<a target=\"_blank\" href=https://colab.research.google.com/notebooks/data_table.ipynb>data table notebook</a>'\n",
              "            + ' to learn more about interactive tables.';\n",
              "          element.innerHTML = '';\n",
              "          dataTable['output_type'] = 'display_data';\n",
              "          await google.colab.output.renderOutput(dataTable, element);\n",
              "          const docLink = document.createElement('div');\n",
              "          docLink.innerHTML = docLinkHtml;\n",
              "          element.appendChild(docLink);\n",
              "        }\n",
              "      </script>\n",
              "    </div>\n",
              "  </div>\n"
            ]
          },
          "metadata": {},
          "execution_count": 29
        }
      ]
    },
    {
      "cell_type": "markdown",
      "source": [
        "#**Preparing Data for Model**\n",
        "* **Male = 0 , Female = 1 : gender**\n",
        "* **Yes = 0, No = 1 : Diabetic**\n",
        "* **Yes = 1, No = 0 : Smoker**"
      ],
      "metadata": {
        "id": "dSNSjKc7I9Ie"
      }
    },
    {
      "cell_type": "code",
      "source": [
        "df2 = df.copy()"
      ],
      "metadata": {
        "id": "egwXxUFHQwHr"
      },
      "execution_count": 30,
      "outputs": []
    },
    {
      "cell_type": "code",
      "source": [
        "list(enumerate(df2.gender.unique()))"
      ],
      "metadata": {
        "colab": {
          "base_uri": "https://localhost:8080/"
        },
        "id": "zB38WGORISZF",
        "outputId": "10e8cccb-83ac-4ca9-b256-ccc6539d8c7e"
      },
      "execution_count": 31,
      "outputs": [
        {
          "output_type": "execute_result",
          "data": {
            "text/plain": [
              "[(0, 'male'), (1, 'female')]"
            ]
          },
          "metadata": {},
          "execution_count": 31
        }
      ]
    },
    {
      "cell_type": "code",
      "source": [
        "gender_map = {j : i for i, j in enumerate(df2.gender.unique())}\n",
        "gender_map"
      ],
      "metadata": {
        "colab": {
          "base_uri": "https://localhost:8080/"
        },
        "id": "tu3hjx4CIzvl",
        "outputId": "8a1c5e9f-7042-40a8-ae01-82476bdd5012"
      },
      "execution_count": 32,
      "outputs": [
        {
          "output_type": "execute_result",
          "data": {
            "text/plain": [
              "{'male': 0, 'female': 1}"
            ]
          },
          "metadata": {},
          "execution_count": 32
        }
      ]
    },
    {
      "cell_type": "code",
      "source": [
        "df2.gender = df2.gender.map(gender_map)"
      ],
      "metadata": {
        "id": "77Olc0ciLu21"
      },
      "execution_count": 33,
      "outputs": []
    },
    {
      "cell_type": "code",
      "source": [
        "df2.diabetic = df2.diabetic.map({j : i for i, j in enumerate(df2.diabetic.unique())})"
      ],
      "metadata": {
        "id": "if6_3HjFM5Ol"
      },
      "execution_count": 34,
      "outputs": []
    },
    {
      "cell_type": "code",
      "source": [
        "df2.smoker = df2.smoker.map({j : i for i , j in enumerate(df2.smoker.unique())})"
      ],
      "metadata": {
        "id": "zNKB7USHOAXI"
      },
      "execution_count": 35,
      "outputs": []
    },
    {
      "cell_type": "code",
      "source": [
        "df2"
      ],
      "metadata": {
        "colab": {
          "base_uri": "https://localhost:8080/",
          "height": 455
        },
        "id": "0P71E4MIPR7G",
        "outputId": "4311559e-1438-4a48-cb44-5fcee24f2367"
      },
      "execution_count": 36,
      "outputs": [
        {
          "output_type": "execute_result",
          "data": {
            "text/plain": [
              "       PatientID  age  gender   bmi  bloodpressure  diabetic  children  \\\n",
              "index                                                                    \n",
              "0              1   39       0  23.2             91         0         0   \n",
              "1              2   24       0  30.1             87         1         0   \n",
              "2              3   34       0  33.3             82         0         0   \n",
              "3              4   34       0  33.7             80         1         0   \n",
              "4              5   34       0  34.1            100         1         0   \n",
              "...          ...  ...     ...   ...            ...       ...       ...   \n",
              "1335        1336   44       1  35.5             88         0         0   \n",
              "1336        1337   59       1  38.1            120         1         1   \n",
              "1337        1338   30       0  34.5             91         0         3   \n",
              "1338        1339   37       0  30.4            106         1         0   \n",
              "1339        1340   30       1  47.4            101         1         0   \n",
              "\n",
              "       smoker     region  claim  \n",
              "index                            \n",
              "0           0  southeast   1121  \n",
              "1           0  southeast   1131  \n",
              "2           0  southeast   1135  \n",
              "3           0  northwest   1136  \n",
              "4           0  northwest   1137  \n",
              "...       ...        ...    ...  \n",
              "1335        1  northwest  55135  \n",
              "1336        1  northeast  58571  \n",
              "1337        1  northwest  60021  \n",
              "1338        1  southeast  62592  \n",
              "1339        1  southeast  63770  \n",
              "\n",
              "[1337 rows x 10 columns]"
            ],
            "text/html": [
              "\n",
              "\n",
              "  <div id=\"df-87ae4444-7b83-45d5-8881-4529b02f1881\">\n",
              "    <div class=\"colab-df-container\">\n",
              "      <div>\n",
              "<style scoped>\n",
              "    .dataframe tbody tr th:only-of-type {\n",
              "        vertical-align: middle;\n",
              "    }\n",
              "\n",
              "    .dataframe tbody tr th {\n",
              "        vertical-align: top;\n",
              "    }\n",
              "\n",
              "    .dataframe thead th {\n",
              "        text-align: right;\n",
              "    }\n",
              "</style>\n",
              "<table border=\"1\" class=\"dataframe\">\n",
              "  <thead>\n",
              "    <tr style=\"text-align: right;\">\n",
              "      <th></th>\n",
              "      <th>PatientID</th>\n",
              "      <th>age</th>\n",
              "      <th>gender</th>\n",
              "      <th>bmi</th>\n",
              "      <th>bloodpressure</th>\n",
              "      <th>diabetic</th>\n",
              "      <th>children</th>\n",
              "      <th>smoker</th>\n",
              "      <th>region</th>\n",
              "      <th>claim</th>\n",
              "    </tr>\n",
              "    <tr>\n",
              "      <th>index</th>\n",
              "      <th></th>\n",
              "      <th></th>\n",
              "      <th></th>\n",
              "      <th></th>\n",
              "      <th></th>\n",
              "      <th></th>\n",
              "      <th></th>\n",
              "      <th></th>\n",
              "      <th></th>\n",
              "      <th></th>\n",
              "    </tr>\n",
              "  </thead>\n",
              "  <tbody>\n",
              "    <tr>\n",
              "      <th>0</th>\n",
              "      <td>1</td>\n",
              "      <td>39</td>\n",
              "      <td>0</td>\n",
              "      <td>23.2</td>\n",
              "      <td>91</td>\n",
              "      <td>0</td>\n",
              "      <td>0</td>\n",
              "      <td>0</td>\n",
              "      <td>southeast</td>\n",
              "      <td>1121</td>\n",
              "    </tr>\n",
              "    <tr>\n",
              "      <th>1</th>\n",
              "      <td>2</td>\n",
              "      <td>24</td>\n",
              "      <td>0</td>\n",
              "      <td>30.1</td>\n",
              "      <td>87</td>\n",
              "      <td>1</td>\n",
              "      <td>0</td>\n",
              "      <td>0</td>\n",
              "      <td>southeast</td>\n",
              "      <td>1131</td>\n",
              "    </tr>\n",
              "    <tr>\n",
              "      <th>2</th>\n",
              "      <td>3</td>\n",
              "      <td>34</td>\n",
              "      <td>0</td>\n",
              "      <td>33.3</td>\n",
              "      <td>82</td>\n",
              "      <td>0</td>\n",
              "      <td>0</td>\n",
              "      <td>0</td>\n",
              "      <td>southeast</td>\n",
              "      <td>1135</td>\n",
              "    </tr>\n",
              "    <tr>\n",
              "      <th>3</th>\n",
              "      <td>4</td>\n",
              "      <td>34</td>\n",
              "      <td>0</td>\n",
              "      <td>33.7</td>\n",
              "      <td>80</td>\n",
              "      <td>1</td>\n",
              "      <td>0</td>\n",
              "      <td>0</td>\n",
              "      <td>northwest</td>\n",
              "      <td>1136</td>\n",
              "    </tr>\n",
              "    <tr>\n",
              "      <th>4</th>\n",
              "      <td>5</td>\n",
              "      <td>34</td>\n",
              "      <td>0</td>\n",
              "      <td>34.1</td>\n",
              "      <td>100</td>\n",
              "      <td>1</td>\n",
              "      <td>0</td>\n",
              "      <td>0</td>\n",
              "      <td>northwest</td>\n",
              "      <td>1137</td>\n",
              "    </tr>\n",
              "    <tr>\n",
              "      <th>...</th>\n",
              "      <td>...</td>\n",
              "      <td>...</td>\n",
              "      <td>...</td>\n",
              "      <td>...</td>\n",
              "      <td>...</td>\n",
              "      <td>...</td>\n",
              "      <td>...</td>\n",
              "      <td>...</td>\n",
              "      <td>...</td>\n",
              "      <td>...</td>\n",
              "    </tr>\n",
              "    <tr>\n",
              "      <th>1335</th>\n",
              "      <td>1336</td>\n",
              "      <td>44</td>\n",
              "      <td>1</td>\n",
              "      <td>35.5</td>\n",
              "      <td>88</td>\n",
              "      <td>0</td>\n",
              "      <td>0</td>\n",
              "      <td>1</td>\n",
              "      <td>northwest</td>\n",
              "      <td>55135</td>\n",
              "    </tr>\n",
              "    <tr>\n",
              "      <th>1336</th>\n",
              "      <td>1337</td>\n",
              "      <td>59</td>\n",
              "      <td>1</td>\n",
              "      <td>38.1</td>\n",
              "      <td>120</td>\n",
              "      <td>1</td>\n",
              "      <td>1</td>\n",
              "      <td>1</td>\n",
              "      <td>northeast</td>\n",
              "      <td>58571</td>\n",
              "    </tr>\n",
              "    <tr>\n",
              "      <th>1337</th>\n",
              "      <td>1338</td>\n",
              "      <td>30</td>\n",
              "      <td>0</td>\n",
              "      <td>34.5</td>\n",
              "      <td>91</td>\n",
              "      <td>0</td>\n",
              "      <td>3</td>\n",
              "      <td>1</td>\n",
              "      <td>northwest</td>\n",
              "      <td>60021</td>\n",
              "    </tr>\n",
              "    <tr>\n",
              "      <th>1338</th>\n",
              "      <td>1339</td>\n",
              "      <td>37</td>\n",
              "      <td>0</td>\n",
              "      <td>30.4</td>\n",
              "      <td>106</td>\n",
              "      <td>1</td>\n",
              "      <td>0</td>\n",
              "      <td>1</td>\n",
              "      <td>southeast</td>\n",
              "      <td>62592</td>\n",
              "    </tr>\n",
              "    <tr>\n",
              "      <th>1339</th>\n",
              "      <td>1340</td>\n",
              "      <td>30</td>\n",
              "      <td>1</td>\n",
              "      <td>47.4</td>\n",
              "      <td>101</td>\n",
              "      <td>1</td>\n",
              "      <td>0</td>\n",
              "      <td>1</td>\n",
              "      <td>southeast</td>\n",
              "      <td>63770</td>\n",
              "    </tr>\n",
              "  </tbody>\n",
              "</table>\n",
              "<p>1337 rows × 10 columns</p>\n",
              "</div>\n",
              "      <button class=\"colab-df-convert\" onclick=\"convertToInteractive('df-87ae4444-7b83-45d5-8881-4529b02f1881')\"\n",
              "              title=\"Convert this dataframe to an interactive table.\"\n",
              "              style=\"display:none;\">\n",
              "\n",
              "  <svg xmlns=\"http://www.w3.org/2000/svg\" height=\"24px\"viewBox=\"0 0 24 24\"\n",
              "       width=\"24px\">\n",
              "    <path d=\"M0 0h24v24H0V0z\" fill=\"none\"/>\n",
              "    <path d=\"M18.56 5.44l.94 2.06.94-2.06 2.06-.94-2.06-.94-.94-2.06-.94 2.06-2.06.94zm-11 1L8.5 8.5l.94-2.06 2.06-.94-2.06-.94L8.5 2.5l-.94 2.06-2.06.94zm10 10l.94 2.06.94-2.06 2.06-.94-2.06-.94-.94-2.06-.94 2.06-2.06.94z\"/><path d=\"M17.41 7.96l-1.37-1.37c-.4-.4-.92-.59-1.43-.59-.52 0-1.04.2-1.43.59L10.3 9.45l-7.72 7.72c-.78.78-.78 2.05 0 2.83L4 21.41c.39.39.9.59 1.41.59.51 0 1.02-.2 1.41-.59l7.78-7.78 2.81-2.81c.8-.78.8-2.07 0-2.86zM5.41 20L4 18.59l7.72-7.72 1.47 1.35L5.41 20z\"/>\n",
              "  </svg>\n",
              "      </button>\n",
              "\n",
              "\n",
              "\n",
              "    <div id=\"df-0ee5bcd2-45b7-4e9a-b6a6-a51d329e09c6\">\n",
              "      <button class=\"colab-df-quickchart\" onclick=\"quickchart('df-0ee5bcd2-45b7-4e9a-b6a6-a51d329e09c6')\"\n",
              "              title=\"Suggest charts.\"\n",
              "              style=\"display:none;\">\n",
              "\n",
              "<svg xmlns=\"http://www.w3.org/2000/svg\" height=\"24px\"viewBox=\"0 0 24 24\"\n",
              "     width=\"24px\">\n",
              "    <g>\n",
              "        <path d=\"M19 3H5c-1.1 0-2 .9-2 2v14c0 1.1.9 2 2 2h14c1.1 0 2-.9 2-2V5c0-1.1-.9-2-2-2zM9 17H7v-7h2v7zm4 0h-2V7h2v10zm4 0h-2v-4h2v4z\"/>\n",
              "    </g>\n",
              "</svg>\n",
              "      </button>\n",
              "    </div>\n",
              "\n",
              "<style>\n",
              "  .colab-df-quickchart {\n",
              "    background-color: #E8F0FE;\n",
              "    border: none;\n",
              "    border-radius: 50%;\n",
              "    cursor: pointer;\n",
              "    display: none;\n",
              "    fill: #1967D2;\n",
              "    height: 32px;\n",
              "    padding: 0 0 0 0;\n",
              "    width: 32px;\n",
              "  }\n",
              "\n",
              "  .colab-df-quickchart:hover {\n",
              "    background-color: #E2EBFA;\n",
              "    box-shadow: 0px 1px 2px rgba(60, 64, 67, 0.3), 0px 1px 3px 1px rgba(60, 64, 67, 0.15);\n",
              "    fill: #174EA6;\n",
              "  }\n",
              "\n",
              "  [theme=dark] .colab-df-quickchart {\n",
              "    background-color: #3B4455;\n",
              "    fill: #D2E3FC;\n",
              "  }\n",
              "\n",
              "  [theme=dark] .colab-df-quickchart:hover {\n",
              "    background-color: #434B5C;\n",
              "    box-shadow: 0px 1px 3px 1px rgba(0, 0, 0, 0.15);\n",
              "    filter: drop-shadow(0px 1px 2px rgba(0, 0, 0, 0.3));\n",
              "    fill: #FFFFFF;\n",
              "  }\n",
              "</style>\n",
              "\n",
              "    <script>\n",
              "      async function quickchart(key) {\n",
              "        const containerElement = document.querySelector('#' + key);\n",
              "        const charts = await google.colab.kernel.invokeFunction(\n",
              "            'suggestCharts', [key], {});\n",
              "      }\n",
              "    </script>\n",
              "\n",
              "      <script>\n",
              "\n",
              "function displayQuickchartButton(domScope) {\n",
              "  let quickchartButtonEl =\n",
              "    domScope.querySelector('#df-0ee5bcd2-45b7-4e9a-b6a6-a51d329e09c6 button.colab-df-quickchart');\n",
              "  quickchartButtonEl.style.display =\n",
              "    google.colab.kernel.accessAllowed ? 'block' : 'none';\n",
              "}\n",
              "\n",
              "        displayQuickchartButton(document);\n",
              "      </script>\n",
              "      <style>\n",
              "    .colab-df-container {\n",
              "      display:flex;\n",
              "      flex-wrap:wrap;\n",
              "      gap: 12px;\n",
              "    }\n",
              "\n",
              "    .colab-df-convert {\n",
              "      background-color: #E8F0FE;\n",
              "      border: none;\n",
              "      border-radius: 50%;\n",
              "      cursor: pointer;\n",
              "      display: none;\n",
              "      fill: #1967D2;\n",
              "      height: 32px;\n",
              "      padding: 0 0 0 0;\n",
              "      width: 32px;\n",
              "    }\n",
              "\n",
              "    .colab-df-convert:hover {\n",
              "      background-color: #E2EBFA;\n",
              "      box-shadow: 0px 1px 2px rgba(60, 64, 67, 0.3), 0px 1px 3px 1px rgba(60, 64, 67, 0.15);\n",
              "      fill: #174EA6;\n",
              "    }\n",
              "\n",
              "    [theme=dark] .colab-df-convert {\n",
              "      background-color: #3B4455;\n",
              "      fill: #D2E3FC;\n",
              "    }\n",
              "\n",
              "    [theme=dark] .colab-df-convert:hover {\n",
              "      background-color: #434B5C;\n",
              "      box-shadow: 0px 1px 3px 1px rgba(0, 0, 0, 0.15);\n",
              "      filter: drop-shadow(0px 1px 2px rgba(0, 0, 0, 0.3));\n",
              "      fill: #FFFFFF;\n",
              "    }\n",
              "  </style>\n",
              "\n",
              "      <script>\n",
              "        const buttonEl =\n",
              "          document.querySelector('#df-87ae4444-7b83-45d5-8881-4529b02f1881 button.colab-df-convert');\n",
              "        buttonEl.style.display =\n",
              "          google.colab.kernel.accessAllowed ? 'block' : 'none';\n",
              "\n",
              "        async function convertToInteractive(key) {\n",
              "          const element = document.querySelector('#df-87ae4444-7b83-45d5-8881-4529b02f1881');\n",
              "          const dataTable =\n",
              "            await google.colab.kernel.invokeFunction('convertToInteractive',\n",
              "                                                     [key], {});\n",
              "          if (!dataTable) return;\n",
              "\n",
              "          const docLinkHtml = 'Like what you see? Visit the ' +\n",
              "            '<a target=\"_blank\" href=https://colab.research.google.com/notebooks/data_table.ipynb>data table notebook</a>'\n",
              "            + ' to learn more about interactive tables.';\n",
              "          element.innerHTML = '';\n",
              "          dataTable['output_type'] = 'display_data';\n",
              "          await google.colab.output.renderOutput(dataTable, element);\n",
              "          const docLink = document.createElement('div');\n",
              "          docLink.innerHTML = docLinkHtml;\n",
              "          element.appendChild(docLink);\n",
              "        }\n",
              "      </script>\n",
              "    </div>\n",
              "  </div>\n"
            ]
          },
          "metadata": {},
          "execution_count": 36
        }
      ]
    },
    {
      "cell_type": "code",
      "source": [
        "px.box(df2, 'claim', width=500)"
      ],
      "metadata": {
        "colab": {
          "base_uri": "https://localhost:8080/",
          "height": 542
        },
        "id": "r0u7tGNkWfEj",
        "outputId": "bb6941dc-9254-4c92-be69-3933414abf43"
      },
      "execution_count": 37,
      "outputs": [
        {
          "output_type": "display_data",
          "data": {
            "text/html": [
              "<html>\n",
              "<head><meta charset=\"utf-8\" /></head>\n",
              "<body>\n",
              "    <div>            <script src=\"https://cdnjs.cloudflare.com/ajax/libs/mathjax/2.7.5/MathJax.js?config=TeX-AMS-MML_SVG\"></script><script type=\"text/javascript\">if (window.MathJax && window.MathJax.Hub && window.MathJax.Hub.Config) {window.MathJax.Hub.Config({SVG: {font: \"STIX-Web\"}});}</script>                <script type=\"text/javascript\">window.PlotlyConfig = {MathJaxConfig: 'local'};</script>\n",
              "        <script src=\"https://cdn.plot.ly/plotly-2.18.2.min.js\"></script>                <div id=\"65b2ae2d-f206-4f80-b531-681d822c4bde\" class=\"plotly-graph-div\" style=\"height:525px; width:500px;\"></div>            <script type=\"text/javascript\">                                    window.PLOTLYENV=window.PLOTLYENV || {};                                    if (document.getElementById(\"65b2ae2d-f206-4f80-b531-681d822c4bde\")) {                    Plotly.newPlot(                        \"65b2ae2d-f206-4f80-b531-681d822c4bde\",                        [{\"alignmentgroup\":\"True\",\"hovertemplate\":\"claim=%{x}<extra></extra>\",\"legendgroup\":\"\",\"marker\":{\"color\":\"#636efa\"},\"name\":\"\",\"notched\":false,\"offsetgroup\":\"\",\"orientation\":\"h\",\"showlegend\":false,\"x\":[1121,1131,1135,1136,1137,1137,1141,1146,1149,1163,1241,1242,1242,1261,1261,1263,1391,1515,1526,1532,1534,1607,1149,1615,1621,1621,1622,1625,1627,1628,1629,1631,1631,1632,1632,1633,1633,1634,1635,1639,1639,1646,1665,1674,1682,1694,1702,1704,1704,1705,1708,1708,1711,1712,1719,1720,1725,1727,1727,1728,1731,1737,1743,1744,1748,1759,1769,1815,1824,1826,1832,1837,1837,1842,1875,1877,1880,1880,1906,1909,1917,1964,1967,1969,1972,1977,1980,1981,1984,1986,2007,2020,2020,2026,2045,2055,2102,2103,2104,2117,2128,2130,2134,2136,2137,2138,2150,2154,2155,2156,2166,2196,2198,2200,2201,2203,2203,2205,2207,2211,2217,2217,2219,2221,2250,2254,2257,2261,2302,2304,2322,2331,2352,2362,2395,2396,2404,2416,2438,2457,2457,2459,2464,2473,2480,2483,2494,2497,2498,2523,2527,2534,2566,2585,2585,2597,2632,2639,2643,2680,2689,2690,2699,2709,2709,2710,2719,2721,2727,2730,2731,2741,2755,2775,2789,2801,2803,2842,2850,2855,2866,2867,2897,2899,2902,2904,2913,2927,2974,3021,3044,3046,3056,3062,3070,1704,3077,3161,3167,3171,3172,3176,3176,3180,3201,3206,3208,3213,3227,3238,3260,3268,3277,3279,3292,3309,3353,3353,3366,3378,3385,3392,3392,3393,3410,3443,3471,3481,3484,3490,3500,3537,3554,3556,3558,3561,3578,3579,3591,3594,3597,3645,3659,3693,3704,3732,3736,3756,3757,3761,3766,3847,3857,3861,3866,3875,3877,3906,3925,3935,3943,3947,3956,3972,3981,3987,3989,3994,4005,4032,4040,4058,4058,4074,4076,4133,4134,4137,4149,4151,4185,4189,4234,4237,4239,4243,4260,4266,4296,4320,4337,4340,4347,4349,4350,4357,4391,4399,4402,4415,4428,4433,4433,4435,4438,4441,4449,4454,4462,4463,4466,4500,4504,4518,4527,4529,4536,4544,4561,4562,4564,4571,4618,4646,4661,4667,4670,4673,4686,4687,4718,4719,4719,4738,4746,4747,4751,4753,4762,4766,4779,4795,4827,4830,4837,4846,4877,4883,4889,4890,4894,4906,4915,4922,4931,4934,4949,4992,5002,5003,5012,5028,5031,5080,5116,5124,5125,5138,5148,5152,5209,5227,5240,5245,5246,5253,5257,5261,5266,5267,5272,5312,5325,5327,5354,5373,5375,5377,5383,5385,5397,5400,5415,5425,5428,5438,5458,5469,5472,5478,5484,5488,5584,5594,5615,5630,5649,5662,5693,5699,5708,5709,5729,5757,5836,5846,5855,5910,5920,5926,5934,5966,5969,5972,5974,5976,5979,5989,6059,6067,6079,6082,6112,6113,6117,6123,6128,6184,6185,6186,6196,6198,6203,6238,6250,6272,6282,6289,6311,6313,6334,6338,6356,6358,6360,6373,6389,6393,6402,6406,6414,6435,6455,6457,6474,6496,6500,6548,6551,6555,6571,6571,6593,6600,6600,6610,6640,6652,6653,6664,6666,6686,6710,6746,6748,6753,6770,6775,6781,6796,6799,6837,6849,6858,6875,6877,6933,6940,6948,6985,6986,7045,7046,7050,7050,7077,7133,7144,7147,7147,7151,7152,7153,7160,7160,7162,7173,7196,7201,7209,7222,7228,7243,7256,7261,7265,7281,7323,7325,7337,7345,7345,7348,7358,7371,7418,7419,7421,7441,7441,7443,7445,7448,7512,7518,7526,7537,7623,7624,7626,7633,7639,7640,7650,7682,7726,7727,7729,7731,7731,7740,7742,7749,7789,7804,7935,7954,7985,7986,8017,8023,8026,8027,8059,8062,8068,8083,8116,8116,8124,8125,8162,8211,8219,8232,8233,8240,8252,8269,8277,8280,8283,8302,8310,8334,8334,8342,8347,8410,8413,8428,8442,8444,8457,8515,8516,8520,8522,8527,8534,8538,8539,8547,8551,8556,8569,8582,8596,8601,8603,8604,8605,8606,8615,8627,8671,8688,8703,8733,8765,8782,8798,8823,8823,8825,8827,8835,8871,8891,8930,8932,8944,8964,8965,8968,8978,8988,9048,9058,9095,9101,9140,9144,9174,9182,9193,9222,9225,9249,9264,9282,9283,9288,9290,9301,9304,9361,9377,9386,9391,9411,9414,9432,9447,9447,9487,9500,9504,9541,9549,9563,9566,9583,9617,9620,9625,9630,9634,9644,9704,9715,9722,9724,9748,9778,9788,9800,9850,9855,9861,9863,9866,9869,9872,9875,9877,9880,9910,9957,9964,9991,10043,10065,10072,10085,10096,10106,10107,10115,10118,10141,10156,10197,10214,10226,10231,10264,10269,10325,10338,10355,10370,10381,10407,10422,10435,10436,10450,10461,10493,10560,10564,10577,10579,10594,10594,10600,10601,10601,10602,10702,10704,10713,10736,10791,10795,10796,10797,10806,10807,10825,10848,10923,10928,10942,10959,10959,10965,10976,10977,10982,11013,11015,11033,11070,11073,11082,11085,11090,11093,11150,11163,11165,11187,11244,11253,11264,11272,11286,11289,11299,11305,11326,11345,11353,11356,11362,11363,11365,11381,11394,11396,11411,11436,11454,11455,11482,11488,11512,11520,11534,11538,11552,11554,11566,11576,11657,11658,11658,11674,11729,11735,11737,11741,11743,11743,11763,11830,11833,11837,11840,11842,11842,11848,11856,11879,11881,11881,11884,11931,11938,11944,11945,11946,11987,12029,12032,12044,12094,12096,12105,12124,12129,12142,12146,12222,12224,12231,12233,12235,12244,12265,12268,12269,12323,12333,12347,12363,12404,12430,12475,12479,12485,12495,12523,12557,12574,12592,12609,12622,12629,12629,12638,12643,12644,12646,12648,12731,12741,12797,12815,12829,12890,12913,12925,12928,12949,12950,12957,12979,12981,12982,13012,13019,13041,13047,13063,13112,13126,13129,13143,13143,13204,13217,13224,13224,13228,13352,13390,13393,13405,13415,13429,13430,13451,13457,13462,13470,13470,13555,13607,13616,13635,13725,13747,13770,13822,13831,13844,13844,13880,13887,13887,13919,13937,13974,13981,14001,14001,14007,14043,14119,14133,14210,14235,14254,14256,14283,14313,14319,14349,14358,14382,14394,14394,14410,14418,14426,14449,14451,14455,14474,14478,14571,14590,14692,14711,14901,14988,15006,15019,15161,15170,15230,15359,15518,15555,15612,15817,15820,15828,16069,16085,16115,16138,16232,16297,16420,16450,16455,16577,16586,16657,16776,16796,16884,17043,17081,17085,17128,17178,17179,17352,17361,17468,17496,17560,17626,17663,17748,17878,17904,17929,17942,18033,18157,18218,18223,18246,18259,18310,18328,18608,18648,18765,18767,18804,18806,18838,18903,18955,18963,18972,19023,19040,19107,19144,19199,19214,19350,19362,19442,19444,19496,19515,19521,19539,19594,19673,19719,19749,19798,19933,19964,20009,20149,20167,20177,20234,20277,20296,20420,20463,20630,20709,20745,20773,20781,20878,20984,21082,21098,21195,21223,21232,21259,21344,21348,21472,21595,21659,21677,21771,21774,21797,21880,21978,21984,22144,22192,22218,22331,22395,22412,22462,22478,22493,23045,23065,23082,23241,23244,23288,23306,23401,23563,23568,23807,23887,23967,24059,24106,24180,24227,24393,24476,24513,24520,24535,24603,24667,24671,24869,24873,24915,24915,25081,25309,25333,25382,25517,25656,25678,25992,26018,26109,26125,26140,26236,26392,26467,26926,27000,27037,27117,27218,27322,27346,27375,27533,27724,27808,27941,28101,28287,28340,28468,28476,28868,28923,28950,29141,29186,29330,29523,30063,30166,30184,30260,30284,30942,31620,32108,32548,32734,32787,33307,33471,33475,33732,33750,33900,33907,34166,34254,34303,34439,34472,34617,34672,34779,34806,34828,34838,35069,35147,35160,35491,35585,35595,36021,36085,36124,36149,36189,36197,36219,36307,36397,36580,36837,36898,36910,36950,37079,37133,37165,37270,37465,37484,37607,37701,37742,37829,38126,38245,38282,38344,38415,38511,38709,38711,38746,38792,38998,39047,39125,39241,39556,39597,39611,39722,39725,39727,39774,39836,39871,39983,40003,40103,40182,40273,40419,40720,40904,40932,40941,40974,41034,41097,41661,41676,41919,41949,41999,42111,42112,42124,42211,42303,42560,42760,42856,42969,42983,43254,43578,43753,43813,43896,43921,43943,44202,44260,44400,44423,44501,44585,44641,45008,45702,45710,45863,46113,46130,46151,46200,46255,46599,46661,46718,46889,47055,47269,47291,47305,47403,47462,47496,47896,47928,48173,48517,48549,48673,48675,48824,48885,48970,49577,51194,52590,55135,58571,60021,62592,63770],\"x0\":\" \",\"xaxis\":\"x\",\"y0\":\" \",\"yaxis\":\"y\",\"type\":\"box\"}],                        {\"template\":{\"data\":{\"histogram2dcontour\":[{\"type\":\"histogram2dcontour\",\"colorbar\":{\"outlinewidth\":0,\"ticks\":\"\"},\"colorscale\":[[0.0,\"#0d0887\"],[0.1111111111111111,\"#46039f\"],[0.2222222222222222,\"#7201a8\"],[0.3333333333333333,\"#9c179e\"],[0.4444444444444444,\"#bd3786\"],[0.5555555555555556,\"#d8576b\"],[0.6666666666666666,\"#ed7953\"],[0.7777777777777778,\"#fb9f3a\"],[0.8888888888888888,\"#fdca26\"],[1.0,\"#f0f921\"]]}],\"choropleth\":[{\"type\":\"choropleth\",\"colorbar\":{\"outlinewidth\":0,\"ticks\":\"\"}}],\"histogram2d\":[{\"type\":\"histogram2d\",\"colorbar\":{\"outlinewidth\":0,\"ticks\":\"\"},\"colorscale\":[[0.0,\"#0d0887\"],[0.1111111111111111,\"#46039f\"],[0.2222222222222222,\"#7201a8\"],[0.3333333333333333,\"#9c179e\"],[0.4444444444444444,\"#bd3786\"],[0.5555555555555556,\"#d8576b\"],[0.6666666666666666,\"#ed7953\"],[0.7777777777777778,\"#fb9f3a\"],[0.8888888888888888,\"#fdca26\"],[1.0,\"#f0f921\"]]}],\"heatmap\":[{\"type\":\"heatmap\",\"colorbar\":{\"outlinewidth\":0,\"ticks\":\"\"},\"colorscale\":[[0.0,\"#0d0887\"],[0.1111111111111111,\"#46039f\"],[0.2222222222222222,\"#7201a8\"],[0.3333333333333333,\"#9c179e\"],[0.4444444444444444,\"#bd3786\"],[0.5555555555555556,\"#d8576b\"],[0.6666666666666666,\"#ed7953\"],[0.7777777777777778,\"#fb9f3a\"],[0.8888888888888888,\"#fdca26\"],[1.0,\"#f0f921\"]]}],\"heatmapgl\":[{\"type\":\"heatmapgl\",\"colorbar\":{\"outlinewidth\":0,\"ticks\":\"\"},\"colorscale\":[[0.0,\"#0d0887\"],[0.1111111111111111,\"#46039f\"],[0.2222222222222222,\"#7201a8\"],[0.3333333333333333,\"#9c179e\"],[0.4444444444444444,\"#bd3786\"],[0.5555555555555556,\"#d8576b\"],[0.6666666666666666,\"#ed7953\"],[0.7777777777777778,\"#fb9f3a\"],[0.8888888888888888,\"#fdca26\"],[1.0,\"#f0f921\"]]}],\"contourcarpet\":[{\"type\":\"contourcarpet\",\"colorbar\":{\"outlinewidth\":0,\"ticks\":\"\"}}],\"contour\":[{\"type\":\"contour\",\"colorbar\":{\"outlinewidth\":0,\"ticks\":\"\"},\"colorscale\":[[0.0,\"#0d0887\"],[0.1111111111111111,\"#46039f\"],[0.2222222222222222,\"#7201a8\"],[0.3333333333333333,\"#9c179e\"],[0.4444444444444444,\"#bd3786\"],[0.5555555555555556,\"#d8576b\"],[0.6666666666666666,\"#ed7953\"],[0.7777777777777778,\"#fb9f3a\"],[0.8888888888888888,\"#fdca26\"],[1.0,\"#f0f921\"]]}],\"surface\":[{\"type\":\"surface\",\"colorbar\":{\"outlinewidth\":0,\"ticks\":\"\"},\"colorscale\":[[0.0,\"#0d0887\"],[0.1111111111111111,\"#46039f\"],[0.2222222222222222,\"#7201a8\"],[0.3333333333333333,\"#9c179e\"],[0.4444444444444444,\"#bd3786\"],[0.5555555555555556,\"#d8576b\"],[0.6666666666666666,\"#ed7953\"],[0.7777777777777778,\"#fb9f3a\"],[0.8888888888888888,\"#fdca26\"],[1.0,\"#f0f921\"]]}],\"mesh3d\":[{\"type\":\"mesh3d\",\"colorbar\":{\"outlinewidth\":0,\"ticks\":\"\"}}],\"scatter\":[{\"fillpattern\":{\"fillmode\":\"overlay\",\"size\":10,\"solidity\":0.2},\"type\":\"scatter\"}],\"parcoords\":[{\"type\":\"parcoords\",\"line\":{\"colorbar\":{\"outlinewidth\":0,\"ticks\":\"\"}}}],\"scatterpolargl\":[{\"type\":\"scatterpolargl\",\"marker\":{\"colorbar\":{\"outlinewidth\":0,\"ticks\":\"\"}}}],\"bar\":[{\"error_x\":{\"color\":\"#2a3f5f\"},\"error_y\":{\"color\":\"#2a3f5f\"},\"marker\":{\"line\":{\"color\":\"#E5ECF6\",\"width\":0.5},\"pattern\":{\"fillmode\":\"overlay\",\"size\":10,\"solidity\":0.2}},\"type\":\"bar\"}],\"scattergeo\":[{\"type\":\"scattergeo\",\"marker\":{\"colorbar\":{\"outlinewidth\":0,\"ticks\":\"\"}}}],\"scatterpolar\":[{\"type\":\"scatterpolar\",\"marker\":{\"colorbar\":{\"outlinewidth\":0,\"ticks\":\"\"}}}],\"histogram\":[{\"marker\":{\"pattern\":{\"fillmode\":\"overlay\",\"size\":10,\"solidity\":0.2}},\"type\":\"histogram\"}],\"scattergl\":[{\"type\":\"scattergl\",\"marker\":{\"colorbar\":{\"outlinewidth\":0,\"ticks\":\"\"}}}],\"scatter3d\":[{\"type\":\"scatter3d\",\"line\":{\"colorbar\":{\"outlinewidth\":0,\"ticks\":\"\"}},\"marker\":{\"colorbar\":{\"outlinewidth\":0,\"ticks\":\"\"}}}],\"scattermapbox\":[{\"type\":\"scattermapbox\",\"marker\":{\"colorbar\":{\"outlinewidth\":0,\"ticks\":\"\"}}}],\"scatterternary\":[{\"type\":\"scatterternary\",\"marker\":{\"colorbar\":{\"outlinewidth\":0,\"ticks\":\"\"}}}],\"scattercarpet\":[{\"type\":\"scattercarpet\",\"marker\":{\"colorbar\":{\"outlinewidth\":0,\"ticks\":\"\"}}}],\"carpet\":[{\"aaxis\":{\"endlinecolor\":\"#2a3f5f\",\"gridcolor\":\"white\",\"linecolor\":\"white\",\"minorgridcolor\":\"white\",\"startlinecolor\":\"#2a3f5f\"},\"baxis\":{\"endlinecolor\":\"#2a3f5f\",\"gridcolor\":\"white\",\"linecolor\":\"white\",\"minorgridcolor\":\"white\",\"startlinecolor\":\"#2a3f5f\"},\"type\":\"carpet\"}],\"table\":[{\"cells\":{\"fill\":{\"color\":\"#EBF0F8\"},\"line\":{\"color\":\"white\"}},\"header\":{\"fill\":{\"color\":\"#C8D4E3\"},\"line\":{\"color\":\"white\"}},\"type\":\"table\"}],\"barpolar\":[{\"marker\":{\"line\":{\"color\":\"#E5ECF6\",\"width\":0.5},\"pattern\":{\"fillmode\":\"overlay\",\"size\":10,\"solidity\":0.2}},\"type\":\"barpolar\"}],\"pie\":[{\"automargin\":true,\"type\":\"pie\"}]},\"layout\":{\"autotypenumbers\":\"strict\",\"colorway\":[\"#636efa\",\"#EF553B\",\"#00cc96\",\"#ab63fa\",\"#FFA15A\",\"#19d3f3\",\"#FF6692\",\"#B6E880\",\"#FF97FF\",\"#FECB52\"],\"font\":{\"color\":\"#2a3f5f\"},\"hovermode\":\"closest\",\"hoverlabel\":{\"align\":\"left\"},\"paper_bgcolor\":\"white\",\"plot_bgcolor\":\"#E5ECF6\",\"polar\":{\"bgcolor\":\"#E5ECF6\",\"angularaxis\":{\"gridcolor\":\"white\",\"linecolor\":\"white\",\"ticks\":\"\"},\"radialaxis\":{\"gridcolor\":\"white\",\"linecolor\":\"white\",\"ticks\":\"\"}},\"ternary\":{\"bgcolor\":\"#E5ECF6\",\"aaxis\":{\"gridcolor\":\"white\",\"linecolor\":\"white\",\"ticks\":\"\"},\"baxis\":{\"gridcolor\":\"white\",\"linecolor\":\"white\",\"ticks\":\"\"},\"caxis\":{\"gridcolor\":\"white\",\"linecolor\":\"white\",\"ticks\":\"\"}},\"coloraxis\":{\"colorbar\":{\"outlinewidth\":0,\"ticks\":\"\"}},\"colorscale\":{\"sequential\":[[0.0,\"#0d0887\"],[0.1111111111111111,\"#46039f\"],[0.2222222222222222,\"#7201a8\"],[0.3333333333333333,\"#9c179e\"],[0.4444444444444444,\"#bd3786\"],[0.5555555555555556,\"#d8576b\"],[0.6666666666666666,\"#ed7953\"],[0.7777777777777778,\"#fb9f3a\"],[0.8888888888888888,\"#fdca26\"],[1.0,\"#f0f921\"]],\"sequentialminus\":[[0.0,\"#0d0887\"],[0.1111111111111111,\"#46039f\"],[0.2222222222222222,\"#7201a8\"],[0.3333333333333333,\"#9c179e\"],[0.4444444444444444,\"#bd3786\"],[0.5555555555555556,\"#d8576b\"],[0.6666666666666666,\"#ed7953\"],[0.7777777777777778,\"#fb9f3a\"],[0.8888888888888888,\"#fdca26\"],[1.0,\"#f0f921\"]],\"diverging\":[[0,\"#8e0152\"],[0.1,\"#c51b7d\"],[0.2,\"#de77ae\"],[0.3,\"#f1b6da\"],[0.4,\"#fde0ef\"],[0.5,\"#f7f7f7\"],[0.6,\"#e6f5d0\"],[0.7,\"#b8e186\"],[0.8,\"#7fbc41\"],[0.9,\"#4d9221\"],[1,\"#276419\"]]},\"xaxis\":{\"gridcolor\":\"white\",\"linecolor\":\"white\",\"ticks\":\"\",\"title\":{\"standoff\":15},\"zerolinecolor\":\"white\",\"automargin\":true,\"zerolinewidth\":2},\"yaxis\":{\"gridcolor\":\"white\",\"linecolor\":\"white\",\"ticks\":\"\",\"title\":{\"standoff\":15},\"zerolinecolor\":\"white\",\"automargin\":true,\"zerolinewidth\":2},\"scene\":{\"xaxis\":{\"backgroundcolor\":\"#E5ECF6\",\"gridcolor\":\"white\",\"linecolor\":\"white\",\"showbackground\":true,\"ticks\":\"\",\"zerolinecolor\":\"white\",\"gridwidth\":2},\"yaxis\":{\"backgroundcolor\":\"#E5ECF6\",\"gridcolor\":\"white\",\"linecolor\":\"white\",\"showbackground\":true,\"ticks\":\"\",\"zerolinecolor\":\"white\",\"gridwidth\":2},\"zaxis\":{\"backgroundcolor\":\"#E5ECF6\",\"gridcolor\":\"white\",\"linecolor\":\"white\",\"showbackground\":true,\"ticks\":\"\",\"zerolinecolor\":\"white\",\"gridwidth\":2}},\"shapedefaults\":{\"line\":{\"color\":\"#2a3f5f\"}},\"annotationdefaults\":{\"arrowcolor\":\"#2a3f5f\",\"arrowhead\":0,\"arrowwidth\":1},\"geo\":{\"bgcolor\":\"white\",\"landcolor\":\"#E5ECF6\",\"subunitcolor\":\"white\",\"showland\":true,\"showlakes\":true,\"lakecolor\":\"white\"},\"title\":{\"x\":0.05},\"mapbox\":{\"style\":\"light\"}}},\"xaxis\":{\"anchor\":\"y\",\"domain\":[0.0,1.0],\"title\":{\"text\":\"claim\"}},\"yaxis\":{\"anchor\":\"x\",\"domain\":[0.0,1.0]},\"legend\":{\"tracegroupgap\":0},\"margin\":{\"t\":60},\"boxmode\":\"group\",\"width\":500},                        {\"responsive\": true}                    ).then(function(){\n",
              "                            \n",
              "var gd = document.getElementById('65b2ae2d-f206-4f80-b531-681d822c4bde');\n",
              "var x = new MutationObserver(function (mutations, observer) {{\n",
              "        var display = window.getComputedStyle(gd).display;\n",
              "        if (!display || display === 'none') {{\n",
              "            console.log([gd, 'removed!']);\n",
              "            Plotly.purge(gd);\n",
              "            observer.disconnect();\n",
              "        }}\n",
              "}});\n",
              "\n",
              "// Listen for the removal of the full notebook cells\n",
              "var notebookContainer = gd.closest('#notebook-container');\n",
              "if (notebookContainer) {{\n",
              "    x.observe(notebookContainer, {childList: true});\n",
              "}}\n",
              "\n",
              "// Listen for the clearing of the current output cell\n",
              "var outputEl = gd.closest('.output');\n",
              "if (outputEl) {{\n",
              "    x.observe(outputEl, {childList: true});\n",
              "}}\n",
              "\n",
              "                        })                };                            </script>        </div>\n",
              "</body>\n",
              "</html>"
            ]
          },
          "metadata": {}
        }
      ]
    },
    {
      "cell_type": "code",
      "source": [
        "def remove_outlier(df_name, col_name):\n",
        "  q1 = df_name[col_name].quantile(.25)\n",
        "  q3 = df_name[col_name].quantile(.75)\n",
        "  iqr = q3 - q1\n",
        "  upper = q3 + (1.5 * iqr)\n",
        "  lower = q1 - (1.5 * iqr)\n",
        "  out = df_name.loc[(df_name[col_name] < upper) & (df_name[col_name] > lower)]\n",
        "  return out"
      ],
      "metadata": {
        "id": "ay3-DbxQmUDL"
      },
      "execution_count": 38,
      "outputs": []
    },
    {
      "cell_type": "code",
      "source": [
        "def only_iqr(df_name, col_name):\n",
        "  q1 = df_name[col_name].quantile(.25)\n",
        "  q3 = df_name[col_name].quantile(.75)\n",
        "  iqr = q3 - q1\n",
        "  out = df_name.loc[(df_name[col_name] < q3) & (df_name[col_name] > q1)]\n",
        "  return out"
      ],
      "metadata": {
        "id": "tslEa_JkJmfX"
      },
      "execution_count": 39,
      "outputs": []
    },
    {
      "cell_type": "code",
      "source": [
        "df2 = only_iqr(df2, 'claim')\n",
        "df2 = only_iqr(df2, 'claim')"
      ],
      "metadata": {
        "id": "Cr0j9PGzJ1x1"
      },
      "execution_count": 40,
      "outputs": []
    },
    {
      "cell_type": "code",
      "source": [
        "df2"
      ],
      "metadata": {
        "colab": {
          "base_uri": "https://localhost:8080/",
          "height": 455
        },
        "id": "yFPZe6IWX468",
        "outputId": "bb5f6e45-2c4b-4a26-c3d6-a4b2ff2a91ba"
      },
      "execution_count": 41,
      "outputs": [
        {
          "output_type": "execute_result",
          "data": {
            "text/plain": [
              "       PatientID  age  gender   bmi  bloodpressure  diabetic  children  \\\n",
              "index                                                                    \n",
              "505          506   34       1  26.2             88         0         1   \n",
              "506          507   56       1  32.9             84         0         0   \n",
              "507          508   26       1  29.0             93         1         1   \n",
              "508          509   33       1  25.5             87         1         1   \n",
              "509          510   50       1  20.0             89         0         2   \n",
              "...          ...  ...     ...   ...            ...       ...       ...   \n",
              "833          834   25       1  30.5            110         1         0   \n",
              "834          835   45       1  29.0             87         1         0   \n",
              "835          836   33       1  31.8             95         1         0   \n",
              "836          837   26       1  33.1            110         1         0   \n",
              "837          838   50       1  39.1            100         1         0   \n",
              "\n",
              "       smoker     region  claim  \n",
              "index                            \n",
              "505         0  southeast   7046  \n",
              "506         0  southeast   7050  \n",
              "507         0  southwest   7050  \n",
              "508         0  southeast   7077  \n",
              "509         0  southeast   7133  \n",
              "...       ...        ...    ...  \n",
              "833         0  northwest  11840  \n",
              "834         0  southwest  11842  \n",
              "835         0  northwest  11842  \n",
              "836         0  southwest  11848  \n",
              "837         0  southeast  11856  \n",
              "\n",
              "[333 rows x 10 columns]"
            ],
            "text/html": [
              "\n",
              "\n",
              "  <div id=\"df-2b24a097-01f3-4d65-a273-7997d48eed25\">\n",
              "    <div class=\"colab-df-container\">\n",
              "      <div>\n",
              "<style scoped>\n",
              "    .dataframe tbody tr th:only-of-type {\n",
              "        vertical-align: middle;\n",
              "    }\n",
              "\n",
              "    .dataframe tbody tr th {\n",
              "        vertical-align: top;\n",
              "    }\n",
              "\n",
              "    .dataframe thead th {\n",
              "        text-align: right;\n",
              "    }\n",
              "</style>\n",
              "<table border=\"1\" class=\"dataframe\">\n",
              "  <thead>\n",
              "    <tr style=\"text-align: right;\">\n",
              "      <th></th>\n",
              "      <th>PatientID</th>\n",
              "      <th>age</th>\n",
              "      <th>gender</th>\n",
              "      <th>bmi</th>\n",
              "      <th>bloodpressure</th>\n",
              "      <th>diabetic</th>\n",
              "      <th>children</th>\n",
              "      <th>smoker</th>\n",
              "      <th>region</th>\n",
              "      <th>claim</th>\n",
              "    </tr>\n",
              "    <tr>\n",
              "      <th>index</th>\n",
              "      <th></th>\n",
              "      <th></th>\n",
              "      <th></th>\n",
              "      <th></th>\n",
              "      <th></th>\n",
              "      <th></th>\n",
              "      <th></th>\n",
              "      <th></th>\n",
              "      <th></th>\n",
              "      <th></th>\n",
              "    </tr>\n",
              "  </thead>\n",
              "  <tbody>\n",
              "    <tr>\n",
              "      <th>505</th>\n",
              "      <td>506</td>\n",
              "      <td>34</td>\n",
              "      <td>1</td>\n",
              "      <td>26.2</td>\n",
              "      <td>88</td>\n",
              "      <td>0</td>\n",
              "      <td>1</td>\n",
              "      <td>0</td>\n",
              "      <td>southeast</td>\n",
              "      <td>7046</td>\n",
              "    </tr>\n",
              "    <tr>\n",
              "      <th>506</th>\n",
              "      <td>507</td>\n",
              "      <td>56</td>\n",
              "      <td>1</td>\n",
              "      <td>32.9</td>\n",
              "      <td>84</td>\n",
              "      <td>0</td>\n",
              "      <td>0</td>\n",
              "      <td>0</td>\n",
              "      <td>southeast</td>\n",
              "      <td>7050</td>\n",
              "    </tr>\n",
              "    <tr>\n",
              "      <th>507</th>\n",
              "      <td>508</td>\n",
              "      <td>26</td>\n",
              "      <td>1</td>\n",
              "      <td>29.0</td>\n",
              "      <td>93</td>\n",
              "      <td>1</td>\n",
              "      <td>1</td>\n",
              "      <td>0</td>\n",
              "      <td>southwest</td>\n",
              "      <td>7050</td>\n",
              "    </tr>\n",
              "    <tr>\n",
              "      <th>508</th>\n",
              "      <td>509</td>\n",
              "      <td>33</td>\n",
              "      <td>1</td>\n",
              "      <td>25.5</td>\n",
              "      <td>87</td>\n",
              "      <td>1</td>\n",
              "      <td>1</td>\n",
              "      <td>0</td>\n",
              "      <td>southeast</td>\n",
              "      <td>7077</td>\n",
              "    </tr>\n",
              "    <tr>\n",
              "      <th>509</th>\n",
              "      <td>510</td>\n",
              "      <td>50</td>\n",
              "      <td>1</td>\n",
              "      <td>20.0</td>\n",
              "      <td>89</td>\n",
              "      <td>0</td>\n",
              "      <td>2</td>\n",
              "      <td>0</td>\n",
              "      <td>southeast</td>\n",
              "      <td>7133</td>\n",
              "    </tr>\n",
              "    <tr>\n",
              "      <th>...</th>\n",
              "      <td>...</td>\n",
              "      <td>...</td>\n",
              "      <td>...</td>\n",
              "      <td>...</td>\n",
              "      <td>...</td>\n",
              "      <td>...</td>\n",
              "      <td>...</td>\n",
              "      <td>...</td>\n",
              "      <td>...</td>\n",
              "      <td>...</td>\n",
              "    </tr>\n",
              "    <tr>\n",
              "      <th>833</th>\n",
              "      <td>834</td>\n",
              "      <td>25</td>\n",
              "      <td>1</td>\n",
              "      <td>30.5</td>\n",
              "      <td>110</td>\n",
              "      <td>1</td>\n",
              "      <td>0</td>\n",
              "      <td>0</td>\n",
              "      <td>northwest</td>\n",
              "      <td>11840</td>\n",
              "    </tr>\n",
              "    <tr>\n",
              "      <th>834</th>\n",
              "      <td>835</td>\n",
              "      <td>45</td>\n",
              "      <td>1</td>\n",
              "      <td>29.0</td>\n",
              "      <td>87</td>\n",
              "      <td>1</td>\n",
              "      <td>0</td>\n",
              "      <td>0</td>\n",
              "      <td>southwest</td>\n",
              "      <td>11842</td>\n",
              "    </tr>\n",
              "    <tr>\n",
              "      <th>835</th>\n",
              "      <td>836</td>\n",
              "      <td>33</td>\n",
              "      <td>1</td>\n",
              "      <td>31.8</td>\n",
              "      <td>95</td>\n",
              "      <td>1</td>\n",
              "      <td>0</td>\n",
              "      <td>0</td>\n",
              "      <td>northwest</td>\n",
              "      <td>11842</td>\n",
              "    </tr>\n",
              "    <tr>\n",
              "      <th>836</th>\n",
              "      <td>837</td>\n",
              "      <td>26</td>\n",
              "      <td>1</td>\n",
              "      <td>33.1</td>\n",
              "      <td>110</td>\n",
              "      <td>1</td>\n",
              "      <td>0</td>\n",
              "      <td>0</td>\n",
              "      <td>southwest</td>\n",
              "      <td>11848</td>\n",
              "    </tr>\n",
              "    <tr>\n",
              "      <th>837</th>\n",
              "      <td>838</td>\n",
              "      <td>50</td>\n",
              "      <td>1</td>\n",
              "      <td>39.1</td>\n",
              "      <td>100</td>\n",
              "      <td>1</td>\n",
              "      <td>0</td>\n",
              "      <td>0</td>\n",
              "      <td>southeast</td>\n",
              "      <td>11856</td>\n",
              "    </tr>\n",
              "  </tbody>\n",
              "</table>\n",
              "<p>333 rows × 10 columns</p>\n",
              "</div>\n",
              "      <button class=\"colab-df-convert\" onclick=\"convertToInteractive('df-2b24a097-01f3-4d65-a273-7997d48eed25')\"\n",
              "              title=\"Convert this dataframe to an interactive table.\"\n",
              "              style=\"display:none;\">\n",
              "\n",
              "  <svg xmlns=\"http://www.w3.org/2000/svg\" height=\"24px\"viewBox=\"0 0 24 24\"\n",
              "       width=\"24px\">\n",
              "    <path d=\"M0 0h24v24H0V0z\" fill=\"none\"/>\n",
              "    <path d=\"M18.56 5.44l.94 2.06.94-2.06 2.06-.94-2.06-.94-.94-2.06-.94 2.06-2.06.94zm-11 1L8.5 8.5l.94-2.06 2.06-.94-2.06-.94L8.5 2.5l-.94 2.06-2.06.94zm10 10l.94 2.06.94-2.06 2.06-.94-2.06-.94-.94-2.06-.94 2.06-2.06.94z\"/><path d=\"M17.41 7.96l-1.37-1.37c-.4-.4-.92-.59-1.43-.59-.52 0-1.04.2-1.43.59L10.3 9.45l-7.72 7.72c-.78.78-.78 2.05 0 2.83L4 21.41c.39.39.9.59 1.41.59.51 0 1.02-.2 1.41-.59l7.78-7.78 2.81-2.81c.8-.78.8-2.07 0-2.86zM5.41 20L4 18.59l7.72-7.72 1.47 1.35L5.41 20z\"/>\n",
              "  </svg>\n",
              "      </button>\n",
              "\n",
              "\n",
              "\n",
              "    <div id=\"df-46732ee4-5ba1-41b4-a2c9-d176346ad447\">\n",
              "      <button class=\"colab-df-quickchart\" onclick=\"quickchart('df-46732ee4-5ba1-41b4-a2c9-d176346ad447')\"\n",
              "              title=\"Suggest charts.\"\n",
              "              style=\"display:none;\">\n",
              "\n",
              "<svg xmlns=\"http://www.w3.org/2000/svg\" height=\"24px\"viewBox=\"0 0 24 24\"\n",
              "     width=\"24px\">\n",
              "    <g>\n",
              "        <path d=\"M19 3H5c-1.1 0-2 .9-2 2v14c0 1.1.9 2 2 2h14c1.1 0 2-.9 2-2V5c0-1.1-.9-2-2-2zM9 17H7v-7h2v7zm4 0h-2V7h2v10zm4 0h-2v-4h2v4z\"/>\n",
              "    </g>\n",
              "</svg>\n",
              "      </button>\n",
              "    </div>\n",
              "\n",
              "<style>\n",
              "  .colab-df-quickchart {\n",
              "    background-color: #E8F0FE;\n",
              "    border: none;\n",
              "    border-radius: 50%;\n",
              "    cursor: pointer;\n",
              "    display: none;\n",
              "    fill: #1967D2;\n",
              "    height: 32px;\n",
              "    padding: 0 0 0 0;\n",
              "    width: 32px;\n",
              "  }\n",
              "\n",
              "  .colab-df-quickchart:hover {\n",
              "    background-color: #E2EBFA;\n",
              "    box-shadow: 0px 1px 2px rgba(60, 64, 67, 0.3), 0px 1px 3px 1px rgba(60, 64, 67, 0.15);\n",
              "    fill: #174EA6;\n",
              "  }\n",
              "\n",
              "  [theme=dark] .colab-df-quickchart {\n",
              "    background-color: #3B4455;\n",
              "    fill: #D2E3FC;\n",
              "  }\n",
              "\n",
              "  [theme=dark] .colab-df-quickchart:hover {\n",
              "    background-color: #434B5C;\n",
              "    box-shadow: 0px 1px 3px 1px rgba(0, 0, 0, 0.15);\n",
              "    filter: drop-shadow(0px 1px 2px rgba(0, 0, 0, 0.3));\n",
              "    fill: #FFFFFF;\n",
              "  }\n",
              "</style>\n",
              "\n",
              "    <script>\n",
              "      async function quickchart(key) {\n",
              "        const containerElement = document.querySelector('#' + key);\n",
              "        const charts = await google.colab.kernel.invokeFunction(\n",
              "            'suggestCharts', [key], {});\n",
              "      }\n",
              "    </script>\n",
              "\n",
              "      <script>\n",
              "\n",
              "function displayQuickchartButton(domScope) {\n",
              "  let quickchartButtonEl =\n",
              "    domScope.querySelector('#df-46732ee4-5ba1-41b4-a2c9-d176346ad447 button.colab-df-quickchart');\n",
              "  quickchartButtonEl.style.display =\n",
              "    google.colab.kernel.accessAllowed ? 'block' : 'none';\n",
              "}\n",
              "\n",
              "        displayQuickchartButton(document);\n",
              "      </script>\n",
              "      <style>\n",
              "    .colab-df-container {\n",
              "      display:flex;\n",
              "      flex-wrap:wrap;\n",
              "      gap: 12px;\n",
              "    }\n",
              "\n",
              "    .colab-df-convert {\n",
              "      background-color: #E8F0FE;\n",
              "      border: none;\n",
              "      border-radius: 50%;\n",
              "      cursor: pointer;\n",
              "      display: none;\n",
              "      fill: #1967D2;\n",
              "      height: 32px;\n",
              "      padding: 0 0 0 0;\n",
              "      width: 32px;\n",
              "    }\n",
              "\n",
              "    .colab-df-convert:hover {\n",
              "      background-color: #E2EBFA;\n",
              "      box-shadow: 0px 1px 2px rgba(60, 64, 67, 0.3), 0px 1px 3px 1px rgba(60, 64, 67, 0.15);\n",
              "      fill: #174EA6;\n",
              "    }\n",
              "\n",
              "    [theme=dark] .colab-df-convert {\n",
              "      background-color: #3B4455;\n",
              "      fill: #D2E3FC;\n",
              "    }\n",
              "\n",
              "    [theme=dark] .colab-df-convert:hover {\n",
              "      background-color: #434B5C;\n",
              "      box-shadow: 0px 1px 3px 1px rgba(0, 0, 0, 0.15);\n",
              "      filter: drop-shadow(0px 1px 2px rgba(0, 0, 0, 0.3));\n",
              "      fill: #FFFFFF;\n",
              "    }\n",
              "  </style>\n",
              "\n",
              "      <script>\n",
              "        const buttonEl =\n",
              "          document.querySelector('#df-2b24a097-01f3-4d65-a273-7997d48eed25 button.colab-df-convert');\n",
              "        buttonEl.style.display =\n",
              "          google.colab.kernel.accessAllowed ? 'block' : 'none';\n",
              "\n",
              "        async function convertToInteractive(key) {\n",
              "          const element = document.querySelector('#df-2b24a097-01f3-4d65-a273-7997d48eed25');\n",
              "          const dataTable =\n",
              "            await google.colab.kernel.invokeFunction('convertToInteractive',\n",
              "                                                     [key], {});\n",
              "          if (!dataTable) return;\n",
              "\n",
              "          const docLinkHtml = 'Like what you see? Visit the ' +\n",
              "            '<a target=\"_blank\" href=https://colab.research.google.com/notebooks/data_table.ipynb>data table notebook</a>'\n",
              "            + ' to learn more about interactive tables.';\n",
              "          element.innerHTML = '';\n",
              "          dataTable['output_type'] = 'display_data';\n",
              "          await google.colab.output.renderOutput(dataTable, element);\n",
              "          const docLink = document.createElement('div');\n",
              "          docLink.innerHTML = docLinkHtml;\n",
              "          element.appendChild(docLink);\n",
              "        }\n",
              "      </script>\n",
              "    </div>\n",
              "  </div>\n"
            ]
          },
          "metadata": {},
          "execution_count": 41
        }
      ]
    },
    {
      "cell_type": "markdown",
      "source": [
        "#**Model**"
      ],
      "metadata": {
        "id": "GeQjEUmZVum7"
      }
    },
    {
      "cell_type": "markdown",
      "source": [
        "**Split Data into two parts Independent and Dependent Variables**"
      ],
      "metadata": {
        "id": "qPLpfQzZaaIO"
      }
    },
    {
      "cell_type": "code",
      "source": [
        "x = df2.iloc[:, [1,2,3,4,5,6,7]] # Independent variables for model"
      ],
      "metadata": {
        "id": "gzIAsxxqTFg7"
      },
      "execution_count": 42,
      "outputs": []
    },
    {
      "cell_type": "code",
      "source": [
        "y = df2[['claim']] # Dependent Variables for Model"
      ],
      "metadata": {
        "id": "1kJjubsETOF0"
      },
      "execution_count": 43,
      "outputs": []
    },
    {
      "cell_type": "markdown",
      "source": [
        "**Loading requared libraries**"
      ],
      "metadata": {
        "id": "zXth9Gj9a_Zf"
      }
    },
    {
      "cell_type": "code",
      "source": [
        "from sklearn.model_selection import train_test_split\n",
        "from sklearn.linear_model import LinearRegression\n",
        "from sklearn.metrics import mean_squared_error, mean_absolute_error"
      ],
      "metadata": {
        "id": "iPteDggYU2ZE"
      },
      "execution_count": 44,
      "outputs": []
    },
    {
      "cell_type": "markdown",
      "source": [
        "**Split data for Train and Text**"
      ],
      "metadata": {
        "id": "XgAvLET6WIhT"
      }
    },
    {
      "cell_type": "code",
      "source": [
        "x_train, x_test, y_train, y_test = train_test_split(x, y, test_size=0.2, random_state=14)"
      ],
      "metadata": {
        "id": "FrpqmMYvVlyz"
      },
      "execution_count": 45,
      "outputs": []
    },
    {
      "cell_type": "markdown",
      "source": [
        "**Creating model**"
      ],
      "metadata": {
        "id": "zTp9U3isbRAr"
      }
    },
    {
      "cell_type": "code",
      "source": [
        "Model = LinearRegression()"
      ],
      "metadata": {
        "id": "U4xYN7qiXH4N"
      },
      "execution_count": 46,
      "outputs": []
    },
    {
      "cell_type": "markdown",
      "source": [
        "**Training the Model**"
      ],
      "metadata": {
        "id": "xcIQwEmHbqh3"
      }
    },
    {
      "cell_type": "code",
      "source": [
        "Model.fit(x_train, y_train)"
      ],
      "metadata": {
        "colab": {
          "base_uri": "https://localhost:8080/",
          "height": 75
        },
        "id": "Mf_-9QSSfXIq",
        "outputId": "d5f59e9f-e6cd-4076-e153-1138071e51f7"
      },
      "execution_count": 47,
      "outputs": [
        {
          "output_type": "execute_result",
          "data": {
            "text/plain": [
              "LinearRegression()"
            ],
            "text/html": [
              "<style>#sk-container-id-1 {color: black;background-color: white;}#sk-container-id-1 pre{padding: 0;}#sk-container-id-1 div.sk-toggleable {background-color: white;}#sk-container-id-1 label.sk-toggleable__label {cursor: pointer;display: block;width: 100%;margin-bottom: 0;padding: 0.3em;box-sizing: border-box;text-align: center;}#sk-container-id-1 label.sk-toggleable__label-arrow:before {content: \"▸\";float: left;margin-right: 0.25em;color: #696969;}#sk-container-id-1 label.sk-toggleable__label-arrow:hover:before {color: black;}#sk-container-id-1 div.sk-estimator:hover label.sk-toggleable__label-arrow:before {color: black;}#sk-container-id-1 div.sk-toggleable__content {max-height: 0;max-width: 0;overflow: hidden;text-align: left;background-color: #f0f8ff;}#sk-container-id-1 div.sk-toggleable__content pre {margin: 0.2em;color: black;border-radius: 0.25em;background-color: #f0f8ff;}#sk-container-id-1 input.sk-toggleable__control:checked~div.sk-toggleable__content {max-height: 200px;max-width: 100%;overflow: auto;}#sk-container-id-1 input.sk-toggleable__control:checked~label.sk-toggleable__label-arrow:before {content: \"▾\";}#sk-container-id-1 div.sk-estimator input.sk-toggleable__control:checked~label.sk-toggleable__label {background-color: #d4ebff;}#sk-container-id-1 div.sk-label input.sk-toggleable__control:checked~label.sk-toggleable__label {background-color: #d4ebff;}#sk-container-id-1 input.sk-hidden--visually {border: 0;clip: rect(1px 1px 1px 1px);clip: rect(1px, 1px, 1px, 1px);height: 1px;margin: -1px;overflow: hidden;padding: 0;position: absolute;width: 1px;}#sk-container-id-1 div.sk-estimator {font-family: monospace;background-color: #f0f8ff;border: 1px dotted black;border-radius: 0.25em;box-sizing: border-box;margin-bottom: 0.5em;}#sk-container-id-1 div.sk-estimator:hover {background-color: #d4ebff;}#sk-container-id-1 div.sk-parallel-item::after {content: \"\";width: 100%;border-bottom: 1px solid gray;flex-grow: 1;}#sk-container-id-1 div.sk-label:hover label.sk-toggleable__label {background-color: #d4ebff;}#sk-container-id-1 div.sk-serial::before {content: \"\";position: absolute;border-left: 1px solid gray;box-sizing: border-box;top: 0;bottom: 0;left: 50%;z-index: 0;}#sk-container-id-1 div.sk-serial {display: flex;flex-direction: column;align-items: center;background-color: white;padding-right: 0.2em;padding-left: 0.2em;position: relative;}#sk-container-id-1 div.sk-item {position: relative;z-index: 1;}#sk-container-id-1 div.sk-parallel {display: flex;align-items: stretch;justify-content: center;background-color: white;position: relative;}#sk-container-id-1 div.sk-item::before, #sk-container-id-1 div.sk-parallel-item::before {content: \"\";position: absolute;border-left: 1px solid gray;box-sizing: border-box;top: 0;bottom: 0;left: 50%;z-index: -1;}#sk-container-id-1 div.sk-parallel-item {display: flex;flex-direction: column;z-index: 1;position: relative;background-color: white;}#sk-container-id-1 div.sk-parallel-item:first-child::after {align-self: flex-end;width: 50%;}#sk-container-id-1 div.sk-parallel-item:last-child::after {align-self: flex-start;width: 50%;}#sk-container-id-1 div.sk-parallel-item:only-child::after {width: 0;}#sk-container-id-1 div.sk-dashed-wrapped {border: 1px dashed gray;margin: 0 0.4em 0.5em 0.4em;box-sizing: border-box;padding-bottom: 0.4em;background-color: white;}#sk-container-id-1 div.sk-label label {font-family: monospace;font-weight: bold;display: inline-block;line-height: 1.2em;}#sk-container-id-1 div.sk-label-container {text-align: center;}#sk-container-id-1 div.sk-container {/* jupyter's `normalize.less` sets `[hidden] { display: none; }` but bootstrap.min.css set `[hidden] { display: none !important; }` so we also need the `!important` here to be able to override the default hidden behavior on the sphinx rendered scikit-learn.org. See: https://github.com/scikit-learn/scikit-learn/issues/21755 */display: inline-block !important;position: relative;}#sk-container-id-1 div.sk-text-repr-fallback {display: none;}</style><div id=\"sk-container-id-1\" class=\"sk-top-container\"><div class=\"sk-text-repr-fallback\"><pre>LinearRegression()</pre><b>In a Jupyter environment, please rerun this cell to show the HTML representation or trust the notebook. <br />On GitHub, the HTML representation is unable to render, please try loading this page with nbviewer.org.</b></div><div class=\"sk-container\" hidden><div class=\"sk-item\"><div class=\"sk-estimator sk-toggleable\"><input class=\"sk-toggleable__control sk-hidden--visually\" id=\"sk-estimator-id-1\" type=\"checkbox\" checked><label for=\"sk-estimator-id-1\" class=\"sk-toggleable__label sk-toggleable__label-arrow\">LinearRegression</label><div class=\"sk-toggleable__content\"><pre>LinearRegression()</pre></div></div></div></div></div>"
            ]
          },
          "metadata": {},
          "execution_count": 47
        }
      ]
    },
    {
      "cell_type": "markdown",
      "source": [
        "**Predict the test data**"
      ],
      "metadata": {
        "id": "CBZ7rioWbdz5"
      }
    },
    {
      "cell_type": "code",
      "source": [
        "y_pred = Model.predict(x_test)"
      ],
      "metadata": {
        "id": "_AYC1XwLjBuC"
      },
      "execution_count": 48,
      "outputs": []
    },
    {
      "cell_type": "code",
      "source": [
        "mean_absolute_error(y_test, y_pred)"
      ],
      "metadata": {
        "colab": {
          "base_uri": "https://localhost:8080/"
        },
        "id": "-cgdnYedj_PC",
        "outputId": "e6143293-be7b-4017-b35b-85f37470e5de"
      },
      "execution_count": 49,
      "outputs": [
        {
          "output_type": "execute_result",
          "data": {
            "text/plain": [
              "1046.8026699712816"
            ]
          },
          "metadata": {},
          "execution_count": 49
        }
      ]
    }
  ]
}